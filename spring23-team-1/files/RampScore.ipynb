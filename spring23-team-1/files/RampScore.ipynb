{
  "cells": [
    {
      "cell_type": "code",
      "execution_count": 4,
      "metadata": {},
      "outputs": [
        {
          "name": "stdout",
          "output_type": "stream",
          "text": [
            "Defaulting to user installation because normal site-packages is not writeable\n",
            "Collecting pandas\n",
            "  Downloading pandas-1.5.3-cp39-cp39-macosx_11_0_arm64.whl (11.0 MB)\n",
            "\u001b[K     |████████████████████████████████| 11.0 MB 4.1 MB/s eta 0:00:01\n",
            "\u001b[?25hRequirement already satisfied: python-dateutil>=2.8.1 in /Users/anarghsidhardhan/Library/Python/3.9/lib/python/site-packages (from pandas) (2.8.2)\n",
            "Collecting pytz>=2020.1\n",
            "  Downloading pytz-2022.7.1-py2.py3-none-any.whl (499 kB)\n",
            "\u001b[K     |████████████████████████████████| 499 kB 7.8 MB/s eta 0:00:01\n",
            "\u001b[?25hCollecting numpy>=1.20.3\n",
            "  Downloading numpy-1.24.2-cp39-cp39-macosx_11_0_arm64.whl (13.9 MB)\n",
            "\u001b[K     |████████████████████████████████| 13.9 MB 855 kB/s eta 0:00:01\n",
            "\u001b[?25hRequirement already satisfied: six>=1.5 in /Library/Developer/CommandLineTools/Library/Frameworks/Python3.framework/Versions/3.9/lib/python3.9/site-packages (from python-dateutil>=2.8.1->pandas) (1.15.0)\n",
            "Installing collected packages: pytz, numpy, pandas\n",
            "Successfully installed numpy-1.24.2 pandas-1.5.3 pytz-2022.7.1\n",
            "\u001b[33mWARNING: You are using pip version 21.2.4; however, version 23.0.1 is available.\n",
            "You should consider upgrading via the '/Library/Developer/CommandLineTools/usr/bin/python3 -m pip install --upgrade pip' command.\u001b[0m\n"
          ]
        }
      ],
      "source": [
        "!pip3 install pandas\n"
      ]
    },
    {
      "cell_type": "code",
      "execution_count": 7,
      "metadata": {},
      "outputs": [],
      "source": [
        "import json\n",
        "import pandas as pd\n",
        "\n",
        "with open(\"/Users/anarghsidhardhan/Documents/semester2/CS506-DS/Project/new_data/JSON files/Ramps New/Ramps New.json\",'r') as f:\n",
        "    data = json.loads(f.read())\n",
        "  \n",
        "df = pd.json_normalize(\n",
        "    data, \n",
        "    record_path =['features']\n",
        ")"
      ]
    },
    {
      "cell_type": "code",
      "execution_count": 8,
      "metadata": {},
      "outputs": [
        {
          "data": {
            "text/plain": [
              "<bound method NDFrame.head of           type     id geometry.type                      geometry.coordinates  \\\n",
              "0      Feature      0         Point   [-7911843.053800002, 5213855.430799998]   \n",
              "1      Feature      1         Point   [-7912104.434000002, 5213764.354100004]   \n",
              "2      Feature      2         Point  [-7912111.2201999985, 5213780.467799999]   \n",
              "3      Feature      3         Point    [-7912093.786999997, 5213788.37470001]   \n",
              "4      Feature      4         Point   [-7911853.312899999, 5213875.931500003]   \n",
              "...        ...    ...           ...                                       ...   \n",
              "26207  Feature  26207         Point        [-7908859.5842, 5213906.350699998]   \n",
              "26208  Feature  26208         Point        [-7908620.2472, 5213876.224299997]   \n",
              "26209  Feature  26209         Point              [-7908621.175, 5213877.0612]   \n",
              "26210  Feature  26210         Point        [-7908602.0033, 5213865.763899997]   \n",
              "26211  Feature  26211         Point        [-7910820.3533, 5209827.192599997]   \n",
              "\n",
              "       properties.FID  properties.ObjectID_1  properties.ObjectID_2  \\\n",
              "0                   0                      1                      1   \n",
              "1                   1                      2                      2   \n",
              "2                   2                      3                      3   \n",
              "3                   3                      4                      4   \n",
              "4                   4                      5                      5   \n",
              "...               ...                    ...                    ...   \n",
              "26207           26207                     47                      0   \n",
              "26208           26208                     48                      0   \n",
              "26209           26209                     49                      0   \n",
              "26210           26210                     50                      0   \n",
              "26211           26211                     51                      0   \n",
              "\n",
              "      properties.CREEC_Type properties.CREEC_Posi      properties.RAMP_MATL  \\\n",
              "0                  Diagonal              Diagonal  Portland Cement Concrete   \n",
              "1                  Diagonal              Diagonal  Portland Cement Concrete   \n",
              "2                  Diagonal              Diagonal  Portland Cement Concrete   \n",
              "3                  Diagonal              Diagonal  Portland Cement Concrete   \n",
              "4                  Diagonal              Diagonal  Portland Cement Concrete   \n",
              "...                     ...                   ...                       ...   \n",
              "26207                                                                         \n",
              "26208                                                                         \n",
              "26209                                                                         \n",
              "26210                                                                         \n",
              "26211                                                                         \n",
              "\n",
              "       ...                                   properties.Photo  \\\n",
              "0      ...  V:\\1794\\active\\179410852\\CREEC Ramps\\CREEC_QC_...   \n",
              "1      ...  V:\\1794\\active\\179410852\\CREEC Ramps\\CREEC_QC_...   \n",
              "2      ...  V:\\1794\\active\\179410852\\CREEC Ramps\\CREEC_QC_...   \n",
              "3      ...  V:\\1794\\active\\179410852\\CREEC Ramps\\CREEC_QC_...   \n",
              "4      ...  V:\\1794\\active\\179410852\\CREEC Ramps\\CREEC_QC_...   \n",
              "...    ...                                                ...   \n",
              "26207  ...                                                      \n",
              "26208  ...                                                      \n",
              "26209  ...                                                      \n",
              "26210  ...                                                      \n",
              "26211  ...                                                      \n",
              "\n",
              "      properties.NEAR_FID  properties.NEAR_DIST properties.FID_1  \\\n",
              "0                    7579             17.798542             7579   \n",
              "1                    7721             11.418106             7721   \n",
              "2                    7721             12.922239             7721   \n",
              "3                    7721             14.858769             7721   \n",
              "4                    7579             15.310391             7579   \n",
              "...                   ...                   ...              ...   \n",
              "26207                   0              0.000000                0   \n",
              "26208                   0              0.000000                0   \n",
              "26209                   0              0.000000                0   \n",
              "26210                   0              0.000000                0   \n",
              "26211                   0              0.000000                0   \n",
              "\n",
              "           properties.DESCRIPTIO  properties.INT_ID  \\\n",
              "0       Berkeley St / Newbury St                904   \n",
              "1      Clarendon St / Newbury St               2233   \n",
              "2      Clarendon St / Newbury St               2233   \n",
              "3      Clarendon St / Newbury St               2233   \n",
              "4       Berkeley St / Newbury St                904   \n",
              "...                          ...                ...   \n",
              "26207                                                 \n",
              "26208                                                 \n",
              "26209                                                 \n",
              "26210                                                 \n",
              "26211                                                 \n",
              "\n",
              "                  properties.Failure_Ty properties.score_1  \\\n",
              "0      Concrete FailurePvt/Cswk Failure          82.400000   \n",
              "1                      Pvt/Cswk Failure          92.800000   \n",
              "2      Concrete FailurePvt/Cswk Failure          66.341154   \n",
              "3                      Pvt/Cswk Failure          95.975000   \n",
              "4      Concrete FailurePvt/Cswk Failure          87.750000   \n",
              "...                                 ...                ...   \n",
              "26207                                             0.000000   \n",
              "26208                                             0.000000   \n",
              "26209                                             0.000000   \n",
              "26210                                             0.000000   \n",
              "26211                                             0.000000   \n",
              "\n",
              "                                   properties.Fail_Label  properties.RampID_1  \n",
              "0      Landing slope 4.6%; Gutter x-slope 3.2%; Cross...                904.2  \n",
              "1                      Lip exists; Crosswalk misaligned;               2233.3  \n",
              "2      Landing slope 2.9%; Apron slope 14%; Right fla...               2233.4  \n",
              "3             Gutter x-slope 3.3%; Crosswalk misaligned;               2233.1  \n",
              "4      Landing slope 2.1%; Gutter x-slope 4.5%; Cross...                904.1  \n",
              "...                                                  ...                  ...  \n",
              "26207                                                                          \n",
              "26208                                                                          \n",
              "26209                                                                          \n",
              "26210                                                                          \n",
              "26211                                                                          \n",
              "\n",
              "[26212 rows x 40 columns]>"
            ]
          },
          "execution_count": 8,
          "metadata": {},
          "output_type": "execute_result"
        }
      ],
      "source": [
        "df.head"
      ]
    },
    {
      "cell_type": "code",
      "execution_count": 10,
      "metadata": {},
      "outputs": [],
      "source": [
        "df.to_csv(\"./Ramp_score.csv\", index=False)\n"
      ]
    },
    {
      "cell_type": "code",
      "execution_count": null,
      "metadata": {},
      "outputs": [],
      "source": []
    }
  ],
  "metadata": {
    "colab": {
      "provenance": []
    },
    "kernelspec": {
      "display_name": "Python 3",
      "language": "python",
      "name": "python3"
    },
    "language_info": {
      "codemirror_mode": {
        "name": "ipython",
        "version": 3
      },
      "file_extension": ".py",
      "mimetype": "text/x-python",
      "name": "python",
      "nbconvert_exporter": "python",
      "pygments_lexer": "ipython3",
      "version": "3.9.6"
    },
    "vscode": {
      "interpreter": {
        "hash": "aee8b7b246df8f9039afb4144a1f6fd8d2ca17a180786b69acc140d282b71a49"
      }
    }
  },
  "nbformat": 4,
  "nbformat_minor": 0
}
