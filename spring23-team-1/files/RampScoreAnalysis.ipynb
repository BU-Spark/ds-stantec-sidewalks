{
  "cells": [
    {
      "cell_type": "code",
      "execution_count": 2,
      "metadata": {},
      "outputs": [
        {
          "name": "stdout",
          "output_type": "stream",
          "text": [
            "Defaulting to user installation because normal site-packages is not writeable\n",
            "Requirement already satisfied: pandas in /Users/anarghsidhardhan/Library/Python/3.9/lib/python/site-packages (1.5.3)\n",
            "Requirement already satisfied: numpy>=1.20.3 in /Users/anarghsidhardhan/Library/Python/3.9/lib/python/site-packages (from pandas) (1.24.2)\n",
            "Requirement already satisfied: python-dateutil>=2.8.1 in /Users/anarghsidhardhan/Library/Python/3.9/lib/python/site-packages (from pandas) (2.8.2)\n",
            "Requirement already satisfied: pytz>=2020.1 in /Users/anarghsidhardhan/Library/Python/3.9/lib/python/site-packages (from pandas) (2022.7.1)\n",
            "Requirement already satisfied: six>=1.5 in /Library/Developer/CommandLineTools/Library/Frameworks/Python3.framework/Versions/3.9/lib/python3.9/site-packages (from python-dateutil>=2.8.1->pandas) (1.15.0)\n",
            "\u001b[33mWARNING: You are using pip version 21.2.4; however, version 23.0.1 is available.\n",
            "You should consider upgrading via the '/Library/Developer/CommandLineTools/usr/bin/python3 -m pip install --upgrade pip' command.\u001b[0m\n",
            "Defaulting to user installation because normal site-packages is not writeable\n",
            "Requirement already satisfied: folium in /Users/anarghsidhardhan/Library/Python/3.9/lib/python/site-packages (0.14.0)\n",
            "Requirement already satisfied: numpy in /Users/anarghsidhardhan/Library/Python/3.9/lib/python/site-packages (from folium) (1.24.2)\n",
            "Requirement already satisfied: jinja2>=2.9 in /Users/anarghsidhardhan/Library/Python/3.9/lib/python/site-packages (from folium) (3.1.2)\n",
            "Requirement already satisfied: branca>=0.6.0 in /Users/anarghsidhardhan/Library/Python/3.9/lib/python/site-packages (from folium) (0.6.0)\n",
            "Requirement already satisfied: requests in /Users/anarghsidhardhan/Library/Python/3.9/lib/python/site-packages (from folium) (2.28.2)\n",
            "Requirement already satisfied: MarkupSafe>=2.0 in /Users/anarghsidhardhan/Library/Python/3.9/lib/python/site-packages (from jinja2>=2.9->folium) (2.1.2)\n",
            "Requirement already satisfied: certifi>=2017.4.17 in /Users/anarghsidhardhan/Library/Python/3.9/lib/python/site-packages (from requests->folium) (2022.12.7)\n",
            "Requirement already satisfied: urllib3<1.27,>=1.21.1 in /Users/anarghsidhardhan/Library/Python/3.9/lib/python/site-packages (from requests->folium) (1.26.15)\n",
            "Requirement already satisfied: charset-normalizer<4,>=2 in /Users/anarghsidhardhan/Library/Python/3.9/lib/python/site-packages (from requests->folium) (3.1.0)\n",
            "Requirement already satisfied: idna<4,>=2.5 in /Users/anarghsidhardhan/Library/Python/3.9/lib/python/site-packages (from requests->folium) (3.4)\n",
            "\u001b[33mWARNING: You are using pip version 21.2.4; however, version 23.0.1 is available.\n",
            "You should consider upgrading via the '/Library/Developer/CommandLineTools/usr/bin/python3 -m pip install --upgrade pip' command.\u001b[0m\n",
            "Defaulting to user installation because normal site-packages is not writeable\n",
            "Requirement already satisfied: matplotlib in /Users/anarghsidhardhan/Library/Python/3.9/lib/python/site-packages (3.7.1)\n",
            "Requirement already satisfied: numpy>=1.20 in /Users/anarghsidhardhan/Library/Python/3.9/lib/python/site-packages (from matplotlib) (1.24.2)\n",
            "Requirement already satisfied: importlib-resources>=3.2.0 in /Users/anarghsidhardhan/Library/Python/3.9/lib/python/site-packages (from matplotlib) (5.12.0)\n",
            "Requirement already satisfied: packaging>=20.0 in /Users/anarghsidhardhan/Library/Python/3.9/lib/python/site-packages (from matplotlib) (23.0)\n",
            "Requirement already satisfied: cycler>=0.10 in /Users/anarghsidhardhan/Library/Python/3.9/lib/python/site-packages (from matplotlib) (0.11.0)\n",
            "Requirement already satisfied: contourpy>=1.0.1 in /Users/anarghsidhardhan/Library/Python/3.9/lib/python/site-packages (from matplotlib) (1.0.7)\n",
            "Requirement already satisfied: pillow>=6.2.0 in /Users/anarghsidhardhan/Library/Python/3.9/lib/python/site-packages (from matplotlib) (9.4.0)\n",
            "Requirement already satisfied: kiwisolver>=1.0.1 in /Users/anarghsidhardhan/Library/Python/3.9/lib/python/site-packages (from matplotlib) (1.4.4)\n",
            "Requirement already satisfied: pyparsing>=2.3.1 in /Users/anarghsidhardhan/Library/Python/3.9/lib/python/site-packages (from matplotlib) (3.0.9)\n",
            "Requirement already satisfied: python-dateutil>=2.7 in /Users/anarghsidhardhan/Library/Python/3.9/lib/python/site-packages (from matplotlib) (2.8.2)\n",
            "Requirement already satisfied: fonttools>=4.22.0 in /Users/anarghsidhardhan/Library/Python/3.9/lib/python/site-packages (from matplotlib) (4.39.2)\n",
            "Requirement already satisfied: zipp>=3.1.0 in /Users/anarghsidhardhan/Library/Python/3.9/lib/python/site-packages (from importlib-resources>=3.2.0->matplotlib) (3.13.0)\n",
            "Requirement already satisfied: six>=1.5 in /Library/Developer/CommandLineTools/Library/Frameworks/Python3.framework/Versions/3.9/lib/python3.9/site-packages (from python-dateutil>=2.7->matplotlib) (1.15.0)\n",
            "\u001b[33mWARNING: You are using pip version 21.2.4; however, version 23.0.1 is available.\n",
            "You should consider upgrading via the '/Library/Developer/CommandLineTools/usr/bin/python3 -m pip install --upgrade pip' command.\u001b[0m\n"
          ]
        }
      ],
      "source": [
        "!pip3 install pandas\n",
        "!pip3 install folium\n",
        "!pip3 install matplotlib\n"
      ]
    },
    {
      "cell_type": "code",
      "execution_count": 1,
      "metadata": {},
      "outputs": [
        {
          "data": {
            "text/html": [
              "<div>\n",
              "<style scoped>\n",
              "    .dataframe tbody tr th:only-of-type {\n",
              "        vertical-align: middle;\n",
              "    }\n",
              "\n",
              "    .dataframe tbody tr th {\n",
              "        vertical-align: top;\n",
              "    }\n",
              "\n",
              "    .dataframe thead th {\n",
              "        text-align: right;\n",
              "    }\n",
              "</style>\n",
              "<table border=\"1\" class=\"dataframe\">\n",
              "  <thead>\n",
              "    <tr style=\"text-align: right;\">\n",
              "      <th></th>\n",
              "      <th>Unnamed: 0</th>\n",
              "      <th>FID</th>\n",
              "      <th>ObjectID</th>\n",
              "      <th>ObjectID_1</th>\n",
              "      <th>CREEC_Type</th>\n",
              "      <th>CREEC_Posi</th>\n",
              "      <th>RAMP_MATL</th>\n",
              "      <th>THR_WIDTH</th>\n",
              "      <th>LAND_EXIST</th>\n",
              "      <th>LANDING_SL</th>\n",
              "      <th>...</th>\n",
              "      <th>Bearing</th>\n",
              "      <th>Dwy</th>\n",
              "      <th>RAMP_ID_1</th>\n",
              "      <th>Ramp_ID_d</th>\n",
              "      <th>Longitude</th>\n",
              "      <th>Latitude</th>\n",
              "      <th>address</th>\n",
              "      <th>postal</th>\n",
              "      <th>neighborhood</th>\n",
              "      <th>score_1</th>\n",
              "    </tr>\n",
              "  </thead>\n",
              "  <tbody>\n",
              "    <tr>\n",
              "      <th>0</th>\n",
              "      <td>0</td>\n",
              "      <td>1176</td>\n",
              "      <td>1</td>\n",
              "      <td>1</td>\n",
              "      <td>Diagonal</td>\n",
              "      <td>Diagonal</td>\n",
              "      <td>Portland Cement Concrete</td>\n",
              "      <td>5.0</td>\n",
              "      <td>Yes</td>\n",
              "      <td>4.6</td>\n",
              "      <td>...</td>\n",
              "      <td>111.498126</td>\n",
              "      <td></td>\n",
              "      <td>904.2</td>\n",
              "      <td>904.2</td>\n",
              "      <td>-71.073295</td>\n",
              "      <td>42.352009</td>\n",
              "      <td>Brooks Brothers, 46, Newbury Street, Back Bay,...</td>\n",
              "      <td>02116</td>\n",
              "      <td>Back Bay</td>\n",
              "      <td>82.400000</td>\n",
              "    </tr>\n",
              "    <tr>\n",
              "      <th>1</th>\n",
              "      <td>1</td>\n",
              "      <td>1211</td>\n",
              "      <td>2</td>\n",
              "      <td>2</td>\n",
              "      <td>Diagonal</td>\n",
              "      <td>Diagonal</td>\n",
              "      <td>Portland Cement Concrete</td>\n",
              "      <td>5.0</td>\n",
              "      <td>Yes</td>\n",
              "      <td>0.7</td>\n",
              "      <td>...</td>\n",
              "      <td>204.869440</td>\n",
              "      <td></td>\n",
              "      <td>2233.3</td>\n",
              "      <td>2233.3</td>\n",
              "      <td>-71.075643</td>\n",
              "      <td>42.351405</td>\n",
              "      <td>110, Newbury Street, Back Bay, Boston, Suffolk...</td>\n",
              "      <td>02116</td>\n",
              "      <td>Back Bay</td>\n",
              "      <td>92.800000</td>\n",
              "    </tr>\n",
              "    <tr>\n",
              "      <th>2</th>\n",
              "      <td>2</td>\n",
              "      <td>1212</td>\n",
              "      <td>3</td>\n",
              "      <td>3</td>\n",
              "      <td>Diagonal</td>\n",
              "      <td>Diagonal</td>\n",
              "      <td>Portland Cement Concrete</td>\n",
              "      <td>5.0</td>\n",
              "      <td>Yes</td>\n",
              "      <td>2.9</td>\n",
              "      <td>...</td>\n",
              "      <td>296.326186</td>\n",
              "      <td></td>\n",
              "      <td>2233.4</td>\n",
              "      <td>2233.4</td>\n",
              "      <td>-71.075704</td>\n",
              "      <td>42.351512</td>\n",
              "      <td>Cole Haan, 109, Newbury Street, Back Bay, Bost...</td>\n",
              "      <td>02116</td>\n",
              "      <td>Back Bay</td>\n",
              "      <td>66.341154</td>\n",
              "    </tr>\n",
              "    <tr>\n",
              "      <th>3</th>\n",
              "      <td>3</td>\n",
              "      <td>1213</td>\n",
              "      <td>4</td>\n",
              "      <td>4</td>\n",
              "      <td>Diagonal</td>\n",
              "      <td>Diagonal</td>\n",
              "      <td>Portland Cement Concrete</td>\n",
              "      <td>5.0</td>\n",
              "      <td>Yes</td>\n",
              "      <td>1.1</td>\n",
              "      <td>...</td>\n",
              "      <td>23.302030</td>\n",
              "      <td></td>\n",
              "      <td>2233.1</td>\n",
              "      <td>2233.1</td>\n",
              "      <td>-71.075548</td>\n",
              "      <td>42.351564</td>\n",
              "      <td>103-105, Newbury Street, Back Bay, Boston, Suf...</td>\n",
              "      <td>02116</td>\n",
              "      <td>Back Bay</td>\n",
              "      <td>95.975000</td>\n",
              "    </tr>\n",
              "    <tr>\n",
              "      <th>4</th>\n",
              "      <td>4</td>\n",
              "      <td>1214</td>\n",
              "      <td>5</td>\n",
              "      <td>5</td>\n",
              "      <td>Diagonal</td>\n",
              "      <td>Diagonal</td>\n",
              "      <td>Portland Cement Concrete</td>\n",
              "      <td>4.5</td>\n",
              "      <td>Yes</td>\n",
              "      <td>2.1</td>\n",
              "      <td>...</td>\n",
              "      <td>24.348423</td>\n",
              "      <td></td>\n",
              "      <td>904.1</td>\n",
              "      <td>904.1</td>\n",
              "      <td>-71.073388</td>\n",
              "      <td>42.352145</td>\n",
              "      <td>39-47, Newbury Street, Back Bay, Boston, Suffo...</td>\n",
              "      <td>02116</td>\n",
              "      <td>Back Bay</td>\n",
              "      <td>87.750000</td>\n",
              "    </tr>\n",
              "  </tbody>\n",
              "</table>\n",
              "<p>5 rows × 49 columns</p>\n",
              "</div>"
            ],
            "text/plain": [
              "   Unnamed: 0   FID  ObjectID  ObjectID_1 CREEC_Type CREEC_Posi  \\\n",
              "0           0  1176         1           1   Diagonal   Diagonal   \n",
              "1           1  1211         2           2   Diagonal   Diagonal   \n",
              "2           2  1212         3           3   Diagonal   Diagonal   \n",
              "3           3  1213         4           4   Diagonal   Diagonal   \n",
              "4           4  1214         5           5   Diagonal   Diagonal   \n",
              "\n",
              "                  RAMP_MATL  THR_WIDTH LAND_EXIST  LANDING_SL  ...  \\\n",
              "0  Portland Cement Concrete        5.0        Yes         4.6  ...   \n",
              "1  Portland Cement Concrete        5.0        Yes         0.7  ...   \n",
              "2  Portland Cement Concrete        5.0        Yes         2.9  ...   \n",
              "3  Portland Cement Concrete        5.0        Yes         1.1  ...   \n",
              "4  Portland Cement Concrete        4.5        Yes         2.1  ...   \n",
              "\n",
              "      Bearing  Dwy  RAMP_ID_1 Ramp_ID_d  Longitude   Latitude  \\\n",
              "0  111.498126           904.2     904.2 -71.073295  42.352009   \n",
              "1  204.869440          2233.3    2233.3 -71.075643  42.351405   \n",
              "2  296.326186          2233.4    2233.4 -71.075704  42.351512   \n",
              "3   23.302030          2233.1    2233.1 -71.075548  42.351564   \n",
              "4   24.348423           904.1     904.1 -71.073388  42.352145   \n",
              "\n",
              "                                             address postal neighborhood  \\\n",
              "0  Brooks Brothers, 46, Newbury Street, Back Bay,...  02116     Back Bay   \n",
              "1  110, Newbury Street, Back Bay, Boston, Suffolk...  02116     Back Bay   \n",
              "2  Cole Haan, 109, Newbury Street, Back Bay, Bost...  02116     Back Bay   \n",
              "3  103-105, Newbury Street, Back Bay, Boston, Suf...  02116     Back Bay   \n",
              "4  39-47, Newbury Street, Back Bay, Boston, Suffo...  02116     Back Bay   \n",
              "\n",
              "     score_1  \n",
              "0  82.400000  \n",
              "1  92.800000  \n",
              "2  66.341154  \n",
              "3  95.975000  \n",
              "4  87.750000  \n",
              "\n",
              "[5 rows x 49 columns]"
            ]
          },
          "execution_count": 1,
          "metadata": {},
          "output_type": "execute_result"
        }
      ],
      "source": [
        "import pandas as pd\n",
        "\n",
        "csv_file = pd.read_csv(\"../data/Ramps_0_with_score.csv\")\n",
        "csv_file.head()"
      ]
    },
    {
      "cell_type": "code",
      "execution_count": 14,
      "metadata": {},
      "outputs": [],
      "source": [
        "import folium\n",
        "from folium import plugins, Map\n",
        "\n",
        "\n",
        "base_map = Map(location=[42.361145, -71.057083],zoom_start = 30)\n",
        "\n",
        "\n"
      ]
    },
    {
      "cell_type": "code",
      "execution_count": 16,
      "metadata": {},
      "outputs": [],
      "source": [
        "low_score = csv_file[csv_file[\"score_1\"] <20]\n",
        "\n",
        "for point in range(0, len(low_score)):\n",
        "    folium.CircleMarker([low_score.iloc[point]['Latitude'], low_score.iloc[point]['Longitude']],color = 'red', fill = True, fill_color = 'red').add_to(base_map)\n",
        "\n",
        "base_map.save(\"../maps/ramps_score/low_ramp_score.html\")"
      ]
    },
    {
      "cell_type": "code",
      "execution_count": 29,
      "metadata": {},
      "outputs": [
        {
          "data": {
            "image/png": "[encoded data removed]",
            "text/plain": [
              "<Figure size 1000x600 with 1 Axes>"
            ]
          },
          "metadata": {},
          "output_type": "display_data"
        }
      ],
      "source": [
        "score_0 = len(csv_file[csv_file[\"score_1\"] ==0])\n",
        "score_20 = len(csv_file[(csv_file[\"score_1\"] >0) & (csv_file[\"score_1\"] <=20)])\n",
        "score_40 = len(csv_file[(csv_file[\"score_1\"] >20) & (csv_file[\"score_1\"] <=40)])\n",
        "score_60 = len(csv_file[(csv_file[\"score_1\"] >40) & (csv_file[\"score_1\"] <=60)])\n",
        "score_80 = len(csv_file[(csv_file[\"score_1\"] >60) & (csv_file[\"score_1\"] <=80)])\n",
        "score_100 = len(csv_file[(csv_file[\"score_1\"] >80) & (csv_file[\"score_1\"] <=100)])\n",
        "\n",
        "import matplotlib.pyplot as plt\n",
        "plt.figure(figsize=(10,6))\n",
        "plt1=plt.bar(['score 0','score [1,20]','score (20,40] ','score (40,60]','score (60,80]','score (80,100]'],[score_0,score_20,score_40,score_60,score_80,score_100])\n",
        "plt.bar_label(plt1)\n",
        "plt.xlabel(\"Ramp Score\")\n",
        "plt.ylabel('Count')\n",
        "plt.title(\"Ramp Score Analysis\")\n",
        "plt.savefig(\"../graphs/ramps_score/RampScore.pdf\")"
      ]
    },
    {
      "cell_type": "code",
      "execution_count": 20,
      "metadata": {},
      "outputs": [
        {
          "data": {
            "text/plain": [
              "neighborhood\n",
              "Dorchester             552\n",
              "West Roxbury           358\n",
              "Roxbury                346\n",
              "Hyde Park              337\n",
              "South Boston           291\n",
              "Roslindale             245\n",
              "East Boston            233\n",
              "Mattapan               223\n",
              "Jamaica Plain          209\n",
              "Beacon Hill            184\n",
              "Brighton               181\n",
              "South End              151\n",
              "Charlestown            136\n",
              "Back Bay               121\n",
              "Downtown Boston        114\n",
              "Allston                 98\n",
              "Fenway / Kenmore        84\n",
              "North End               83\n",
              "Mission Hill            78\n",
              "Bay Village             46\n",
              "West End                36\n",
              "Dock Square             28\n",
              "Chinatown               24\n",
              "Cambridgeport           14\n",
              "Saint Mary's Street      4\n",
              "Riverdale                3\n",
              "Chestnut Hill            2\n",
              "Copley Bridge            1\n",
              "Mountfort Street         1\n",
              "Ashmont                  1\n",
              "Baker Street             1\n",
              "Beaconsfield             1\n",
              "Name: ObjectID, dtype: int64"
            ]
          },
          "execution_count": 20,
          "metadata": {},
          "output_type": "execute_result"
        }
      ],
      "source": [
        "low_score = low_score.groupby(\"neighborhood\")['ObjectID'].count()\n",
        "low_score.sort_values(ascending=False)"
      ]
    },
    {
      "cell_type": "code",
      "execution_count": 23,
      "metadata": {},
      "outputs": [
        {
          "data": {
            "text/plain": [
              "LANDING_CO\n",
              "                                                                        6117\n",
              "Excellent (Like new)                                                   14770\n",
              "Fair (Minor/Hairline damage with no impact to accessibility)            4897\n",
              "Poor (Panel is damaged and affecting functionality- to be replaced)      375\n",
              "Name: FID, dtype: int64"
            ]
          },
          "execution_count": 23,
          "metadata": {},
          "output_type": "execute_result"
        }
      ],
      "source": [
        "csv_file.groupby('LANDING_CO')['FID'].count()"
      ]
    },
    {
      "cell_type": "code",
      "execution_count": 27,
      "metadata": {},
      "outputs": [
        {
          "data": {
            "text/plain": [
              "neighborhood\n",
              "Roxbury             62\n",
              "Dorchester          56\n",
              "Jamaica Plain       37\n",
              "West Roxbury        30\n",
              "Hyde Park           27\n",
              "South Boston        24\n",
              "Roslindale          17\n",
              "South End           14\n",
              "Beacon Hill         12\n",
              "Mattapan            12\n",
              "Mission Hill        11\n",
              "Brighton             9\n",
              "Charlestown          9\n",
              "North End            9\n",
              "Allston              7\n",
              "East Boston          7\n",
              "Fenway / Kenmore     7\n",
              "Back Bay             5\n",
              "Chinatown            5\n",
              "West End             5\n",
              "Dock Square          4\n",
              "Downtown Boston      2\n",
              "Bay Village          2\n",
              "Riverdale            1\n",
              "Cambridgeport        1\n",
              "Name: ObjectID, dtype: int64"
            ]
          },
          "execution_count": 27,
          "metadata": {},
          "output_type": "execute_result"
        }
      ],
      "source": [
        "landing_condition = csv_file[csv_file[\"LANDING_CO\"] == \"Poor (Panel is damaged and affecting functionality- to be replaced)\"]\n",
        "landing_condition = landing_condition.groupby(\"neighborhood\")['ObjectID'].count()\n",
        "landing_condition.sort_values(ascending=False)"
      ]
    },
    {
      "cell_type": "code",
      "execution_count": 28,
      "metadata": {},
      "outputs": [
        {
          "data": {
            "text/plain": [
              "neighborhood\n",
              "Dorchester                         2013\n",
              "Roxbury                            1710\n",
              "South Boston                       1366\n",
              "West Roxbury                       1038\n",
              "Hyde Park                           906\n",
              "Brighton                            846\n",
              "Roslindale                          829\n",
              "Mattapan                            721\n",
              "Jamaica Plain                       674\n",
              "South End                           649\n",
              "East Boston                         613\n",
              "Charlestown                         587\n",
              "Fenway / Kenmore                    567\n",
              "Allston                             492\n",
              "Downtown Boston                     351\n",
              "Back Bay                            279\n",
              "North End                           238\n",
              "Mission Hill                        229\n",
              "West End                            178\n",
              "Beacon Hill                         142\n",
              "Bay Village                         108\n",
              "Chinatown                            59\n",
              "Cambridgeport                        50\n",
              "Dock Square                          46\n",
              "Chestnut Hill                        18\n",
              "Downtown Crossing                    17\n",
              "Essex Street                         10\n",
              "Saint Mary's Street                   5\n",
              "Villa Victoria                        5\n",
              "Beacon Street                         4\n",
              "Leather District                      2\n",
              "Government Service Center Plaza       2\n",
              "Ashmont                               2\n",
              "Phillips Square Tactical Plaza        2\n",
              "North Brookline                       1\n",
              "Putterham                             1\n",
              "Riverdale                             1\n",
              "East Cambridge                        1\n",
              "Courtney Road                         1\n",
              "Copley Bridge                         1\n",
              "Church Green                          1\n",
              "Beaconsfield                          1\n",
              "Woodmere                              1\n",
              "Name: ObjectID, dtype: int64"
            ]
          },
          "execution_count": 28,
          "metadata": {},
          "output_type": "execute_result"
        }
      ],
      "source": [
        "landing_condition_excellent = csv_file[csv_file[\"LANDING_CO\"] == \"Excellent (Like new)\"]\n",
        "landing_condition_excellent = landing_condition_excellent.groupby(\"neighborhood\")['ObjectID'].count()\n",
        "landing_condition_excellent.sort_values(ascending=False)"
      ]
    },
    {
      "cell_type": "code",
      "execution_count": 25,
      "metadata": {},
      "outputs": [
        {
          "data": {
            "text/plain": [
              "CROSS_\n",
              "                                         2\n",
              "Crosswalk aligned                    11650\n",
              "Crosswalk misaligned                   903\n",
              "Crosswalk misaligned (apex issue)     2024\n",
              "Misaligned Crosswalk                   481\n",
              "No Crosswalk                         11099\n",
              "Name: FID, dtype: int64"
            ]
          },
          "execution_count": 25,
          "metadata": {},
          "output_type": "execute_result"
        }
      ],
      "source": [
        "csv_file.groupby('CROSS_')['FID'].count()"
      ]
    },
    {
      "cell_type": "code",
      "execution_count": 24,
      "metadata": {},
      "outputs": [
        {
          "data": {
            "text/plain": [
              "SAFE_ZONE_\n",
              "                                                   2320\n",
              "Excellent (pavement in good condition)            13351\n",
              "Fair (pavement in fair condition)                  9640\n",
              "Poor (pavement in poor/inaccessible condition)      848\n",
              "Name: FID, dtype: int64"
            ]
          },
          "execution_count": 24,
          "metadata": {},
          "output_type": "execute_result"
        }
      ],
      "source": [
        "\n",
        "csv_file.groupby('SAFE_ZONE_')['FID'].count()"
      ]
    },
    {
      "cell_type": "code",
      "execution_count": 26,
      "metadata": {},
      "outputs": [
        {
          "data": {
            "text/plain": [
              "RAMP_COND\n",
              "                                                                        4134\n",
              "Excellent (Like new)                                                   15119\n",
              "Fair (Minor/Hairline damage with no impact to accessibility)            6241\n",
              "Poor (Panel is damaged and affecting functionality- to be replaced)      665\n",
              "Name: FID, dtype: int64"
            ]
          },
          "execution_count": 26,
          "metadata": {},
          "output_type": "execute_result"
        }
      ],
      "source": [
        "csv_file.groupby('RAMP_COND')['FID'].count()\n"
      ]
    },
    {
      "cell_type": "code",
      "execution_count": 10,
      "metadata": {},
      "outputs": [
        {
          "data": {
            "text/plain": [
              "ADA_Compli\n",
              "Compliant                   3289\n",
              "Not Compliant              20809\n",
              "Not Compliant - Missing     2061\n",
              "Name: FID, dtype: int64"
            ]
          },
          "execution_count": 10,
          "metadata": {},
          "output_type": "execute_result"
        }
      ],
      "source": [
        "csv_file.groupby('ADA_Compli')['FID'].count()"
      ]
    },
    {
      "cell_type": "code",
      "execution_count": 17,
      "metadata": {},
      "outputs": [
        {
          "data": {
            "text/plain": [
              "Unnamed: 0      20809\n",
              "FID             20809\n",
              "ObjectID        20809\n",
              "ObjectID_1      20809\n",
              "CREEC_Type      20809\n",
              "CREEC_Posi      20809\n",
              "RAMP_MATL       20809\n",
              "THR_WIDTH       20809\n",
              "LAND_EXIST      20809\n",
              "LANDING_SL      20809\n",
              "LANDING_CO      20809\n",
              "APRON_SL        20809\n",
              "LFLARE_SL       20809\n",
              "DWP_MATL        20809\n",
              "DWP_COND        20809\n",
              "GUTTER_SL       20809\n",
              "GUTTER_CS       20809\n",
              "LIP             20809\n",
              "CROSS_          20809\n",
              "RFLARE_SL       20809\n",
              "SAFE_ZONE_      20809\n",
              "RAMP_OBSTR      20809\n",
              "FLARE_OBST      20809\n",
              "APRON_CROS      20809\n",
              "Crosswalk_      20809\n",
              "RAMP_COND       20809\n",
              "ADA_Compli      20809\n",
              "Photo           20809\n",
              "ObjectID_3      20809\n",
              "Failure_Ty      20809\n",
              "Failure_La      20809\n",
              "NEAR_FID        20809\n",
              "NEAR_DIST       20809\n",
              "INT_ID          20809\n",
              "I_NEARDIST      20809\n",
              "I_NEARFID       20809\n",
              "PARC_ID         20809\n",
              "AT_INT          20809\n",
              "NEAR_ANGLE      20809\n",
              "Bearing         20809\n",
              "Dwy             20809\n",
              "RAMP_ID_1       20809\n",
              "Ramp_ID_d       20809\n",
              "Longitude       20809\n",
              "Latitude        20809\n",
              "address         20809\n",
              "postal          20807\n",
              "neighborhood    20807\n",
              "score_1         20809\n",
              "dtype: int64"
            ]
          },
          "execution_count": 17,
          "metadata": {},
          "output_type": "execute_result"
        }
      ],
      "source": [
        "\n",
        "import folium\n",
        "from folium import plugins, Map\n",
        "not_compliant = csv_file[csv_file['ADA_Compli']=='Not Compliant']\n",
        "\n",
        "base_map_2 = Map(location=[42.361145, -71.057083],zoom_start = 30)\n",
        "for point in range(0, len(not_compliant)):\n",
        "    folium.CircleMarker([not_compliant.iloc[point]['Latitude'], not_compliant.iloc[point]['Longitude']],color = 'yellow', fill = True, fill_color = 'yellow').add_to(base_map_2)\n",
        "\n",
        "base_map_2.save(\"../maps/ramps_score/ada_not_compliant.html\")\n",
        "not_compliant.count()"
      ]
    },
    {
      "cell_type": "code",
      "execution_count": 43,
      "metadata": {},
      "outputs": [],
      "source": [
        "# neighbourhood_tracker = not_compliant.groupby(\"Street\")[\"id\"].count()\n",
        "# neighbourhood_tracker\n",
        "# import matplotlib.pyplot as plt\n",
        "# plt.figure(figsize=(90,40))\n",
        "# plt1= plt.bar(neighbourhood_tracker.index,neighbourhood_tracker)\n",
        "# plt.bar_label(plt1)\n",
        "# plt.xlabel(\"Street\")\n",
        "# plt.ylabel('Count')\n",
        "# plt.title(\"ADA not compliant Counts in each neighbourhood\")\n",
        "# # plt.savefig(\"./÷ADA_Compliance_Failed.pdf\")\n",
        "\n",
        "# #plt.close()"
      ]
    },
    {
      "cell_type": "code",
      "execution_count": 34,
      "metadata": {},
      "outputs": [
        {
          "data": {
            "text/plain": [
              "neighborhood  FID  \n",
              "Allston       3        1\n",
              "              5        1\n",
              "              6        1\n",
              "              8        1\n",
              "              13       1\n",
              "                      ..\n",
              "West Roxbury  24975    1\n",
              "              24976    1\n",
              "              24981    1\n",
              "              26160    1\n",
              "Woodmere      3329     1\n",
              "Name: FID, Length: 20807, dtype: int64"
            ]
          },
          "execution_count": 34,
          "metadata": {},
          "output_type": "execute_result"
        }
      ],
      "source": [
        "not_compliant_neighbourhood = not_compliant.groupby(\"neighborhood\")['FID'].value_counts(ascending=False)\n",
        "# not_compliant_neighbourhood"
      ]
    },
    {
      "cell_type": "code",
      "execution_count": 27,
      "metadata": {},
      "outputs": [
        {
          "data": {
            "text/plain": [
              "neighborhood\n",
              "Dorchester                         2784\n",
              "Roxbury                            2280\n",
              "South Boston                       1874\n",
              "West Roxbury                       1427\n",
              "Hyde Park                          1223\n",
              "Brighton                           1137\n",
              "Roslindale                         1117\n",
              "East Boston                        1089\n",
              "Mattapan                           1017\n",
              "Jamaica Plain                       942\n",
              "South End                           929\n",
              "Charlestown                         899\n",
              "Fenway / Kenmore                    728\n",
              "Allston                             630\n",
              "Back Bay                            501\n",
              "Downtown Boston                     471\n",
              "Mission Hill                        406\n",
              "Beacon Hill                         311\n",
              "North End                           297\n",
              "West End                            269\n",
              "Bay Village                         161\n",
              "Chinatown                            94\n",
              "Cambridgeport                        73\n",
              "Dock Square                          65\n",
              "Chestnut Hill                        21\n",
              "Downtown Crossing                    14\n",
              "Saint Mary's Street                   7\n",
              "Riverdale                             7\n",
              "Villa Victoria                        5\n",
              "Essex Street                          4\n",
              "Beacon Street                         4\n",
              "Ashmont                               3\n",
              "Putterham                             2\n",
              "Euston Street                         2\n",
              "Government Service Center Plaza       2\n",
              "Colchester Street                     2\n",
              "Phillips Square Tactical Plaza        1\n",
              "Leather District                      1\n",
              "Ivy Street                            1\n",
              "Financial District                    1\n",
              "East Cambridge                        1\n",
              "Courtney Road                         1\n",
              "Copley Bridge                         1\n",
              "Church Green                          1\n",
              "Beaconsfield                          1\n",
              "Woodmere                              1\n",
              "Name: FID, dtype: int64"
            ]
          },
          "execution_count": 27,
          "metadata": {},
          "output_type": "execute_result"
        }
      ],
      "source": [
        "not_compliant_neighbourhood.sort_values(ascending=False)"
      ]
    },
    {
      "cell_type": "code",
      "execution_count": 28,
      "metadata": {},
      "outputs": [],
      "source": [
        "not_compliant_neighbourhood = pd.DataFrame(not_compliant_neighbourhood)"
      ]
    },
    {
      "cell_type": "code",
      "execution_count": 31,
      "metadata": {},
      "outputs": [
        {
          "data": {
            "text/plain": [
              "1431"
            ]
          },
          "execution_count": 31,
          "metadata": {},
          "output_type": "execute_result"
        }
      ],
      "source": [
        "neighbor_count = csv_file[csv_file['neighborhood']=='Roslindale']\n",
        "len(neighbor_count)"
      ]
    },
    {
      "cell_type": "code",
      "execution_count": 21,
      "metadata": {},
      "outputs": [
        {
          "data": {
            "text/plain": [
              "neighborhood\n",
              "Dorchester                         1980\n",
              "Roxbury                            1721\n",
              "South Boston                       1458\n",
              "West Roxbury                       1072\n",
              "Brighton                            897\n",
              "Hyde Park                           896\n",
              "Roslindale                          799\n",
              "Jamaica Plain                       747\n",
              "Mattapan                            665\n",
              "South End                           659\n",
              "East Boston                         643\n",
              "Charlestown                         626\n",
              "Fenway / Kenmore                    600\n",
              "Allston                             513\n",
              "Downtown Boston                     370\n",
              "Back Bay                            297\n",
              "North End                           251\n",
              "Mission Hill                        231\n",
              "West End                            186\n",
              "Beacon Hill                         147\n",
              "Bay Village                         112\n",
              "Chinatown                            61\n",
              "Cambridgeport                        55\n",
              "Dock Square                          53\n",
              "Chestnut Hill                        19\n",
              "Downtown Crossing                    17\n",
              "Essex Street                         10\n",
              "Villa Victoria                        5\n",
              "Saint Mary's Street                   4\n",
              "Beacon Street                         4\n",
              "Leather District                      2\n",
              "Government Service Center Plaza       2\n",
              "Ashmont                               2\n",
              "Phillips Square Tactical Plaza        2\n",
              "Riverdale                             2\n",
              "North Brookline                       1\n",
              "Putterham                             1\n",
              "East Cambridge                        1\n",
              "Courtney Road                         1\n",
              "Copley Bridge                         1\n",
              "Church Green                          1\n",
              "Beaconsfield                          1\n",
              "Woodmere                              1\n",
              "Name: ObjectID, dtype: int64"
            ]
          },
          "execution_count": 21,
          "metadata": {},
          "output_type": "execute_result"
        }
      ],
      "source": [
        "ramps_e = csv_file[csv_file['RAMP_COND']=='Excellent (Like new)']\n",
        "ramps_e = ramps_e.groupby(\"neighborhood\")['ObjectID'].count()\n",
        "ramps_e.sort_values(ascending=False)"
      ]
    },
    {
      "cell_type": "code",
      "execution_count": 22,
      "metadata": {},
      "outputs": [
        {
          "data": {
            "text/plain": [
              "neighborhood\n",
              "Dorchester             932\n",
              "Roxbury                608\n",
              "Mattapan               522\n",
              "South Boston           435\n",
              "Hyde Park              407\n",
              "East Boston            396\n",
              "Roslindale             330\n",
              "Charlestown            289\n",
              "Brighton               274\n",
              "South End              254\n",
              "West Roxbury           235\n",
              "Back Bay               206\n",
              "Jamaica Plain          198\n",
              "Fenway / Kenmore       181\n",
              "Downtown Boston        174\n",
              "North End              161\n",
              "Beacon Hill            140\n",
              "Allston                138\n",
              "West End               108\n",
              "Mission Hill           102\n",
              "Bay Village             50\n",
              "Chinatown               28\n",
              "Dock Square             27\n",
              "Cambridgeport           22\n",
              "Chestnut Hill            8\n",
              "Riverdale                3\n",
              "Downtown Crossing        3\n",
              "Euston Street            2\n",
              "Essex Street             2\n",
              "Financial District       1\n",
              "Saint Mary's Street      1\n",
              "Beacon Street            1\n",
              "Ivy Street               1\n",
              "Villa Victoria           1\n",
              "Ashmont                  1\n",
              "Name: ObjectID, dtype: int64"
            ]
          },
          "execution_count": 22,
          "metadata": {},
          "output_type": "execute_result"
        }
      ],
      "source": [
        "ramps_f = csv_file[csv_file['RAMP_COND']=='Fair (Minor/Hairline damage with no impact to accessibility)']\n",
        "ramps_f = ramps_f.groupby(\"neighborhood\")['ObjectID'].count()\n",
        "ramps_f.sort_values(ascending=False)\n"
      ]
    },
    {
      "cell_type": "code",
      "execution_count": 23,
      "metadata": {},
      "outputs": [
        {
          "data": {
            "text/plain": [
              "neighborhood\n",
              "Dorchester          112\n",
              "Roxbury             106\n",
              "Hyde Park            79\n",
              "Roslindale           56\n",
              "South Boston         47\n",
              "Jamaica Plain        40\n",
              "West Roxbury         34\n",
              "Mattapan             29\n",
              "Charlestown          28\n",
              "South End            20\n",
              "Brighton             14\n",
              "Back Bay             13\n",
              "North End            11\n",
              "Mission Hill         11\n",
              "Beacon Hill          10\n",
              "East Boston           9\n",
              "Downtown Boston       8\n",
              "Allston               7\n",
              "Fenway / Kenmore      7\n",
              "Chinatown             6\n",
              "Dock Square           5\n",
              "West End              5\n",
              "Bay Village           4\n",
              "Riverdale             2\n",
              "Cambridgeport         2\n",
              "Name: ObjectID, dtype: int64"
            ]
          },
          "execution_count": 23,
          "metadata": {},
          "output_type": "execute_result"
        }
      ],
      "source": [
        "\n",
        "ramps_p = csv_file[csv_file['RAMP_COND']=='Poor (Panel is damaged and affecting functionality- to be replaced)']\n",
        "ramps_p = ramps_p.groupby(\"neighborhood\")['ObjectID'].count()\n",
        "ramps_p.sort_values(ascending=False)"
      ]
    },
    {
      "cell_type": "code",
      "execution_count": 18,
      "metadata": {},
      "outputs": [],
      "source": [
        "import folium\n",
        "from folium import plugins, Map\n",
        "# not_compliant = csv_file[csv_file['ADA_Compli']=='Not Compliant']\n",
        "\n",
        "def color_cluster(index):\n",
        "    if index == \"Excellent (Like new)\":\n",
        "        return 'green'\n",
        "    elif index == \"Fair (Minor/Hairline damage with no impact to accessibility)\":\n",
        "        return 'blue'\n",
        "    elif index == \"Poor (Panel is damaged and affecting functionality- to be replaced)\": \n",
        "        return 'red'\n",
        "\n",
        "base_map_2 = Map(location=[42.361145, -71.057083],zoom_start = 30)\n",
        "for point in range(0, len(csv_file)):\n",
        "    folium.CircleMarker([csv_file.iloc[point]['Latitude'], csv_file.iloc[point]['Longitude']],color = color_cluster(csv_file.iloc[point]['RAMP_COND']), fill = True, fill_color = color_cluster(csv_file.iloc[point]['RAMP_COND'])).add_to(base_map_2)\n",
        "\n",
        "base_map_2.save(\"../maps/ramps_score/combined_ramp_conditions_regions.html\")\n",
        "# not_compliant.count()"
      ]
    }
  ],
  "metadata": {
    "colab": {
      "provenance": []
    },
    "kernelspec": {
      "display_name": "Python 3",
      "language": "python",
      "name": "python3"
    },
    "language_info": {
      "codemirror_mode": {
        "name": "ipython",
        "version": 3
      },
      "file_extension": ".py",
      "mimetype": "text/x-python",
      "name": "python",
      "nbconvert_exporter": "python",
      "pygments_lexer": "ipython3",
      "version": "3.9.6"
    },
    "vscode": {
      "interpreter": {
        "hash": "aee8b7b246df8f9039afb4144a1f6fd8d2ca17a180786b69acc140d282b71a49"
      }
    }
  },
  "nbformat": 4,
  "nbformat_minor": 0
}
