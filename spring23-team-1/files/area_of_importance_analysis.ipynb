{
 "cells": [
  {
   "cell_type": "code",
   "execution_count": 1,
   "metadata": {},
   "outputs": [],
   "source": [
    "import pandas as pd\n",
    "\n",
    "public_schools = pd.read_csv('../data/Public_Schools.csv')\n",
    "colleges_and_unis = pd.read_csv('../data/Colleges_and_Universities.csv')\n",
    "hospitals = pd.read_csv('../data/Hospitals.csv')\n",
    "t_stops = pd.read_csv('../data/MBTA_Systemwide_GTFS_T_Stops_Map.csv')\n",
    "bus_stops = pd.read_csv('../data/MBTA_Systemwide_GTFS_Bus_Stops_Map.csv')"
   ]
  },
  {
   "cell_type": "code",
   "execution_count": 2,
   "metadata": {},
   "outputs": [
    {
     "name": "stdout",
     "output_type": "stream",
     "text": [
      "Public Schools columns: Index(['X', 'Y', 'BLDG_ID', 'BLDG_NAME', 'ADDRESS', 'CITY', 'ZIPCODE',\n",
      "       'CSP_SCH_ID', 'SCH_ID', 'SCH_NAME', 'SCH_LABEL', 'SCH_TYPE', 'SHARED',\n",
      "       'COMPLEX', 'OBJECTID'],\n",
      "      dtype='object')\n",
      "Colleges and Universities columns: Index(['OBJECTID', 'Match_type', 'Ref_ID', 'ID1', 'Id', 'SchoolId', 'Name',\n",
      "       'Address', 'City', 'Zipcode', 'Contact', 'PhoneNumbe', 'YearBuilt',\n",
      "       'NumStories', 'Cost', 'NumStudent', 'BackupPowe', 'ShelterCap',\n",
      "       'Latitude', 'Longitude', 'Comment', 'X', 'Y', 'NumStudent12',\n",
      "       'CampusHous', 'NumStudents13', 'URL', 'Address2013'],\n",
      "      dtype='object')\n",
      "Hospitals columns: Index(['X', 'Y', 'OBJECTID', 'Census_Tra', 'Name', 'Address', 'City',\n",
      "       'Zipcode', 'Statea', 'Contact', 'PhoneNumbe', 'Latitude', 'Longitude',\n",
      "       'Comment_', 'Primary_Alt', 'Alternative_Name', 'DailyAvg'],\n",
      "      dtype='object')\n",
      "T-Stops columns: Index(['X', 'Y', 'OBJECTID', 'stop_id', 'stop_code', 'stop_name', 'stop_desc',\n",
      "       'platform_code', 'platform_name', 'stop_lat', 'stop_lon', 'zone_id',\n",
      "       'stop_address', 'stop_url', 'level_id', 'location_type',\n",
      "       'parent_station', 'wheelchair_boarding', 'municipality', 'on_street',\n",
      "       'at_street', 'vehicle_type', 'Sidewalk_Width__ft_',\n",
      "       'Accessibility_Score', 'Sidewalk_Condition', 'Sidewalk_Material',\n",
      "       'Current_Shelter', 'Routes', 'Municipality_1', 'Neighborhood',\n",
      "       'created_user', 'created_date', 'last_edited_user', 'last_edited_date'],\n",
      "      dtype='object')\n",
      "Bus Stops columns: Index(['X', 'Y', 'OBJECTID', 'stop_id', 'stop_code', 'stop_name', 'stop_desc',\n",
      "       'platform_code', 'platform_name', 'stop_lat', 'stop_lon', 'zone_id',\n",
      "       'stop_address', 'stop_url', 'level_id', 'location_type',\n",
      "       'parent_station', 'wheelchair_boarding', 'municipality', 'on_street',\n",
      "       'at_street', 'vehicle_type', 'Sidewalk_Width__ft_',\n",
      "       'Accessibility_Score', 'Sidewalk_Condition', 'Sidewalk_Material',\n",
      "       'Current_Shelter', 'Routes', 'Municipality_1', 'Neighborhood',\n",
      "       'created_user', 'created_date', 'last_edited_user', 'last_edited_date'],\n",
      "      dtype='object')\n"
     ]
    }
   ],
   "source": [
    "print(\"Public Schools columns:\", public_schools.columns)\n",
    "print(\"Colleges and Universities columns:\", colleges_and_unis.columns)\n",
    "print(\"Hospitals columns:\", hospitals.columns)\n",
    "print(\"T-Stops columns:\", t_stops.columns)\n",
    "print(\"Bus Stops columns:\", bus_stops.columns)"
   ]
  },
  {
   "cell_type": "code",
   "execution_count": 5,
   "metadata": {},
   "outputs": [],
   "source": [
    "# Standardize the column names\n",
    "public_schools = public_schools.rename(columns={'SCH_NAME': 'name', 'X': 'latitude', 'Y': 'longitude'})\n",
    "public_schools['type'] = 'Public School'    \n",
    "\n",
    "colleges_and_unis = colleges_and_unis.rename(columns={'Name': 'name', 'Latitude': 'latitude', 'Longitude': 'longitude'})\n",
    "colleges_and_unis['type'] = 'College/University'\n",
    "\n",
    "hospitals = hospitals.rename(columns={'Name': 'name', 'Latitude': 'latitude', 'Longitude': 'longitude'})\n",
    "hospitals['type'] = 'Hospital'\n",
    "\n",
    "t_stops = t_stops.rename(columns={'stop_name': 'name', 'stop_lat': 'latitude', 'stop_lon': 'longitude'})\n",
    "t_stops['type'] = 'T-Stop'\n",
    "\n",
    "bus_stops = bus_stops.rename(columns={'stop_name': 'name', 'stop_lat': 'latitude', 'stop_lon': 'longitude'})\n",
    "bus_stops['type'] = 'Bus Stop'\n",
    "\n",
    "# Combine the datasets\n",
    "combined_dataset = pd.concat([public_schools, colleges_and_unis, hospitals, t_stops, bus_stops], ignore_index=True, sort=False)\n",
    "\n",
    "# Keep only the desired columns\n",
    "combined_dataset = combined_dataset[['name', 'type', 'latitude', 'longitude']]\n",
    "\n",
    "# Save the combined dataset to a CSV file\n",
    "combined_dataset.to_csv('../data/combined_areas_of_dataset.csv', index=False)\n"
   ]
  },
  {
   "cell_type": "code",
   "execution_count": 12,
   "metadata": {},
   "outputs": [
    {
     "name": "stdout",
     "output_type": "stream",
     "text": [
      "Number of rows in the combined dataset: 7267\n",
      "Rows with missing latitude or longitude:\n",
      "Empty DataFrame\n",
      "Columns: [name, type, latitude, longitude]\n",
      "Index: []\n"
     ]
    }
   ],
   "source": [
    "print(\"Number of rows in the combined dataset:\", len(combined_dataset))\n",
    "print(\"Rows with missing latitude or longitude:\")\n",
    "print(combined_dataset[combined_dataset[['latitude', 'longitude']].isna().any(axis=1)])"
   ]
  },
  {
   "cell_type": "code",
   "execution_count": 19,
   "metadata": {},
   "outputs": [],
   "source": [
    "import folium\n",
    "# Create a base map\n",
    "m = folium.Map(location=[42.3601, -71.0589], zoom_start=12)\n",
    "\n",
    "# Function to determine marker colors based on type\n",
    "def get_color(type):\n",
    "    if type == \"Public School\":\n",
    "        return \"blue\"\n",
    "    elif type == \"College/University\":\n",
    "        return \"green\"\n",
    "    elif type == \"Hospital\":\n",
    "        return \"red\"\n",
    "    elif type == \"T-Stop\":\n",
    "        return \"purple\"\n",
    "    elif type == \"Bus Stop\":\n",
    "        return \"orange\"\n",
    "\n",
    "# Add circle markers for each location\n",
    "for index, row in combined_dataset.iterrows():\n",
    "    folium.CircleMarker(\n",
    "        location=[row['latitude'], row['longitude']],\n",
    "        radius=5,\n",
    "        color=get_color(row['type']),\n",
    "        fill=True,\n",
    "        fill_opacity=0.7,\n",
    "        popup=f\"{row['name']} ({row['type']})\"\n",
    "    ).add_to(m)\n",
    "\n",
    "# Display the map\n",
    "m.save('../maps/areas_of_importance.html')\n",
    "m"
   ]
  }
 ],
 "metadata": {
  "kernelspec": {
   "display_name": "Python 3",
   "language": "python",
   "name": "python3"
  },
  "language_info": {
   "codemirror_mode": {
    "name": "ipython",
    "version": 3
   },
   "file_extension": ".py",
   "mimetype": "text/x-python",
   "name": "python",
   "nbconvert_exporter": "python",
   "pygments_lexer": "ipython3",
   "version": "3.10.4"
  },
  "orig_nbformat": 4
 },
 "nbformat": 4,
 "nbformat_minor": 2
}
