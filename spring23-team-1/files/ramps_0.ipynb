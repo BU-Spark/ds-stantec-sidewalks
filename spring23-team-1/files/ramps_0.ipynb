{
 "cells": [
  {
   "cell_type": "code",
   "execution_count": 419,
   "metadata": {},
   "outputs": [],
   "source": [
    "import pandas as pd\n",
    "\n",
    "#Ramps_0.csv\n",
    "ramps_0_df = pd.read_csv(\"../data/Ramps_0.csv\")"
   ]
  },
  {
   "cell_type": "code",
   "execution_count": 3,
   "metadata": {},
   "outputs": [
    {
     "data": {
      "text/plain": [
       "(26161, 44)"
      ]
     },
     "execution_count": 3,
     "metadata": {},
     "output_type": "execute_result"
    }
   ],
   "source": [
    "ramps_0_df.shape"
   ]
  },
  {
   "cell_type": "code",
   "execution_count": 7,
   "metadata": {},
   "outputs": [],
   "source": [
    "ramps_0_df.rename(columns = {'x': 'Longitude', 'y': 'Latitude'}, inplace = True)\n",
    "ramps_0_df.rename(columns = {'x': 'Longitude', 'y': 'Latitude'}, inplace = True)"
   ]
  },
  {
   "cell_type": "code",
   "execution_count": 9,
   "metadata": {},
   "outputs": [
    {
     "data": {
      "text/html": [
       "<div>\n",
       "<style scoped>\n",
       "    .dataframe tbody tr th:only-of-type {\n",
       "        vertical-align: middle;\n",
       "    }\n",
       "\n",
       "    .dataframe tbody tr th {\n",
       "        vertical-align: top;\n",
       "    }\n",
       "\n",
       "    .dataframe thead th {\n",
       "        text-align: right;\n",
       "    }\n",
       "</style>\n",
       "<table border=\"1\" class=\"dataframe\">\n",
       "  <thead>\n",
       "    <tr style=\"text-align: right;\">\n",
       "      <th></th>\n",
       "      <th>FID</th>\n",
       "      <th>ObjectID</th>\n",
       "      <th>ObjectID_1</th>\n",
       "      <th>CREEC_Type</th>\n",
       "      <th>CREEC_Posi</th>\n",
       "      <th>RAMP_MATL</th>\n",
       "      <th>THR_WIDTH</th>\n",
       "      <th>LAND_EXIST</th>\n",
       "      <th>LANDING_SL</th>\n",
       "      <th>LANDING_CO</th>\n",
       "      <th>...</th>\n",
       "      <th>I_NEARFID</th>\n",
       "      <th>PARC_ID</th>\n",
       "      <th>AT_INT</th>\n",
       "      <th>NEAR_ANGLE</th>\n",
       "      <th>Bearing</th>\n",
       "      <th>Dwy</th>\n",
       "      <th>RAMP_ID_1</th>\n",
       "      <th>Ramp_ID_d</th>\n",
       "      <th>Longitude</th>\n",
       "      <th>Latitude</th>\n",
       "    </tr>\n",
       "  </thead>\n",
       "  <tbody>\n",
       "    <tr>\n",
       "      <th>0</th>\n",
       "      <td>1</td>\n",
       "      <td>1249</td>\n",
       "      <td>1249</td>\n",
       "      <td>Parallel</td>\n",
       "      <td>Uni-Directional</td>\n",
       "      <td>Portland Cement Concrete</td>\n",
       "      <td>4.0</td>\n",
       "      <td>Yes</td>\n",
       "      <td>2.3</td>\n",
       "      <td>Excellent (Like new)</td>\n",
       "      <td>...</td>\n",
       "      <td>5824</td>\n",
       "      <td></td>\n",
       "      <td>Y</td>\n",
       "      <td>0.0</td>\n",
       "      <td>255.310939</td>\n",
       "      <td></td>\n",
       "      <td>8998.1</td>\n",
       "      <td>8998.1</td>\n",
       "      <td>-71.165906</td>\n",
       "      <td>42.341852</td>\n",
       "    </tr>\n",
       "    <tr>\n",
       "      <th>1</th>\n",
       "      <td>2</td>\n",
       "      <td>823</td>\n",
       "      <td>823</td>\n",
       "      <td>Parallel</td>\n",
       "      <td>Uni-Directional</td>\n",
       "      <td>Portland Cement Concrete</td>\n",
       "      <td>4.0</td>\n",
       "      <td>Yes</td>\n",
       "      <td>9.7</td>\n",
       "      <td>Fair (Minor/Hairline damage with no impact to ...</td>\n",
       "      <td>...</td>\n",
       "      <td>3021</td>\n",
       "      <td></td>\n",
       "      <td>Y</td>\n",
       "      <td>0.0</td>\n",
       "      <td>3.625703</td>\n",
       "      <td></td>\n",
       "      <td>5999.1</td>\n",
       "      <td>5999.1</td>\n",
       "      <td>-71.055954</td>\n",
       "      <td>42.365543</td>\n",
       "    </tr>\n",
       "    <tr>\n",
       "      <th>2</th>\n",
       "      <td>3</td>\n",
       "      <td>1250</td>\n",
       "      <td>1250</td>\n",
       "      <td>Perpendicular</td>\n",
       "      <td>Uni-Directional</td>\n",
       "      <td>Portland Cement Concrete</td>\n",
       "      <td>4.5</td>\n",
       "      <td>Yes</td>\n",
       "      <td>1.9</td>\n",
       "      <td>Excellent (Like new)</td>\n",
       "      <td>...</td>\n",
       "      <td>2099</td>\n",
       "      <td></td>\n",
       "      <td>Y</td>\n",
       "      <td>0.0</td>\n",
       "      <td>147.404378</td>\n",
       "      <td></td>\n",
       "      <td>4375.2</td>\n",
       "      <td>4375.2</td>\n",
       "      <td>-71.137155</td>\n",
       "      <td>42.349207</td>\n",
       "    </tr>\n",
       "    <tr>\n",
       "      <th>3</th>\n",
       "      <td>4</td>\n",
       "      <td>824</td>\n",
       "      <td>824</td>\n",
       "      <td>Parallel</td>\n",
       "      <td>Uni-Directional</td>\n",
       "      <td>Portland Cement Concrete</td>\n",
       "      <td>4.0</td>\n",
       "      <td></td>\n",
       "      <td>0.0</td>\n",
       "      <td></td>\n",
       "      <td>...</td>\n",
       "      <td>3421</td>\n",
       "      <td></td>\n",
       "      <td>Y</td>\n",
       "      <td>0.0</td>\n",
       "      <td>265.705311</td>\n",
       "      <td></td>\n",
       "      <td>6880.1</td>\n",
       "      <td>6880.1</td>\n",
       "      <td>-71.055531</td>\n",
       "      <td>42.365034</td>\n",
       "    </tr>\n",
       "    <tr>\n",
       "      <th>4</th>\n",
       "      <td>5</td>\n",
       "      <td>1251</td>\n",
       "      <td>1251</td>\n",
       "      <td>Perpendicular</td>\n",
       "      <td>Uni-Directional</td>\n",
       "      <td>Portland Cement Concrete</td>\n",
       "      <td>5.0</td>\n",
       "      <td>Yes</td>\n",
       "      <td>2.5</td>\n",
       "      <td>Fair (Minor/Hairline damage with no impact to ...</td>\n",
       "      <td>...</td>\n",
       "      <td>2099</td>\n",
       "      <td></td>\n",
       "      <td>Y</td>\n",
       "      <td>0.0</td>\n",
       "      <td>70.955876</td>\n",
       "      <td></td>\n",
       "      <td>4375.1</td>\n",
       "      <td>4375.1</td>\n",
       "      <td>-71.137100</td>\n",
       "      <td>42.349289</td>\n",
       "    </tr>\n",
       "  </tbody>\n",
       "</table>\n",
       "<p>5 rows × 44 columns</p>\n",
       "</div>"
      ],
      "text/plain": [
       "   FID  ObjectID  ObjectID_1     CREEC_Type       CREEC_Posi  \\\n",
       "0    1      1249        1249       Parallel  Uni-Directional   \n",
       "1    2       823         823       Parallel  Uni-Directional   \n",
       "2    3      1250        1250  Perpendicular  Uni-Directional   \n",
       "3    4       824         824       Parallel  Uni-Directional   \n",
       "4    5      1251        1251  Perpendicular  Uni-Directional   \n",
       "\n",
       "                  RAMP_MATL  THR_WIDTH LAND_EXIST  LANDING_SL  \\\n",
       "0  Portland Cement Concrete        4.0        Yes         2.3   \n",
       "1  Portland Cement Concrete        4.0        Yes         9.7   \n",
       "2  Portland Cement Concrete        4.5        Yes         1.9   \n",
       "3  Portland Cement Concrete        4.0                    0.0   \n",
       "4  Portland Cement Concrete        5.0        Yes         2.5   \n",
       "\n",
       "                                          LANDING_CO  ...  I_NEARFID  PARC_ID  \\\n",
       "0                               Excellent (Like new)  ...       5824            \n",
       "1  Fair (Minor/Hairline damage with no impact to ...  ...       3021            \n",
       "2                               Excellent (Like new)  ...       2099            \n",
       "3                                                     ...       3421            \n",
       "4  Fair (Minor/Hairline damage with no impact to ...  ...       2099            \n",
       "\n",
       "  AT_INT NEAR_ANGLE     Bearing  Dwy RAMP_ID_1 Ramp_ID_d  Longitude   Latitude  \n",
       "0      Y        0.0  255.310939         8998.1    8998.1 -71.165906  42.341852  \n",
       "1      Y        0.0    3.625703         5999.1    5999.1 -71.055954  42.365543  \n",
       "2      Y        0.0  147.404378         4375.2    4375.2 -71.137155  42.349207  \n",
       "3      Y        0.0  265.705311         6880.1    6880.1 -71.055531  42.365034  \n",
       "4      Y        0.0   70.955876         4375.1    4375.1 -71.137100  42.349289  \n",
       "\n",
       "[5 rows x 44 columns]"
      ]
     },
     "execution_count": 9,
     "metadata": {},
     "output_type": "execute_result"
    }
   ],
   "source": [
    "ramps_0_df.head()"
   ]
  },
  {
   "cell_type": "code",
   "execution_count": 11,
   "metadata": {},
   "outputs": [
    {
     "name": "stdout",
     "output_type": "stream",
     "text": [
      "         FID  ObjectID  ObjectID_1     CREEC_Type       CREEC_Posi  \\\n",
      "0          1      1249        1249       Parallel  Uni-Directional   \n",
      "1          2       823         823       Parallel  Uni-Directional   \n",
      "2          3      1250        1250  Perpendicular  Uni-Directional   \n",
      "3          4       824         824       Parallel  Uni-Directional   \n",
      "4          5      1251        1251  Perpendicular  Uni-Directional   \n",
      "...      ...       ...         ...            ...              ...   \n",
      "26156  26157     28243       28243  Perpendicular  Uni-Directional   \n",
      "26157  26158     28244       28244    Combination  Uni-Directional   \n",
      "26158  26159     28245       28245  Perpendicular  Uni-Directional   \n",
      "26159  26160     28246       28246       Diagonal         Diagonal   \n",
      "26160  26161     28247       28247       Parallel  Uni-Directional   \n",
      "\n",
      "                      RAMP_MATL  THR_WIDTH LAND_EXIST  LANDING_SL  \\\n",
      "0      Portland Cement Concrete        4.0        Yes         2.3   \n",
      "1      Portland Cement Concrete        4.0        Yes         9.7   \n",
      "2      Portland Cement Concrete        4.5        Yes         1.9   \n",
      "3      Portland Cement Concrete        4.0                    0.0   \n",
      "4      Portland Cement Concrete        5.0        Yes         2.5   \n",
      "...                         ...        ...        ...         ...   \n",
      "26156  Portland Cement Concrete        5.0        Yes         2.6   \n",
      "26157  Portland Cement Concrete        5.0        Yes         1.8   \n",
      "26158  Portland Cement Concrete        5.0        Yes         1.7   \n",
      "26159  Portland Cement Concrete        5.0        Yes         2.2   \n",
      "26160  Portland Cement Concrete        4.0        Yes         2.7   \n",
      "\n",
      "                                              LANDING_CO  ...  PARC_ID  \\\n",
      "0                                   Excellent (Like new)  ...            \n",
      "1      Fair (Minor/Hairline damage with no impact to ...  ...            \n",
      "2                                   Excellent (Like new)  ...            \n",
      "3                                                         ...            \n",
      "4      Fair (Minor/Hairline damage with no impact to ...  ...            \n",
      "...                                                  ...  ...      ...   \n",
      "26156                               Excellent (Like new)  ...            \n",
      "26157                               Excellent (Like new)  ...            \n",
      "26158                               Excellent (Like new)  ...            \n",
      "26159                               Excellent (Like new)  ...            \n",
      "26160                               Excellent (Like new)  ...            \n",
      "\n",
      "       AT_INT NEAR_ANGLE     Bearing  Dwy  RAMP_ID_1 Ramp_ID_d  Longitude  \\\n",
      "0           Y        0.0  255.310939          8998.1    8998.1 -71.165906   \n",
      "1           Y        0.0    3.625703          5999.1    5999.1 -71.055954   \n",
      "2           Y        0.0  147.404378          4375.2    4375.2 -71.137155   \n",
      "3           Y        0.0  265.705311          6880.1    6880.1 -71.055531   \n",
      "4           Y        0.0   70.955876          4375.1    4375.1 -71.137100   \n",
      "...       ...        ...         ...  ...        ...       ...        ...   \n",
      "26156       Y        0.0  308.994155          4507.5    4507.5 -71.058912   \n",
      "26157       Y        0.0  315.972400          1118.3    1118.3 -71.061437   \n",
      "26158       Y        0.0  280.912990          5104.4    5104.4 -71.059165   \n",
      "26159       Y        0.0   73.168947           859.2     859.2 -71.145898   \n",
      "26160       Y        0.0  333.983258          6604.3    6604.3 -71.063685   \n",
      "\n",
      "        Latitude                                            address  \n",
      "0      42.341852  Boston College (Brighton Campus), Undine Road,...  \n",
      "1      42.365543  6, Margaret Street, North End, Boston, Suffolk...  \n",
      "2      42.349207  132, Glenville Avenue, Allston Village, Allsto...  \n",
      "3      42.365034  1, Noyes Place, North End, Boston, Suffolk Cou...  \n",
      "4      42.349289  139, Glenville Avenue, Allston Village, Allsto...  \n",
      "...          ...                                                ...  \n",
      "26156  42.320860  47, Roseclair Street, Uphams Corner, Dorcheste...  \n",
      "26157  42.321187  253, Boston Street, Uphams Corner, Dorchester,...  \n",
      "26158  42.325429  115;117;119;121, Boston Street, Uphams Corner,...  \n",
      "26159  42.276716  31, Robin Street, West Roxbury, Boston, Suffol...  \n",
      "26160  42.381040  10, Mystic Place, Charlestown, Boston, Suffolk...  \n",
      "\n",
      "[26161 rows x 45 columns]\n"
     ]
    }
   ],
   "source": [
    "from geopy.geocoders import Nominatim\n",
    "from geopy.point import Point\n",
    "import numpy as np\n",
    "\n",
    "geolocator = Nominatim(user_agent = \"test\")\n",
    "\n",
    "def reverse_geocoding(latitude, longitude):\n",
    "    try:\n",
    "        location = geolocator.reverse(Point(latitude, longitude))\n",
    "        return location.raw['display_name']\n",
    "    except:\n",
    "        return None\n",
    "\n",
    "ramps_0_df['address'] = np.vectorize(reverse_geocoding)(ramps_0_df['Latitude'], ramps_0_df['Longitude'])\n",
    "\n",
    "print(ramps_0_df)"
   ]
  },
  {
   "cell_type": "markdown",
   "metadata": {},
   "source": [
    "- I did reverse geocoding by passing in the latitudes and longitudes, thereby extracting the address, postal and the neighborhood.\n",
    "- Time consuming API call for a large dataset of about 20K rows ~ 4 hours\n",
    "- Saving the new data as Ramps_0_Updated.csv with the address, postal and neighborhood features."
   ]
  },
  {
   "cell_type": "code",
   "execution_count": 12,
   "metadata": {},
   "outputs": [
    {
     "data": {
      "text/plain": [
       "Index(['FID', 'ObjectID', 'ObjectID_1', 'CREEC_Type', 'CREEC_Posi',\n",
       "       'RAMP_MATL', 'THR_WIDTH', 'LAND_EXIST', 'LANDING_SL', 'LANDING_CO',\n",
       "       'APRON_SL', 'LFLARE_SL', 'DWP_MATL', 'DWP_COND', 'GUTTER_SL',\n",
       "       'GUTTER_CS', 'LIP', 'CROSS_', 'RFLARE_SL', 'SAFE_ZONE_', 'RAMP_OBSTR',\n",
       "       'FLARE_OBST', 'APRON_CROS', 'Crosswalk_', 'RAMP_COND', 'ADA_Compli',\n",
       "       'Photo', 'ObjectID_3', 'Failure_Ty', 'Failure_La', 'NEAR_FID',\n",
       "       'NEAR_DIST', 'INT_ID', 'I_NEARDIST', 'I_NEARFID', 'PARC_ID', 'AT_INT',\n",
       "       'NEAR_ANGLE', 'Bearing', 'Dwy', 'RAMP_ID_1', 'Ramp_ID_d', 'Longitude',\n",
       "       'Latitude', 'address'],\n",
       "      dtype='object')"
      ]
     },
     "execution_count": 12,
     "metadata": {},
     "output_type": "execute_result"
    }
   ],
   "source": [
    "ramps_0_df.columns"
   ]
  },
  {
   "cell_type": "code",
   "execution_count": 134,
   "metadata": {},
   "outputs": [],
   "source": [
    "# Save it to the new file\n",
    "ramps_0_df.to_csv(\"../data/Ramps_0_Updated.csv\")"
   ]
  },
  {
   "cell_type": "code",
   "execution_count": 50,
   "metadata": {},
   "outputs": [],
   "source": [
    "ramps_0_df['postal'] = ramps_0_df['address'].str.split(\",\").str[-2].str.strip()\n"
   ]
  },
  {
   "cell_type": "code",
   "execution_count": 82,
   "metadata": {},
   "outputs": [
    {
     "data": {
      "text/plain": [
       "'33, Alveston Street, Jamaica Plain, Boston, Suffolk County, Massachusetts, 02130, United States'"
      ]
     },
     "execution_count": 82,
     "metadata": {},
     "output_type": "execute_result"
    }
   ],
   "source": [
    "ramps_0_df['address'][10000]"
   ]
  },
  {
   "cell_type": "code",
   "execution_count": 84,
   "metadata": {},
   "outputs": [],
   "source": [
    "ramps_0_df['neighborhood'] = ramps_0_df['address'].str.split(\",\").str[-6].str.strip()\n"
   ]
  },
  {
   "cell_type": "code",
   "execution_count": 89,
   "metadata": {},
   "outputs": [
    {
     "data": {
      "text/html": [
       "<div>\n",
       "<style scoped>\n",
       "    .dataframe tbody tr th:only-of-type {\n",
       "        vertical-align: middle;\n",
       "    }\n",
       "\n",
       "    .dataframe tbody tr th {\n",
       "        vertical-align: top;\n",
       "    }\n",
       "\n",
       "    .dataframe thead th {\n",
       "        text-align: right;\n",
       "    }\n",
       "</style>\n",
       "<table border=\"1\" class=\"dataframe\">\n",
       "  <thead>\n",
       "    <tr style=\"text-align: right;\">\n",
       "      <th></th>\n",
       "      <th>FID</th>\n",
       "      <th>ObjectID</th>\n",
       "      <th>ObjectID_1</th>\n",
       "      <th>CREEC_Type</th>\n",
       "      <th>CREEC_Posi</th>\n",
       "      <th>RAMP_MATL</th>\n",
       "      <th>THR_WIDTH</th>\n",
       "      <th>LAND_EXIST</th>\n",
       "      <th>LANDING_SL</th>\n",
       "      <th>LANDING_CO</th>\n",
       "      <th>...</th>\n",
       "      <th>NEAR_ANGLE</th>\n",
       "      <th>Bearing</th>\n",
       "      <th>Dwy</th>\n",
       "      <th>RAMP_ID_1</th>\n",
       "      <th>Ramp_ID_d</th>\n",
       "      <th>Longitude</th>\n",
       "      <th>Latitude</th>\n",
       "      <th>address</th>\n",
       "      <th>postal</th>\n",
       "      <th>neighborhood</th>\n",
       "    </tr>\n",
       "  </thead>\n",
       "  <tbody>\n",
       "    <tr>\n",
       "      <th>0</th>\n",
       "      <td>1</td>\n",
       "      <td>1249</td>\n",
       "      <td>1249</td>\n",
       "      <td>Parallel</td>\n",
       "      <td>Uni-Directional</td>\n",
       "      <td>Portland Cement Concrete</td>\n",
       "      <td>4.0</td>\n",
       "      <td>Yes</td>\n",
       "      <td>2.3</td>\n",
       "      <td>Excellent (Like new)</td>\n",
       "      <td>...</td>\n",
       "      <td>0.0</td>\n",
       "      <td>255.310939</td>\n",
       "      <td></td>\n",
       "      <td>8998.1</td>\n",
       "      <td>8998.1</td>\n",
       "      <td>-71.165906</td>\n",
       "      <td>42.341852</td>\n",
       "      <td>Boston College (Brighton Campus), Undine Road,...</td>\n",
       "      <td>02138</td>\n",
       "      <td>Brighton</td>\n",
       "    </tr>\n",
       "    <tr>\n",
       "      <th>1</th>\n",
       "      <td>2</td>\n",
       "      <td>823</td>\n",
       "      <td>823</td>\n",
       "      <td>Parallel</td>\n",
       "      <td>Uni-Directional</td>\n",
       "      <td>Portland Cement Concrete</td>\n",
       "      <td>4.0</td>\n",
       "      <td>Yes</td>\n",
       "      <td>9.7</td>\n",
       "      <td>Fair (Minor/Hairline damage with no impact to ...</td>\n",
       "      <td>...</td>\n",
       "      <td>0.0</td>\n",
       "      <td>3.625703</td>\n",
       "      <td></td>\n",
       "      <td>5999.1</td>\n",
       "      <td>5999.1</td>\n",
       "      <td>-71.055954</td>\n",
       "      <td>42.365543</td>\n",
       "      <td>6, Margaret Street, North End, Boston, Suffolk...</td>\n",
       "      <td>02113</td>\n",
       "      <td>North End</td>\n",
       "    </tr>\n",
       "    <tr>\n",
       "      <th>2</th>\n",
       "      <td>3</td>\n",
       "      <td>1250</td>\n",
       "      <td>1250</td>\n",
       "      <td>Perpendicular</td>\n",
       "      <td>Uni-Directional</td>\n",
       "      <td>Portland Cement Concrete</td>\n",
       "      <td>4.5</td>\n",
       "      <td>Yes</td>\n",
       "      <td>1.9</td>\n",
       "      <td>Excellent (Like new)</td>\n",
       "      <td>...</td>\n",
       "      <td>0.0</td>\n",
       "      <td>147.404378</td>\n",
       "      <td></td>\n",
       "      <td>4375.2</td>\n",
       "      <td>4375.2</td>\n",
       "      <td>-71.137155</td>\n",
       "      <td>42.349207</td>\n",
       "      <td>132, Glenville Avenue, Allston Village, Allsto...</td>\n",
       "      <td>02134</td>\n",
       "      <td>Allston</td>\n",
       "    </tr>\n",
       "    <tr>\n",
       "      <th>3</th>\n",
       "      <td>4</td>\n",
       "      <td>824</td>\n",
       "      <td>824</td>\n",
       "      <td>Parallel</td>\n",
       "      <td>Uni-Directional</td>\n",
       "      <td>Portland Cement Concrete</td>\n",
       "      <td>4.0</td>\n",
       "      <td></td>\n",
       "      <td>0.0</td>\n",
       "      <td></td>\n",
       "      <td>...</td>\n",
       "      <td>0.0</td>\n",
       "      <td>265.705311</td>\n",
       "      <td></td>\n",
       "      <td>6880.1</td>\n",
       "      <td>6880.1</td>\n",
       "      <td>-71.055531</td>\n",
       "      <td>42.365034</td>\n",
       "      <td>1, Noyes Place, North End, Boston, Suffolk Cou...</td>\n",
       "      <td>02113</td>\n",
       "      <td>North End</td>\n",
       "    </tr>\n",
       "    <tr>\n",
       "      <th>4</th>\n",
       "      <td>5</td>\n",
       "      <td>1251</td>\n",
       "      <td>1251</td>\n",
       "      <td>Perpendicular</td>\n",
       "      <td>Uni-Directional</td>\n",
       "      <td>Portland Cement Concrete</td>\n",
       "      <td>5.0</td>\n",
       "      <td>Yes</td>\n",
       "      <td>2.5</td>\n",
       "      <td>Fair (Minor/Hairline damage with no impact to ...</td>\n",
       "      <td>...</td>\n",
       "      <td>0.0</td>\n",
       "      <td>70.955876</td>\n",
       "      <td></td>\n",
       "      <td>4375.1</td>\n",
       "      <td>4375.1</td>\n",
       "      <td>-71.137100</td>\n",
       "      <td>42.349289</td>\n",
       "      <td>139, Glenville Avenue, Allston Village, Allsto...</td>\n",
       "      <td>02134</td>\n",
       "      <td>Allston</td>\n",
       "    </tr>\n",
       "  </tbody>\n",
       "</table>\n",
       "<p>5 rows × 47 columns</p>\n",
       "</div>"
      ],
      "text/plain": [
       "   FID  ObjectID  ObjectID_1     CREEC_Type       CREEC_Posi  \\\n",
       "0    1      1249        1249       Parallel  Uni-Directional   \n",
       "1    2       823         823       Parallel  Uni-Directional   \n",
       "2    3      1250        1250  Perpendicular  Uni-Directional   \n",
       "3    4       824         824       Parallel  Uni-Directional   \n",
       "4    5      1251        1251  Perpendicular  Uni-Directional   \n",
       "\n",
       "                  RAMP_MATL  THR_WIDTH LAND_EXIST  LANDING_SL  \\\n",
       "0  Portland Cement Concrete        4.0        Yes         2.3   \n",
       "1  Portland Cement Concrete        4.0        Yes         9.7   \n",
       "2  Portland Cement Concrete        4.5        Yes         1.9   \n",
       "3  Portland Cement Concrete        4.0                    0.0   \n",
       "4  Portland Cement Concrete        5.0        Yes         2.5   \n",
       "\n",
       "                                          LANDING_CO  ...  NEAR_ANGLE  \\\n",
       "0                               Excellent (Like new)  ...         0.0   \n",
       "1  Fair (Minor/Hairline damage with no impact to ...  ...         0.0   \n",
       "2                               Excellent (Like new)  ...         0.0   \n",
       "3                                                     ...         0.0   \n",
       "4  Fair (Minor/Hairline damage with no impact to ...  ...         0.0   \n",
       "\n",
       "      Bearing Dwy RAMP_ID_1  Ramp_ID_d  Longitude   Latitude  \\\n",
       "0  255.310939        8998.1     8998.1 -71.165906  42.341852   \n",
       "1    3.625703        5999.1     5999.1 -71.055954  42.365543   \n",
       "2  147.404378        4375.2     4375.2 -71.137155  42.349207   \n",
       "3  265.705311        6880.1     6880.1 -71.055531  42.365034   \n",
       "4   70.955876        4375.1     4375.1 -71.137100  42.349289   \n",
       "\n",
       "                                             address  postal neighborhood  \n",
       "0  Boston College (Brighton Campus), Undine Road,...   02138     Brighton  \n",
       "1  6, Margaret Street, North End, Boston, Suffolk...   02113    North End  \n",
       "2  132, Glenville Avenue, Allston Village, Allsto...   02134      Allston  \n",
       "3  1, Noyes Place, North End, Boston, Suffolk Cou...   02113    North End  \n",
       "4  139, Glenville Avenue, Allston Village, Allsto...   02134      Allston  \n",
       "\n",
       "[5 rows x 47 columns]"
      ]
     },
     "execution_count": 89,
     "metadata": {},
     "output_type": "execute_result"
    }
   ],
   "source": [
    "ramps_0_df.head()"
   ]
  },
  {
   "cell_type": "markdown",
   "metadata": {},
   "source": [
    "- Here are some of the preliminary analysis of the data based on the ramp condition."
   ]
  },
  {
   "cell_type": "code",
   "execution_count": 63,
   "metadata": {},
   "outputs": [
    {
     "data": {
      "text/plain": [
       "58      Excellent (Like new)\n",
       "8098    Excellent (Like new)\n",
       "8206    Excellent (Like new)\n",
       "Name: RAMP_COND, dtype: object"
      ]
     },
     "execution_count": 63,
     "metadata": {},
     "output_type": "execute_result"
    }
   ],
   "source": [
    "ramps_0_df[ramps_0_df['postal'].isna()]['RAMP_COND']"
   ]
  },
  {
   "cell_type": "code",
   "execution_count": 90,
   "metadata": {},
   "outputs": [
    {
     "data": {
      "text/plain": [
       "Excellent (Like new)                                                   15119\n",
       "Fair (Minor/Hairline damage with no impact to accessibility)            6241\n",
       "                                                                        4136\n",
       "Poor (Panel is damaged and affecting functionality- to be replaced)      665\n",
       "Name: RAMP_COND, dtype: int64"
      ]
     },
     "execution_count": 90,
     "metadata": {},
     "output_type": "execute_result"
    }
   ],
   "source": [
    "ramps_0_df['RAMP_COND'].value_counts()"
   ]
  },
  {
   "cell_type": "code",
   "execution_count": 168,
   "metadata": {},
   "outputs": [
    {
     "data": {
      "text/html": [
       "<div>\n",
       "<style scoped>\n",
       "    .dataframe tbody tr th:only-of-type {\n",
       "        vertical-align: middle;\n",
       "    }\n",
       "\n",
       "    .dataframe tbody tr th {\n",
       "        vertical-align: top;\n",
       "    }\n",
       "\n",
       "    .dataframe thead th {\n",
       "        text-align: right;\n",
       "    }\n",
       "</style>\n",
       "<table border=\"1\" class=\"dataframe\">\n",
       "  <thead>\n",
       "    <tr style=\"text-align: right;\">\n",
       "      <th></th>\n",
       "      <th>FID</th>\n",
       "      <th>ObjectID</th>\n",
       "      <th>ObjectID_1</th>\n",
       "      <th>CREEC_Type</th>\n",
       "      <th>CREEC_Posi</th>\n",
       "      <th>RAMP_MATL</th>\n",
       "      <th>THR_WIDTH</th>\n",
       "      <th>LAND_EXIST</th>\n",
       "      <th>LANDING_SL</th>\n",
       "      <th>LANDING_CO</th>\n",
       "      <th>...</th>\n",
       "      <th>NEAR_ANGLE</th>\n",
       "      <th>Bearing</th>\n",
       "      <th>Dwy</th>\n",
       "      <th>RAMP_ID_1</th>\n",
       "      <th>Ramp_ID_d</th>\n",
       "      <th>Longitude</th>\n",
       "      <th>Latitude</th>\n",
       "      <th>address</th>\n",
       "      <th>postal</th>\n",
       "      <th>neighborhood</th>\n",
       "    </tr>\n",
       "  </thead>\n",
       "  <tbody>\n",
       "    <tr>\n",
       "      <th>87</th>\n",
       "      <td>88</td>\n",
       "      <td>1338</td>\n",
       "      <td>1338</td>\n",
       "      <td>Perpendicular</td>\n",
       "      <td>Uni-Directional</td>\n",
       "      <td>Portland Cement Concrete</td>\n",
       "      <td>5.0</td>\n",
       "      <td>Yes</td>\n",
       "      <td>0.4</td>\n",
       "      <td>Poor (Panel is damaged and affecting functiona...</td>\n",
       "      <td>...</td>\n",
       "      <td>0.0</td>\n",
       "      <td>249.230123</td>\n",
       "      <td></td>\n",
       "      <td>4330.2</td>\n",
       "      <td>4330.2</td>\n",
       "      <td>-71.100435</td>\n",
       "      <td>42.308318</td>\n",
       "      <td>83, Glen Road, Roxbury, Boston, Suffolk County...</td>\n",
       "      <td>02130</td>\n",
       "      <td>Roxbury</td>\n",
       "    </tr>\n",
       "    <tr>\n",
       "      <th>101</th>\n",
       "      <td>102</td>\n",
       "      <td>1352</td>\n",
       "      <td>1352</td>\n",
       "      <td>Parallel</td>\n",
       "      <td>Uni-Directional</td>\n",
       "      <td>Portland Cement Concrete</td>\n",
       "      <td>4.0</td>\n",
       "      <td>Yes</td>\n",
       "      <td>2.4</td>\n",
       "      <td>Poor (Panel is damaged and affecting functiona...</td>\n",
       "      <td>...</td>\n",
       "      <td>0.0</td>\n",
       "      <td>240.031762</td>\n",
       "      <td></td>\n",
       "      <td>158.3</td>\n",
       "      <td>158.3</td>\n",
       "      <td>-71.137527</td>\n",
       "      <td>42.283644</td>\n",
       "      <td>4, Hillock Street, Bellevue, Roslindale, Bosto...</td>\n",
       "      <td>02131</td>\n",
       "      <td>Roslindale</td>\n",
       "    </tr>\n",
       "    <tr>\n",
       "      <th>111</th>\n",
       "      <td>112</td>\n",
       "      <td>1362</td>\n",
       "      <td>1362</td>\n",
       "      <td>Parallel</td>\n",
       "      <td>Uni-Directional</td>\n",
       "      <td>Portland Cement Concrete</td>\n",
       "      <td>4.0</td>\n",
       "      <td>Yes</td>\n",
       "      <td>2.8</td>\n",
       "      <td>Poor (Panel is damaged and affecting functiona...</td>\n",
       "      <td>...</td>\n",
       "      <td>0.0</td>\n",
       "      <td>104.127389</td>\n",
       "      <td></td>\n",
       "      <td>370.1</td>\n",
       "      <td>370.1</td>\n",
       "      <td>-71.137157</td>\n",
       "      <td>42.293323</td>\n",
       "      <td>120, Ardale Street, Bellevue, Roslindale, Bost...</td>\n",
       "      <td>02131</td>\n",
       "      <td>Roslindale</td>\n",
       "    </tr>\n",
       "    <tr>\n",
       "      <th>121</th>\n",
       "      <td>122</td>\n",
       "      <td>1373</td>\n",
       "      <td>1373</td>\n",
       "      <td>Diagonal</td>\n",
       "      <td>Diagonal</td>\n",
       "      <td>Portland Cement Concrete</td>\n",
       "      <td>4.0</td>\n",
       "      <td>Yes</td>\n",
       "      <td>1.8</td>\n",
       "      <td>Poor (Panel is damaged and affecting functiona...</td>\n",
       "      <td>...</td>\n",
       "      <td>0.0</td>\n",
       "      <td>89.722010</td>\n",
       "      <td></td>\n",
       "      <td>1904.2</td>\n",
       "      <td>1904.2</td>\n",
       "      <td>-71.144303</td>\n",
       "      <td>42.288212</td>\n",
       "      <td>1082, South Street, Bellevue, Roslindale, Bost...</td>\n",
       "      <td>02131</td>\n",
       "      <td>Roslindale</td>\n",
       "    </tr>\n",
       "    <tr>\n",
       "      <th>139</th>\n",
       "      <td>140</td>\n",
       "      <td>1392</td>\n",
       "      <td>1392</td>\n",
       "      <td>Perpendicular</td>\n",
       "      <td>Uni-Directional</td>\n",
       "      <td>Portland Cement Concrete</td>\n",
       "      <td>4.5</td>\n",
       "      <td>Yes</td>\n",
       "      <td>0.7</td>\n",
       "      <td>Excellent (Like new)</td>\n",
       "      <td>...</td>\n",
       "      <td>0.0</td>\n",
       "      <td>342.801544</td>\n",
       "      <td></td>\n",
       "      <td>6196.1</td>\n",
       "      <td>6196.1</td>\n",
       "      <td>-71.125082</td>\n",
       "      <td>42.276851</td>\n",
       "      <td>415, Poplar Street, Clarendon Hills, Roslindal...</td>\n",
       "      <td>02131</td>\n",
       "      <td>Roslindale</td>\n",
       "    </tr>\n",
       "  </tbody>\n",
       "</table>\n",
       "<p>5 rows × 47 columns</p>\n",
       "</div>"
      ],
      "text/plain": [
       "     FID  ObjectID  ObjectID_1     CREEC_Type       CREEC_Posi  \\\n",
       "87    88      1338        1338  Perpendicular  Uni-Directional   \n",
       "101  102      1352        1352       Parallel  Uni-Directional   \n",
       "111  112      1362        1362       Parallel  Uni-Directional   \n",
       "121  122      1373        1373       Diagonal         Diagonal   \n",
       "139  140      1392        1392  Perpendicular  Uni-Directional   \n",
       "\n",
       "                    RAMP_MATL  THR_WIDTH LAND_EXIST  LANDING_SL  \\\n",
       "87   Portland Cement Concrete        5.0        Yes         0.4   \n",
       "101  Portland Cement Concrete        4.0        Yes         2.4   \n",
       "111  Portland Cement Concrete        4.0        Yes         2.8   \n",
       "121  Portland Cement Concrete        4.0        Yes         1.8   \n",
       "139  Portland Cement Concrete        4.5        Yes         0.7   \n",
       "\n",
       "                                            LANDING_CO  ...  NEAR_ANGLE  \\\n",
       "87   Poor (Panel is damaged and affecting functiona...  ...         0.0   \n",
       "101  Poor (Panel is damaged and affecting functiona...  ...         0.0   \n",
       "111  Poor (Panel is damaged and affecting functiona...  ...         0.0   \n",
       "121  Poor (Panel is damaged and affecting functiona...  ...         0.0   \n",
       "139                               Excellent (Like new)  ...         0.0   \n",
       "\n",
       "        Bearing Dwy RAMP_ID_1  Ramp_ID_d  Longitude   Latitude  \\\n",
       "87   249.230123        4330.2     4330.2 -71.100435  42.308318   \n",
       "101  240.031762         158.3      158.3 -71.137527  42.283644   \n",
       "111  104.127389         370.1      370.1 -71.137157  42.293323   \n",
       "121   89.722010        1904.2     1904.2 -71.144303  42.288212   \n",
       "139  342.801544        6196.1     6196.1 -71.125082  42.276851   \n",
       "\n",
       "                                               address  postal neighborhood  \n",
       "87   83, Glen Road, Roxbury, Boston, Suffolk County...   02130      Roxbury  \n",
       "101  4, Hillock Street, Bellevue, Roslindale, Bosto...   02131   Roslindale  \n",
       "111  120, Ardale Street, Bellevue, Roslindale, Bost...   02131   Roslindale  \n",
       "121  1082, South Street, Bellevue, Roslindale, Bost...   02131   Roslindale  \n",
       "139  415, Poplar Street, Clarendon Hills, Roslindal...   02131   Roslindale  \n",
       "\n",
       "[5 rows x 47 columns]"
      ]
     },
     "execution_count": 168,
     "metadata": {},
     "output_type": "execute_result"
    }
   ],
   "source": [
    "ramps_0_df[ramps_0_df['RAMP_COND'].str.contains(\"Poor\")].head()"
   ]
  },
  {
   "cell_type": "code",
   "execution_count": 542,
   "metadata": {},
   "outputs": [],
   "source": [
    "import folium\n",
    "import pandas as pd\n",
    "\n",
    "#create a map\n",
    "poor_map = folium.Map(prefer_canvas = True)\n",
    "\n",
    "def plotDot(point):\n",
    "    '''input: series that contains a numeric named latitude and a numeric named longitude\n",
    "    this function creates a CircleMarker and adds it to your this_map'''\n",
    "\n",
    "    popup_text = 'Ramps that are in poor condition'\n",
    "\n",
    "    folium.CircleMarker(location = [point.Latitude, point.Longitude],\n",
    "                    popup = popup_text,\n",
    "                    radius = 2,\n",
    "                    weight = 5).add_to(poor_map)          \n",
    "\n",
    "# use df.apply(,axis=1) to \"iterate\" through every row in your dataframe\n",
    "\n",
    "# temp = ramps_0_df.head(100)\n",
    "\n",
    "poor_condition = ramps_0_df[ramps_0_df['RAMP_COND'].str.contains(\"Poor\")]\n",
    "poor_condition.apply(plotDot, axis = 1)\n",
    "\n",
    "#Set the zoom to the maximum possible\n",
    "poor_map.fit_bounds(poor_map.get_bounds())\n",
    "\n",
    "poor_map.save(\"../maps/ramps_0/poor_location.html\")\n"
   ]
  },
  {
   "cell_type": "markdown",
   "metadata": {},
   "source": [
    "- Plotting the points where the ramp condition is \"Poor\""
   ]
  },
  {
   "cell_type": "code",
   "execution_count": 543,
   "metadata": {},
   "outputs": [],
   "source": [
    "import folium\n",
    "import pandas as pd\n",
    "\n",
    "#create a map\n",
    "excellent_map = folium.Map(prefer_canvas = True)\n",
    "\n",
    "def plotDot(point):\n",
    "    '''input: series that contains a numeric named latitude and a numeric named longitude\n",
    "    this function creates a CircleMarker and adds it to your this_map'''\n",
    "\n",
    "    popup_text = 'Ramps that are in excellent condition'\n",
    "\n",
    "    folium.CircleMarker(location = [point.Latitude, point.Longitude],\n",
    "                        popup = popup_text,\n",
    "                        radius = 2,\n",
    "                        weight = 5).add_to(excellent_map)\n",
    "\n",
    "# use df.apply(,axis=1) to \"iterate\" through every row in your dataframe\n",
    "\n",
    "# temp = ramps_0_df.head(100)\n",
    "\n",
    "excellent_condition = ramps_0_df[ramps_0_df['RAMP_COND'].str.contains(\"Excellent\")]\n",
    "excellent_condition.apply(plotDot, axis = 1)\n",
    "\n",
    "#Set the zoom to the maximum possible\n",
    "excellent_map.fit_bounds(excellent_map.get_bounds())\n",
    "\n",
    "excellent_map.save(\"../maps/ramps_0/excellent_location.html\")"
   ]
  },
  {
   "cell_type": "markdown",
   "metadata": {},
   "source": [
    "- Plotting the points where the ramp condition is \"Excellent\""
   ]
  },
  {
   "cell_type": "code",
   "execution_count": 544,
   "metadata": {},
   "outputs": [],
   "source": [
    "import folium\n",
    "import pandas as pd\n",
    "\n",
    "#create a map\n",
    "fair_map = folium.Map(prefer_canvas = True)\n",
    "\n",
    "def plotDot(point):\n",
    "    '''input: series that contains a numeric named latitude and a numeric named longitude\n",
    "    this function creates a CircleMarker and adds it to your this_map'''\n",
    "    \n",
    "    popup_text = 'Ramps that are in fair condition'\n",
    "\n",
    "    folium.CircleMarker(location = [point.Latitude, point.Longitude],\n",
    "                        popup = popup_text,\n",
    "                        radius = 2,\n",
    "                        weight = 5).add_to(fair_map) \n",
    "\n",
    "# use df.apply(,axis=1) to \"iterate\" through every row in your dataframe\n",
    "\n",
    "# temp = ramps_0_df.head(100)\n",
    "\n",
    "fair_condition = ramps_0_df[ramps_0_df['RAMP_COND'].str.contains(\"Fair\")]\n",
    "fair_condition.apply(plotDot, axis = 1)\n",
    "\n",
    "#Set the zoom to the maximum possible\n",
    "fair_map.fit_bounds(fair_map.get_bounds())\n",
    "\n",
    "fair_map.save(\"../maps/ramps_0/fair_location.html\")"
   ]
  },
  {
   "cell_type": "markdown",
   "metadata": {},
   "source": [
    "- Plotting the points where the ramp condition is \"Fair\""
   ]
  },
  {
   "cell_type": "code",
   "execution_count": 525,
   "metadata": {},
   "outputs": [
    {
     "data": {
      "text/html": [
       "<div>\n",
       "<style scoped>\n",
       "    .dataframe tbody tr th:only-of-type {\n",
       "        vertical-align: middle;\n",
       "    }\n",
       "\n",
       "    .dataframe tbody tr th {\n",
       "        vertical-align: top;\n",
       "    }\n",
       "\n",
       "    .dataframe thead th {\n",
       "        text-align: right;\n",
       "    }\n",
       "</style>\n",
       "<table border=\"1\" class=\"dataframe\">\n",
       "  <thead>\n",
       "    <tr style=\"text-align: right;\">\n",
       "      <th></th>\n",
       "      <th>Unnamed: 0</th>\n",
       "      <th>FID</th>\n",
       "      <th>ObjectID</th>\n",
       "      <th>ObjectID_1</th>\n",
       "      <th>CREEC_Type</th>\n",
       "      <th>CREEC_Posi</th>\n",
       "      <th>RAMP_MATL</th>\n",
       "      <th>THR_WIDTH</th>\n",
       "      <th>LAND_EXIST</th>\n",
       "      <th>LANDING_SL</th>\n",
       "      <th>...</th>\n",
       "      <th>NEAR_ANGLE</th>\n",
       "      <th>Bearing</th>\n",
       "      <th>Dwy</th>\n",
       "      <th>RAMP_ID_1</th>\n",
       "      <th>Ramp_ID_d</th>\n",
       "      <th>Longitude</th>\n",
       "      <th>Latitude</th>\n",
       "      <th>address</th>\n",
       "      <th>postal</th>\n",
       "      <th>neighborhood</th>\n",
       "    </tr>\n",
       "  </thead>\n",
       "  <tbody>\n",
       "    <tr>\n",
       "      <th>0</th>\n",
       "      <td>0</td>\n",
       "      <td>1</td>\n",
       "      <td>1249</td>\n",
       "      <td>1249</td>\n",
       "      <td>Parallel</td>\n",
       "      <td>Uni-Directional</td>\n",
       "      <td>Portland Cement Concrete</td>\n",
       "      <td>4.0</td>\n",
       "      <td>Yes</td>\n",
       "      <td>2.3</td>\n",
       "      <td>...</td>\n",
       "      <td>0.0</td>\n",
       "      <td>255.310939</td>\n",
       "      <td></td>\n",
       "      <td>8998.1</td>\n",
       "      <td>8998.1</td>\n",
       "      <td>-71.165906</td>\n",
       "      <td>42.341852</td>\n",
       "      <td>Boston College (Brighton Campus), Undine Road,...</td>\n",
       "      <td>02138</td>\n",
       "      <td>Brighton</td>\n",
       "    </tr>\n",
       "    <tr>\n",
       "      <th>1</th>\n",
       "      <td>1</td>\n",
       "      <td>2</td>\n",
       "      <td>823</td>\n",
       "      <td>823</td>\n",
       "      <td>Parallel</td>\n",
       "      <td>Uni-Directional</td>\n",
       "      <td>Portland Cement Concrete</td>\n",
       "      <td>4.0</td>\n",
       "      <td>Yes</td>\n",
       "      <td>9.7</td>\n",
       "      <td>...</td>\n",
       "      <td>0.0</td>\n",
       "      <td>3.625703</td>\n",
       "      <td></td>\n",
       "      <td>5999.1</td>\n",
       "      <td>5999.1</td>\n",
       "      <td>-71.055954</td>\n",
       "      <td>42.365543</td>\n",
       "      <td>6, Margaret Street, North End, Boston, Suffolk...</td>\n",
       "      <td>02113</td>\n",
       "      <td>North End</td>\n",
       "    </tr>\n",
       "    <tr>\n",
       "      <th>2</th>\n",
       "      <td>2</td>\n",
       "      <td>3</td>\n",
       "      <td>1250</td>\n",
       "      <td>1250</td>\n",
       "      <td>Perpendicular</td>\n",
       "      <td>Uni-Directional</td>\n",
       "      <td>Portland Cement Concrete</td>\n",
       "      <td>4.5</td>\n",
       "      <td>Yes</td>\n",
       "      <td>1.9</td>\n",
       "      <td>...</td>\n",
       "      <td>0.0</td>\n",
       "      <td>147.404378</td>\n",
       "      <td></td>\n",
       "      <td>4375.2</td>\n",
       "      <td>4375.2</td>\n",
       "      <td>-71.137155</td>\n",
       "      <td>42.349207</td>\n",
       "      <td>132, Glenville Avenue, Allston Village, Allsto...</td>\n",
       "      <td>02134</td>\n",
       "      <td>Allston</td>\n",
       "    </tr>\n",
       "    <tr>\n",
       "      <th>3</th>\n",
       "      <td>3</td>\n",
       "      <td>4</td>\n",
       "      <td>824</td>\n",
       "      <td>824</td>\n",
       "      <td>Parallel</td>\n",
       "      <td>Uni-Directional</td>\n",
       "      <td>Portland Cement Concrete</td>\n",
       "      <td>4.0</td>\n",
       "      <td></td>\n",
       "      <td>0.0</td>\n",
       "      <td>...</td>\n",
       "      <td>0.0</td>\n",
       "      <td>265.705311</td>\n",
       "      <td></td>\n",
       "      <td>6880.1</td>\n",
       "      <td>6880.1</td>\n",
       "      <td>-71.055531</td>\n",
       "      <td>42.365034</td>\n",
       "      <td>1, Noyes Place, North End, Boston, Suffolk Cou...</td>\n",
       "      <td>02113</td>\n",
       "      <td>North End</td>\n",
       "    </tr>\n",
       "    <tr>\n",
       "      <th>4</th>\n",
       "      <td>4</td>\n",
       "      <td>5</td>\n",
       "      <td>1251</td>\n",
       "      <td>1251</td>\n",
       "      <td>Perpendicular</td>\n",
       "      <td>Uni-Directional</td>\n",
       "      <td>Portland Cement Concrete</td>\n",
       "      <td>5.0</td>\n",
       "      <td>Yes</td>\n",
       "      <td>2.5</td>\n",
       "      <td>...</td>\n",
       "      <td>0.0</td>\n",
       "      <td>70.955876</td>\n",
       "      <td></td>\n",
       "      <td>4375.1</td>\n",
       "      <td>4375.1</td>\n",
       "      <td>-71.137100</td>\n",
       "      <td>42.349289</td>\n",
       "      <td>139, Glenville Avenue, Allston Village, Allsto...</td>\n",
       "      <td>02134</td>\n",
       "      <td>Allston</td>\n",
       "    </tr>\n",
       "    <tr>\n",
       "      <th>...</th>\n",
       "      <td>...</td>\n",
       "      <td>...</td>\n",
       "      <td>...</td>\n",
       "      <td>...</td>\n",
       "      <td>...</td>\n",
       "      <td>...</td>\n",
       "      <td>...</td>\n",
       "      <td>...</td>\n",
       "      <td>...</td>\n",
       "      <td>...</td>\n",
       "      <td>...</td>\n",
       "      <td>...</td>\n",
       "      <td>...</td>\n",
       "      <td>...</td>\n",
       "      <td>...</td>\n",
       "      <td>...</td>\n",
       "      <td>...</td>\n",
       "      <td>...</td>\n",
       "      <td>...</td>\n",
       "      <td>...</td>\n",
       "      <td>...</td>\n",
       "    </tr>\n",
       "    <tr>\n",
       "      <th>26156</th>\n",
       "      <td>26156</td>\n",
       "      <td>26157</td>\n",
       "      <td>28243</td>\n",
       "      <td>28243</td>\n",
       "      <td>Perpendicular</td>\n",
       "      <td>Uni-Directional</td>\n",
       "      <td>Portland Cement Concrete</td>\n",
       "      <td>5.0</td>\n",
       "      <td>Yes</td>\n",
       "      <td>2.6</td>\n",
       "      <td>...</td>\n",
       "      <td>0.0</td>\n",
       "      <td>308.994155</td>\n",
       "      <td></td>\n",
       "      <td>4507.5</td>\n",
       "      <td>4507.5</td>\n",
       "      <td>-71.058912</td>\n",
       "      <td>42.320860</td>\n",
       "      <td>47, Roseclair Street, Uphams Corner, Dorcheste...</td>\n",
       "      <td>02125</td>\n",
       "      <td>Dorchester</td>\n",
       "    </tr>\n",
       "    <tr>\n",
       "      <th>26157</th>\n",
       "      <td>26157</td>\n",
       "      <td>26158</td>\n",
       "      <td>28244</td>\n",
       "      <td>28244</td>\n",
       "      <td>Combination</td>\n",
       "      <td>Uni-Directional</td>\n",
       "      <td>Portland Cement Concrete</td>\n",
       "      <td>5.0</td>\n",
       "      <td>Yes</td>\n",
       "      <td>1.8</td>\n",
       "      <td>...</td>\n",
       "      <td>0.0</td>\n",
       "      <td>315.972400</td>\n",
       "      <td></td>\n",
       "      <td>1118.3</td>\n",
       "      <td>1118.3</td>\n",
       "      <td>-71.061437</td>\n",
       "      <td>42.321187</td>\n",
       "      <td>253, Boston Street, Uphams Corner, Dorchester,...</td>\n",
       "      <td>02125</td>\n",
       "      <td>Dorchester</td>\n",
       "    </tr>\n",
       "    <tr>\n",
       "      <th>26158</th>\n",
       "      <td>26158</td>\n",
       "      <td>26159</td>\n",
       "      <td>28245</td>\n",
       "      <td>28245</td>\n",
       "      <td>Perpendicular</td>\n",
       "      <td>Uni-Directional</td>\n",
       "      <td>Portland Cement Concrete</td>\n",
       "      <td>5.0</td>\n",
       "      <td>Yes</td>\n",
       "      <td>1.7</td>\n",
       "      <td>...</td>\n",
       "      <td>0.0</td>\n",
       "      <td>280.912990</td>\n",
       "      <td></td>\n",
       "      <td>5104.4</td>\n",
       "      <td>5104.4</td>\n",
       "      <td>-71.059165</td>\n",
       "      <td>42.325429</td>\n",
       "      <td>115;117;119;121, Boston Street, Uphams Corner,...</td>\n",
       "      <td>01125</td>\n",
       "      <td>Dorchester</td>\n",
       "    </tr>\n",
       "    <tr>\n",
       "      <th>26159</th>\n",
       "      <td>26159</td>\n",
       "      <td>26160</td>\n",
       "      <td>28246</td>\n",
       "      <td>28246</td>\n",
       "      <td>Diagonal</td>\n",
       "      <td>Diagonal</td>\n",
       "      <td>Portland Cement Concrete</td>\n",
       "      <td>5.0</td>\n",
       "      <td>Yes</td>\n",
       "      <td>2.2</td>\n",
       "      <td>...</td>\n",
       "      <td>0.0</td>\n",
       "      <td>73.168947</td>\n",
       "      <td></td>\n",
       "      <td>859.2</td>\n",
       "      <td>859.2</td>\n",
       "      <td>-71.145898</td>\n",
       "      <td>42.276716</td>\n",
       "      <td>31, Robin Street, West Roxbury, Boston, Suffol...</td>\n",
       "      <td>02132</td>\n",
       "      <td>West Roxbury</td>\n",
       "    </tr>\n",
       "    <tr>\n",
       "      <th>26160</th>\n",
       "      <td>26160</td>\n",
       "      <td>26161</td>\n",
       "      <td>28247</td>\n",
       "      <td>28247</td>\n",
       "      <td>Parallel</td>\n",
       "      <td>Uni-Directional</td>\n",
       "      <td>Portland Cement Concrete</td>\n",
       "      <td>4.0</td>\n",
       "      <td>Yes</td>\n",
       "      <td>2.7</td>\n",
       "      <td>...</td>\n",
       "      <td>0.0</td>\n",
       "      <td>333.983258</td>\n",
       "      <td></td>\n",
       "      <td>6604.3</td>\n",
       "      <td>6604.3</td>\n",
       "      <td>-71.063685</td>\n",
       "      <td>42.381040</td>\n",
       "      <td>10, Mystic Place, Charlestown, Boston, Suffolk...</td>\n",
       "      <td>02129</td>\n",
       "      <td>Charlestown</td>\n",
       "    </tr>\n",
       "  </tbody>\n",
       "</table>\n",
       "<p>26161 rows × 48 columns</p>\n",
       "</div>"
      ],
      "text/plain": [
       "       Unnamed: 0    FID  ObjectID  ObjectID_1     CREEC_Type  \\\n",
       "0               0      1      1249        1249       Parallel   \n",
       "1               1      2       823         823       Parallel   \n",
       "2               2      3      1250        1250  Perpendicular   \n",
       "3               3      4       824         824       Parallel   \n",
       "4               4      5      1251        1251  Perpendicular   \n",
       "...           ...    ...       ...         ...            ...   \n",
       "26156       26156  26157     28243       28243  Perpendicular   \n",
       "26157       26157  26158     28244       28244    Combination   \n",
       "26158       26158  26159     28245       28245  Perpendicular   \n",
       "26159       26159  26160     28246       28246       Diagonal   \n",
       "26160       26160  26161     28247       28247       Parallel   \n",
       "\n",
       "            CREEC_Posi                 RAMP_MATL  THR_WIDTH LAND_EXIST  \\\n",
       "0      Uni-Directional  Portland Cement Concrete        4.0        Yes   \n",
       "1      Uni-Directional  Portland Cement Concrete        4.0        Yes   \n",
       "2      Uni-Directional  Portland Cement Concrete        4.5        Yes   \n",
       "3      Uni-Directional  Portland Cement Concrete        4.0              \n",
       "4      Uni-Directional  Portland Cement Concrete        5.0        Yes   \n",
       "...                ...                       ...        ...        ...   \n",
       "26156  Uni-Directional  Portland Cement Concrete        5.0        Yes   \n",
       "26157  Uni-Directional  Portland Cement Concrete        5.0        Yes   \n",
       "26158  Uni-Directional  Portland Cement Concrete        5.0        Yes   \n",
       "26159         Diagonal  Portland Cement Concrete        5.0        Yes   \n",
       "26160  Uni-Directional  Portland Cement Concrete        4.0        Yes   \n",
       "\n",
       "       LANDING_SL  ... NEAR_ANGLE     Bearing  Dwy RAMP_ID_1 Ramp_ID_d  \\\n",
       "0             2.3  ...        0.0  255.310939         8998.1    8998.1   \n",
       "1             9.7  ...        0.0    3.625703         5999.1    5999.1   \n",
       "2             1.9  ...        0.0  147.404378         4375.2    4375.2   \n",
       "3             0.0  ...        0.0  265.705311         6880.1    6880.1   \n",
       "4             2.5  ...        0.0   70.955876         4375.1    4375.1   \n",
       "...           ...  ...        ...         ...  ...       ...       ...   \n",
       "26156         2.6  ...        0.0  308.994155         4507.5    4507.5   \n",
       "26157         1.8  ...        0.0  315.972400         1118.3    1118.3   \n",
       "26158         1.7  ...        0.0  280.912990         5104.4    5104.4   \n",
       "26159         2.2  ...        0.0   73.168947          859.2     859.2   \n",
       "26160         2.7  ...        0.0  333.983258         6604.3    6604.3   \n",
       "\n",
       "       Longitude   Latitude  \\\n",
       "0     -71.165906  42.341852   \n",
       "1     -71.055954  42.365543   \n",
       "2     -71.137155  42.349207   \n",
       "3     -71.055531  42.365034   \n",
       "4     -71.137100  42.349289   \n",
       "...          ...        ...   \n",
       "26156 -71.058912  42.320860   \n",
       "26157 -71.061437  42.321187   \n",
       "26158 -71.059165  42.325429   \n",
       "26159 -71.145898  42.276716   \n",
       "26160 -71.063685  42.381040   \n",
       "\n",
       "                                                 address postal  neighborhood  \n",
       "0      Boston College (Brighton Campus), Undine Road,...  02138      Brighton  \n",
       "1      6, Margaret Street, North End, Boston, Suffolk...  02113     North End  \n",
       "2      132, Glenville Avenue, Allston Village, Allsto...  02134       Allston  \n",
       "3      1, Noyes Place, North End, Boston, Suffolk Cou...  02113     North End  \n",
       "4      139, Glenville Avenue, Allston Village, Allsto...  02134       Allston  \n",
       "...                                                  ...    ...           ...  \n",
       "26156  47, Roseclair Street, Uphams Corner, Dorcheste...  02125    Dorchester  \n",
       "26157  253, Boston Street, Uphams Corner, Dorchester,...  02125    Dorchester  \n",
       "26158  115;117;119;121, Boston Street, Uphams Corner,...  01125    Dorchester  \n",
       "26159  31, Robin Street, West Roxbury, Boston, Suffol...  02132  West Roxbury  \n",
       "26160  10, Mystic Place, Charlestown, Boston, Suffolk...  02129   Charlestown  \n",
       "\n",
       "[26161 rows x 48 columns]"
      ]
     },
     "execution_count": 525,
     "metadata": {},
     "output_type": "execute_result"
    }
   ],
   "source": [
    "ramps_0_df = pd.read_csv('../data/Ramps_0_Updated.csv')\n",
    "ramps_0_df"
   ]
  },
  {
   "cell_type": "code",
   "execution_count": 526,
   "metadata": {},
   "outputs": [
    {
     "data": {
      "text/html": [
       "<div>\n",
       "<style scoped>\n",
       "    .dataframe tbody tr th:only-of-type {\n",
       "        vertical-align: middle;\n",
       "    }\n",
       "\n",
       "    .dataframe tbody tr th {\n",
       "        vertical-align: top;\n",
       "    }\n",
       "\n",
       "    .dataframe thead th {\n",
       "        text-align: right;\n",
       "    }\n",
       "</style>\n",
       "<table border=\"1\" class=\"dataframe\">\n",
       "  <thead>\n",
       "    <tr style=\"text-align: right;\">\n",
       "      <th></th>\n",
       "      <th>neighborhood</th>\n",
       "      <th>postal</th>\n",
       "      <th>count</th>\n",
       "    </tr>\n",
       "  </thead>\n",
       "  <tbody>\n",
       "    <tr>\n",
       "      <th>0</th>\n",
       "      <td>West Roxbury</td>\n",
       "      <td>02132</td>\n",
       "      <td>891</td>\n",
       "    </tr>\n",
       "    <tr>\n",
       "      <th>1</th>\n",
       "      <td>South Boston</td>\n",
       "      <td>02127</td>\n",
       "      <td>888</td>\n",
       "    </tr>\n",
       "    <tr>\n",
       "      <th>2</th>\n",
       "      <td>Roxbury</td>\n",
       "      <td>02119</td>\n",
       "      <td>816</td>\n",
       "    </tr>\n",
       "    <tr>\n",
       "      <th>3</th>\n",
       "      <td>Roslindale</td>\n",
       "      <td>02131</td>\n",
       "      <td>679</td>\n",
       "    </tr>\n",
       "    <tr>\n",
       "      <th>4</th>\n",
       "      <td>Dorchester</td>\n",
       "      <td>02124</td>\n",
       "      <td>659</td>\n",
       "    </tr>\n",
       "  </tbody>\n",
       "</table>\n",
       "</div>"
      ],
      "text/plain": [
       "   neighborhood postal  count\n",
       "0  West Roxbury  02132    891\n",
       "1  South Boston  02127    888\n",
       "2       Roxbury  02119    816\n",
       "3    Roslindale  02131    679\n",
       "4    Dorchester  02124    659"
      ]
     },
     "execution_count": 526,
     "metadata": {},
     "output_type": "execute_result"
    }
   ],
   "source": [
    "top_5_excellent = ramps_0_df[ramps_0_df['RAMP_COND'].str.contains(\"Excellent\")][['neighborhood', 'postal']].value_counts().head()\n",
    "top_5_excellent = top_5_excellent.to_frame().reset_index()\n",
    "top_5_excellent = top_5_excellent.rename(columns = {0: \"count\"})\n",
    "top_5_excellent"
   ]
  },
  {
   "cell_type": "markdown",
   "metadata": {},
   "source": [
    "- Top 5 neighborhoods where the ramps are in excellent condition with the ramps count."
   ]
  },
  {
   "cell_type": "code",
   "execution_count": 154,
   "metadata": {},
   "outputs": [
    {
     "data": {
      "text/html": [
       "<div>\n",
       "<style scoped>\n",
       "    .dataframe tbody tr th:only-of-type {\n",
       "        vertical-align: middle;\n",
       "    }\n",
       "\n",
       "    .dataframe tbody tr th {\n",
       "        vertical-align: top;\n",
       "    }\n",
       "\n",
       "    .dataframe thead th {\n",
       "        text-align: right;\n",
       "    }\n",
       "</style>\n",
       "<table border=\"1\" class=\"dataframe\">\n",
       "  <thead>\n",
       "    <tr style=\"text-align: right;\">\n",
       "      <th></th>\n",
       "      <th>neighborhood</th>\n",
       "      <th>postal</th>\n",
       "      <th>count</th>\n",
       "    </tr>\n",
       "  </thead>\n",
       "  <tbody>\n",
       "    <tr>\n",
       "      <th>0</th>\n",
       "      <td>Mattapan</td>\n",
       "      <td>02126</td>\n",
       "      <td>414</td>\n",
       "    </tr>\n",
       "    <tr>\n",
       "      <th>1</th>\n",
       "      <td>Dorchester</td>\n",
       "      <td>02124</td>\n",
       "      <td>389</td>\n",
       "    </tr>\n",
       "    <tr>\n",
       "      <th>2</th>\n",
       "      <td>East Boston</td>\n",
       "      <td>02128</td>\n",
       "      <td>345</td>\n",
       "    </tr>\n",
       "    <tr>\n",
       "      <th>3</th>\n",
       "      <td>South Boston</td>\n",
       "      <td>02127</td>\n",
       "      <td>270</td>\n",
       "    </tr>\n",
       "    <tr>\n",
       "      <th>4</th>\n",
       "      <td>Charlestown</td>\n",
       "      <td>02129</td>\n",
       "      <td>269</td>\n",
       "    </tr>\n",
       "  </tbody>\n",
       "</table>\n",
       "</div>"
      ],
      "text/plain": [
       "   neighborhood postal  count\n",
       "0      Mattapan  02126    414\n",
       "1    Dorchester  02124    389\n",
       "2   East Boston  02128    345\n",
       "3  South Boston  02127    270\n",
       "4   Charlestown  02129    269"
      ]
     },
     "execution_count": 154,
     "metadata": {},
     "output_type": "execute_result"
    }
   ],
   "source": [
    "top_5_fair = ramps_0_df[ramps_0_df['RAMP_COND'].str.contains(\"Fair\")][['neighborhood', 'postal']].value_counts().head()\n",
    "top_5_fair = top_5_fair.to_frame().reset_index()\n",
    "top_5_fair = top_5_fair.rename(columns = {0: \"count\"})\n",
    "top_5_fair\n"
   ]
  },
  {
   "cell_type": "markdown",
   "metadata": {},
   "source": [
    "- Top 5 neighborhoods where the ramps are in fair condition with the ramps count."
   ]
  },
  {
   "cell_type": "code",
   "execution_count": 156,
   "metadata": {},
   "outputs": [
    {
     "data": {
      "text/html": [
       "<div>\n",
       "<style scoped>\n",
       "    .dataframe tbody tr th:only-of-type {\n",
       "        vertical-align: middle;\n",
       "    }\n",
       "\n",
       "    .dataframe tbody tr th {\n",
       "        vertical-align: top;\n",
       "    }\n",
       "\n",
       "    .dataframe thead th {\n",
       "        text-align: right;\n",
       "    }\n",
       "</style>\n",
       "<table border=\"1\" class=\"dataframe\">\n",
       "  <thead>\n",
       "    <tr style=\"text-align: right;\">\n",
       "      <th></th>\n",
       "      <th>neighborhood</th>\n",
       "      <th>postal</th>\n",
       "      <th>count</th>\n",
       "    </tr>\n",
       "  </thead>\n",
       "  <tbody>\n",
       "    <tr>\n",
       "      <th>0</th>\n",
       "      <td>Roslindale</td>\n",
       "      <td>02131</td>\n",
       "      <td>50</td>\n",
       "    </tr>\n",
       "    <tr>\n",
       "      <th>1</th>\n",
       "      <td>Roxbury</td>\n",
       "      <td>02119</td>\n",
       "      <td>43</td>\n",
       "    </tr>\n",
       "    <tr>\n",
       "      <th>2</th>\n",
       "      <td>Dorchester</td>\n",
       "      <td>02122</td>\n",
       "      <td>42</td>\n",
       "    </tr>\n",
       "    <tr>\n",
       "      <th>3</th>\n",
       "      <td>Hyde Park</td>\n",
       "      <td>02136</td>\n",
       "      <td>42</td>\n",
       "    </tr>\n",
       "    <tr>\n",
       "      <th>4</th>\n",
       "      <td>South Boston</td>\n",
       "      <td>02127</td>\n",
       "      <td>37</td>\n",
       "    </tr>\n",
       "  </tbody>\n",
       "</table>\n",
       "</div>"
      ],
      "text/plain": [
       "   neighborhood postal  count\n",
       "0    Roslindale  02131     50\n",
       "1       Roxbury  02119     43\n",
       "2    Dorchester  02122     42\n",
       "3     Hyde Park  02136     42\n",
       "4  South Boston  02127     37"
      ]
     },
     "execution_count": 156,
     "metadata": {},
     "output_type": "execute_result"
    }
   ],
   "source": [
    "top_5_poor = ramps_0_df[ramps_0_df['RAMP_COND'].str.contains(\"Poor\")][['neighborhood', 'postal']].value_counts().head()\n",
    "top_5_poor = top_5_poor.to_frame().reset_index()\n",
    "top_5_poor = top_5_poor.rename(columns = {0: \"count\"})\n",
    "top_5_poor"
   ]
  },
  {
   "cell_type": "markdown",
   "metadata": {},
   "source": [
    "- Top 5 neighborhoods where the ramps are in poor condition with the ramps count."
   ]
  },
  {
   "cell_type": "code",
   "execution_count": 160,
   "metadata": {},
   "outputs": [
    {
     "data": {
      "text/html": [
       "<div>\n",
       "<style scoped>\n",
       "    .dataframe tbody tr th:only-of-type {\n",
       "        vertical-align: middle;\n",
       "    }\n",
       "\n",
       "    .dataframe tbody tr th {\n",
       "        vertical-align: top;\n",
       "    }\n",
       "\n",
       "    .dataframe thead tr th {\n",
       "        text-align: left;\n",
       "    }\n",
       "</style>\n",
       "<table border=\"1\" class=\"dataframe\">\n",
       "  <thead>\n",
       "    <tr>\n",
       "      <th></th>\n",
       "      <th colspan=\"2\" halign=\"left\">neighborhood</th>\n",
       "      <th colspan=\"2\" halign=\"left\">postal</th>\n",
       "      <th colspan=\"2\" halign=\"left\">count</th>\n",
       "    </tr>\n",
       "    <tr>\n",
       "      <th></th>\n",
       "      <th>self</th>\n",
       "      <th>other</th>\n",
       "      <th>self</th>\n",
       "      <th>other</th>\n",
       "      <th>self</th>\n",
       "      <th>other</th>\n",
       "    </tr>\n",
       "  </thead>\n",
       "  <tbody>\n",
       "    <tr>\n",
       "      <th>0</th>\n",
       "      <td>West Roxbury</td>\n",
       "      <td>Mattapan</td>\n",
       "      <td>02132</td>\n",
       "      <td>02126</td>\n",
       "      <td>891</td>\n",
       "      <td>414</td>\n",
       "    </tr>\n",
       "    <tr>\n",
       "      <th>1</th>\n",
       "      <td>South Boston</td>\n",
       "      <td>Dorchester</td>\n",
       "      <td>02127</td>\n",
       "      <td>02124</td>\n",
       "      <td>888</td>\n",
       "      <td>389</td>\n",
       "    </tr>\n",
       "    <tr>\n",
       "      <th>2</th>\n",
       "      <td>Roxbury</td>\n",
       "      <td>East Boston</td>\n",
       "      <td>02119</td>\n",
       "      <td>02128</td>\n",
       "      <td>816</td>\n",
       "      <td>345</td>\n",
       "    </tr>\n",
       "    <tr>\n",
       "      <th>3</th>\n",
       "      <td>Roslindale</td>\n",
       "      <td>South Boston</td>\n",
       "      <td>02131</td>\n",
       "      <td>02127</td>\n",
       "      <td>679</td>\n",
       "      <td>270</td>\n",
       "    </tr>\n",
       "    <tr>\n",
       "      <th>4</th>\n",
       "      <td>Dorchester</td>\n",
       "      <td>Charlestown</td>\n",
       "      <td>02124</td>\n",
       "      <td>02129</td>\n",
       "      <td>659</td>\n",
       "      <td>269</td>\n",
       "    </tr>\n",
       "  </tbody>\n",
       "</table>\n",
       "</div>"
      ],
      "text/plain": [
       "   neighborhood               postal        count      \n",
       "           self         other   self  other  self other\n",
       "0  West Roxbury      Mattapan  02132  02126   891   414\n",
       "1  South Boston    Dorchester  02127  02124   888   389\n",
       "2       Roxbury   East Boston  02119  02128   816   345\n",
       "3    Roslindale  South Boston  02131  02127   679   270\n",
       "4    Dorchester   Charlestown  02124  02129   659   269"
      ]
     },
     "execution_count": 160,
     "metadata": {},
     "output_type": "execute_result"
    }
   ],
   "source": [
    "top_5_excellent.compare(top_5_fair)"
   ]
  },
  {
   "cell_type": "markdown",
   "metadata": {},
   "source": [
    "- Comparison between the ramps that are in excellent and fair condition."
   ]
  },
  {
   "cell_type": "code",
   "execution_count": 167,
   "metadata": {},
   "outputs": [
    {
     "data": {
      "text/html": [
       "<div>\n",
       "<style scoped>\n",
       "    .dataframe tbody tr th:only-of-type {\n",
       "        vertical-align: middle;\n",
       "    }\n",
       "\n",
       "    .dataframe tbody tr th {\n",
       "        vertical-align: top;\n",
       "    }\n",
       "\n",
       "    .dataframe thead th {\n",
       "        text-align: right;\n",
       "    }\n",
       "</style>\n",
       "<table border=\"1\" class=\"dataframe\">\n",
       "  <thead>\n",
       "    <tr style=\"text-align: right;\">\n",
       "      <th></th>\n",
       "      <th>FID</th>\n",
       "      <th>ObjectID</th>\n",
       "      <th>ObjectID_1</th>\n",
       "      <th>CREEC_Type</th>\n",
       "      <th>CREEC_Posi</th>\n",
       "      <th>RAMP_MATL</th>\n",
       "      <th>THR_WIDTH</th>\n",
       "      <th>LAND_EXIST</th>\n",
       "      <th>LANDING_SL</th>\n",
       "      <th>LANDING_CO</th>\n",
       "      <th>...</th>\n",
       "      <th>NEAR_ANGLE</th>\n",
       "      <th>Bearing</th>\n",
       "      <th>Dwy</th>\n",
       "      <th>RAMP_ID_1</th>\n",
       "      <th>Ramp_ID_d</th>\n",
       "      <th>Longitude</th>\n",
       "      <th>Latitude</th>\n",
       "      <th>address</th>\n",
       "      <th>postal</th>\n",
       "      <th>neighborhood</th>\n",
       "    </tr>\n",
       "  </thead>\n",
       "  <tbody>\n",
       "    <tr>\n",
       "      <th>0</th>\n",
       "      <td>1</td>\n",
       "      <td>1249</td>\n",
       "      <td>1249</td>\n",
       "      <td>Parallel</td>\n",
       "      <td>Uni-Directional</td>\n",
       "      <td>Portland Cement Concrete</td>\n",
       "      <td>4.0</td>\n",
       "      <td>Yes</td>\n",
       "      <td>2.3</td>\n",
       "      <td>Excellent (Like new)</td>\n",
       "      <td>...</td>\n",
       "      <td>0.0</td>\n",
       "      <td>255.310939</td>\n",
       "      <td></td>\n",
       "      <td>8998.1</td>\n",
       "      <td>8998.1</td>\n",
       "      <td>-71.165906</td>\n",
       "      <td>42.341852</td>\n",
       "      <td>Boston College (Brighton Campus), Undine Road,...</td>\n",
       "      <td>02138</td>\n",
       "      <td>Brighton</td>\n",
       "    </tr>\n",
       "    <tr>\n",
       "      <th>1</th>\n",
       "      <td>2</td>\n",
       "      <td>823</td>\n",
       "      <td>823</td>\n",
       "      <td>Parallel</td>\n",
       "      <td>Uni-Directional</td>\n",
       "      <td>Portland Cement Concrete</td>\n",
       "      <td>4.0</td>\n",
       "      <td>Yes</td>\n",
       "      <td>9.7</td>\n",
       "      <td>Fair (Minor/Hairline damage with no impact to ...</td>\n",
       "      <td>...</td>\n",
       "      <td>0.0</td>\n",
       "      <td>3.625703</td>\n",
       "      <td></td>\n",
       "      <td>5999.1</td>\n",
       "      <td>5999.1</td>\n",
       "      <td>-71.055954</td>\n",
       "      <td>42.365543</td>\n",
       "      <td>6, Margaret Street, North End, Boston, Suffolk...</td>\n",
       "      <td>02113</td>\n",
       "      <td>North End</td>\n",
       "    </tr>\n",
       "    <tr>\n",
       "      <th>2</th>\n",
       "      <td>3</td>\n",
       "      <td>1250</td>\n",
       "      <td>1250</td>\n",
       "      <td>Perpendicular</td>\n",
       "      <td>Uni-Directional</td>\n",
       "      <td>Portland Cement Concrete</td>\n",
       "      <td>4.5</td>\n",
       "      <td>Yes</td>\n",
       "      <td>1.9</td>\n",
       "      <td>Excellent (Like new)</td>\n",
       "      <td>...</td>\n",
       "      <td>0.0</td>\n",
       "      <td>147.404378</td>\n",
       "      <td></td>\n",
       "      <td>4375.2</td>\n",
       "      <td>4375.2</td>\n",
       "      <td>-71.137155</td>\n",
       "      <td>42.349207</td>\n",
       "      <td>132, Glenville Avenue, Allston Village, Allsto...</td>\n",
       "      <td>02134</td>\n",
       "      <td>Allston</td>\n",
       "    </tr>\n",
       "    <tr>\n",
       "      <th>3</th>\n",
       "      <td>4</td>\n",
       "      <td>824</td>\n",
       "      <td>824</td>\n",
       "      <td>Parallel</td>\n",
       "      <td>Uni-Directional</td>\n",
       "      <td>Portland Cement Concrete</td>\n",
       "      <td>4.0</td>\n",
       "      <td></td>\n",
       "      <td>0.0</td>\n",
       "      <td></td>\n",
       "      <td>...</td>\n",
       "      <td>0.0</td>\n",
       "      <td>265.705311</td>\n",
       "      <td></td>\n",
       "      <td>6880.1</td>\n",
       "      <td>6880.1</td>\n",
       "      <td>-71.055531</td>\n",
       "      <td>42.365034</td>\n",
       "      <td>1, Noyes Place, North End, Boston, Suffolk Cou...</td>\n",
       "      <td>02113</td>\n",
       "      <td>North End</td>\n",
       "    </tr>\n",
       "    <tr>\n",
       "      <th>4</th>\n",
       "      <td>5</td>\n",
       "      <td>1251</td>\n",
       "      <td>1251</td>\n",
       "      <td>Perpendicular</td>\n",
       "      <td>Uni-Directional</td>\n",
       "      <td>Portland Cement Concrete</td>\n",
       "      <td>5.0</td>\n",
       "      <td>Yes</td>\n",
       "      <td>2.5</td>\n",
       "      <td>Fair (Minor/Hairline damage with no impact to ...</td>\n",
       "      <td>...</td>\n",
       "      <td>0.0</td>\n",
       "      <td>70.955876</td>\n",
       "      <td></td>\n",
       "      <td>4375.1</td>\n",
       "      <td>4375.1</td>\n",
       "      <td>-71.137100</td>\n",
       "      <td>42.349289</td>\n",
       "      <td>139, Glenville Avenue, Allston Village, Allsto...</td>\n",
       "      <td>02134</td>\n",
       "      <td>Allston</td>\n",
       "    </tr>\n",
       "  </tbody>\n",
       "</table>\n",
       "<p>5 rows × 47 columns</p>\n",
       "</div>"
      ],
      "text/plain": [
       "   FID  ObjectID  ObjectID_1     CREEC_Type       CREEC_Posi  \\\n",
       "0    1      1249        1249       Parallel  Uni-Directional   \n",
       "1    2       823         823       Parallel  Uni-Directional   \n",
       "2    3      1250        1250  Perpendicular  Uni-Directional   \n",
       "3    4       824         824       Parallel  Uni-Directional   \n",
       "4    5      1251        1251  Perpendicular  Uni-Directional   \n",
       "\n",
       "                  RAMP_MATL  THR_WIDTH LAND_EXIST  LANDING_SL  \\\n",
       "0  Portland Cement Concrete        4.0        Yes         2.3   \n",
       "1  Portland Cement Concrete        4.0        Yes         9.7   \n",
       "2  Portland Cement Concrete        4.5        Yes         1.9   \n",
       "3  Portland Cement Concrete        4.0                    0.0   \n",
       "4  Portland Cement Concrete        5.0        Yes         2.5   \n",
       "\n",
       "                                          LANDING_CO  ...  NEAR_ANGLE  \\\n",
       "0                               Excellent (Like new)  ...         0.0   \n",
       "1  Fair (Minor/Hairline damage with no impact to ...  ...         0.0   \n",
       "2                               Excellent (Like new)  ...         0.0   \n",
       "3                                                     ...         0.0   \n",
       "4  Fair (Minor/Hairline damage with no impact to ...  ...         0.0   \n",
       "\n",
       "      Bearing Dwy RAMP_ID_1  Ramp_ID_d  Longitude   Latitude  \\\n",
       "0  255.310939        8998.1     8998.1 -71.165906  42.341852   \n",
       "1    3.625703        5999.1     5999.1 -71.055954  42.365543   \n",
       "2  147.404378        4375.2     4375.2 -71.137155  42.349207   \n",
       "3  265.705311        6880.1     6880.1 -71.055531  42.365034   \n",
       "4   70.955876        4375.1     4375.1 -71.137100  42.349289   \n",
       "\n",
       "                                             address  postal neighborhood  \n",
       "0  Boston College (Brighton Campus), Undine Road,...   02138     Brighton  \n",
       "1  6, Margaret Street, North End, Boston, Suffolk...   02113    North End  \n",
       "2  132, Glenville Avenue, Allston Village, Allsto...   02134      Allston  \n",
       "3  1, Noyes Place, North End, Boston, Suffolk Cou...   02113    North End  \n",
       "4  139, Glenville Avenue, Allston Village, Allsto...   02134      Allston  \n",
       "\n",
       "[5 rows x 47 columns]"
      ]
     },
     "execution_count": 167,
     "metadata": {},
     "output_type": "execute_result"
    }
   ],
   "source": [
    "ramps_0_df.head()"
   ]
  },
  {
   "cell_type": "code",
   "execution_count": 170,
   "metadata": {},
   "outputs": [
    {
     "data": {
      "text/html": [
       "<div>\n",
       "<style scoped>\n",
       "    .dataframe tbody tr th:only-of-type {\n",
       "        vertical-align: middle;\n",
       "    }\n",
       "\n",
       "    .dataframe tbody tr th {\n",
       "        vertical-align: top;\n",
       "    }\n",
       "\n",
       "    .dataframe thead th {\n",
       "        text-align: right;\n",
       "    }\n",
       "</style>\n",
       "<table border=\"1\" class=\"dataframe\">\n",
       "  <thead>\n",
       "    <tr style=\"text-align: right;\">\n",
       "      <th></th>\n",
       "      <th>Latitude</th>\n",
       "      <th>Longitude</th>\n",
       "    </tr>\n",
       "  </thead>\n",
       "  <tbody>\n",
       "    <tr>\n",
       "      <th>58</th>\n",
       "      <td>42.350019</td>\n",
       "      <td>-71.048837</td>\n",
       "    </tr>\n",
       "    <tr>\n",
       "      <th>8098</th>\n",
       "      <td>42.307509</td>\n",
       "      <td>-71.069948</td>\n",
       "    </tr>\n",
       "    <tr>\n",
       "      <th>8206</th>\n",
       "      <td>42.311700</td>\n",
       "      <td>-71.077983</td>\n",
       "    </tr>\n",
       "  </tbody>\n",
       "</table>\n",
       "</div>"
      ],
      "text/plain": [
       "       Latitude  Longitude\n",
       "58    42.350019 -71.048837\n",
       "8098  42.307509 -71.069948\n",
       "8206  42.311700 -71.077983"
      ]
     },
     "execution_count": 170,
     "metadata": {},
     "output_type": "execute_result"
    }
   ],
   "source": [
    "ramps_0_df[ramps_0_df['postal'].isna()][['Latitude', 'Longitude']]"
   ]
  },
  {
   "cell_type": "markdown",
   "metadata": {},
   "source": [
    "- Data cleanup for missing data"
   ]
  },
  {
   "cell_type": "code",
   "execution_count": 184,
   "metadata": {},
   "outputs": [
    {
     "name": "stdout",
     "output_type": "stream",
     "text": [
      "Updated the postal for index: 58; postal: 02210\n",
      "Updated the postal for index: 8098; postal: 02212\n",
      "Updated the postal for index: 8206; postal: 02121\n"
     ]
    }
   ],
   "source": [
    "# Get the zipcode for the missing rows\n",
    "\n",
    "from geopy.geocoders import Nominatim\n",
    "from geopy.point import Point\n",
    "import numpy as np\n",
    "\n",
    "geolocator = Nominatim(user_agent = \"test\")\n",
    "\n",
    "missing_postal = ramps_0_df[ramps_0_df['postal'].isna()][['Latitude', 'Longitude']]\n",
    "\n",
    "for index, row in missing_postal.iterrows():\n",
    "    location = geolocator.reverse(Point(row['Latitude'], row['Longitude']))\n",
    "    address = location.raw['address']\n",
    "    zip_code = address.get('postcode')\n",
    "    \n",
    "    # Update the postal for the missing ones\n",
    "    ramps_0_df.at[index, 'postal'] = zip_code\n",
    "    print('Updated the postal for index: '+ str(index)+ '; postal: '+zip_code)\n",
    "    \n",
    "\n",
    "# #ramps_0_df['address'] = np.vectorize(reverse_geocoding)(ramps_0_df['Latitude'], ramps_0_df['Longitude'])\n",
    "\n",
    "# print(ramps_0_df)"
   ]
  },
  {
   "cell_type": "markdown",
   "metadata": {},
   "source": [
    "- Data cleanup for missing data"
   ]
  },
  {
   "cell_type": "code",
   "execution_count": 186,
   "metadata": {},
   "outputs": [
    {
     "data": {
      "text/plain": [
       "'02212'"
      ]
     },
     "execution_count": 186,
     "metadata": {},
     "output_type": "execute_result"
    }
   ],
   "source": [
    "ramps_0_df.at[8098, 'postal']"
   ]
  },
  {
   "cell_type": "code",
   "execution_count": 188,
   "metadata": {},
   "outputs": [
    {
     "data": {
      "text/html": [
       "<div>\n",
       "<style scoped>\n",
       "    .dataframe tbody tr th:only-of-type {\n",
       "        vertical-align: middle;\n",
       "    }\n",
       "\n",
       "    .dataframe tbody tr th {\n",
       "        vertical-align: top;\n",
       "    }\n",
       "\n",
       "    .dataframe thead th {\n",
       "        text-align: right;\n",
       "    }\n",
       "</style>\n",
       "<table border=\"1\" class=\"dataframe\">\n",
       "  <thead>\n",
       "    <tr style=\"text-align: right;\">\n",
       "      <th></th>\n",
       "      <th>Latitude</th>\n",
       "      <th>Longitude</th>\n",
       "    </tr>\n",
       "  </thead>\n",
       "  <tbody>\n",
       "    <tr>\n",
       "      <th>367</th>\n",
       "      <td>42.353558</td>\n",
       "      <td>-71.053704</td>\n",
       "    </tr>\n",
       "    <tr>\n",
       "      <th>404</th>\n",
       "      <td>42.353539</td>\n",
       "      <td>-71.053595</td>\n",
       "    </tr>\n",
       "    <tr>\n",
       "      <th>815</th>\n",
       "      <td>42.358990</td>\n",
       "      <td>-71.058956</td>\n",
       "    </tr>\n",
       "    <tr>\n",
       "      <th>816</th>\n",
       "      <td>42.358934</td>\n",
       "      <td>-71.058723</td>\n",
       "    </tr>\n",
       "    <tr>\n",
       "      <th>840</th>\n",
       "      <td>42.355543</td>\n",
       "      <td>-71.057998</td>\n",
       "    </tr>\n",
       "    <tr>\n",
       "      <th>2105</th>\n",
       "      <td>42.353359</td>\n",
       "      <td>-71.057012</td>\n",
       "    </tr>\n",
       "    <tr>\n",
       "      <th>2490</th>\n",
       "      <td>42.355728</td>\n",
       "      <td>-71.058803</td>\n",
       "    </tr>\n",
       "    <tr>\n",
       "      <th>2499</th>\n",
       "      <td>42.355764</td>\n",
       "      <td>-71.058851</td>\n",
       "    </tr>\n",
       "    <tr>\n",
       "      <th>2552</th>\n",
       "      <td>42.357358</td>\n",
       "      <td>-71.054977</td>\n",
       "    </tr>\n",
       "    <tr>\n",
       "      <th>3935</th>\n",
       "      <td>42.362263</td>\n",
       "      <td>-71.062305</td>\n",
       "    </tr>\n",
       "    <tr>\n",
       "      <th>4930</th>\n",
       "      <td>42.361377</td>\n",
       "      <td>-71.062984</td>\n",
       "    </tr>\n",
       "    <tr>\n",
       "      <th>7844</th>\n",
       "      <td>42.347107</td>\n",
       "      <td>-71.079805</td>\n",
       "    </tr>\n",
       "    <tr>\n",
       "      <th>8998</th>\n",
       "      <td>42.342215</td>\n",
       "      <td>-71.073243</td>\n",
       "    </tr>\n",
       "    <tr>\n",
       "      <th>9000</th>\n",
       "      <td>42.342063</td>\n",
       "      <td>-71.073067</td>\n",
       "    </tr>\n",
       "    <tr>\n",
       "      <th>21584</th>\n",
       "      <td>42.285759</td>\n",
       "      <td>-71.064163</td>\n",
       "    </tr>\n",
       "    <tr>\n",
       "      <th>21585</th>\n",
       "      <td>42.285658</td>\n",
       "      <td>-71.064267</td>\n",
       "    </tr>\n",
       "    <tr>\n",
       "      <th>21864</th>\n",
       "      <td>42.285389</td>\n",
       "      <td>-71.064316</td>\n",
       "    </tr>\n",
       "    <tr>\n",
       "      <th>22294</th>\n",
       "      <td>42.352450</td>\n",
       "      <td>-71.061315</td>\n",
       "    </tr>\n",
       "    <tr>\n",
       "      <th>22295</th>\n",
       "      <td>42.352455</td>\n",
       "      <td>-71.061258</td>\n",
       "    </tr>\n",
       "    <tr>\n",
       "      <th>23977</th>\n",
       "      <td>42.342055</td>\n",
       "      <td>-71.073549</td>\n",
       "    </tr>\n",
       "    <tr>\n",
       "      <th>23978</th>\n",
       "      <td>42.341824</td>\n",
       "      <td>-71.073655</td>\n",
       "    </tr>\n",
       "    <tr>\n",
       "      <th>23979</th>\n",
       "      <td>42.341779</td>\n",
       "      <td>-71.073728</td>\n",
       "    </tr>\n",
       "    <tr>\n",
       "      <th>23982</th>\n",
       "      <td>42.341850</td>\n",
       "      <td>-71.073403</td>\n",
       "    </tr>\n",
       "  </tbody>\n",
       "</table>\n",
       "</div>"
      ],
      "text/plain": [
       "        Latitude  Longitude\n",
       "367    42.353558 -71.053704\n",
       "404    42.353539 -71.053595\n",
       "815    42.358990 -71.058956\n",
       "816    42.358934 -71.058723\n",
       "840    42.355543 -71.057998\n",
       "2105   42.353359 -71.057012\n",
       "2490   42.355728 -71.058803\n",
       "2499   42.355764 -71.058851\n",
       "2552   42.357358 -71.054977\n",
       "3935   42.362263 -71.062305\n",
       "4930   42.361377 -71.062984\n",
       "7844   42.347107 -71.079805\n",
       "8998   42.342215 -71.073243\n",
       "9000   42.342063 -71.073067\n",
       "21584  42.285759 -71.064163\n",
       "21585  42.285658 -71.064267\n",
       "21864  42.285389 -71.064316\n",
       "22294  42.352450 -71.061315\n",
       "22295  42.352455 -71.061258\n",
       "23977  42.342055 -71.073549\n",
       "23978  42.341824 -71.073655\n",
       "23979  42.341779 -71.073728\n",
       "23982  42.341850 -71.073403"
      ]
     },
     "execution_count": 188,
     "metadata": {},
     "output_type": "execute_result"
    }
   ],
   "source": [
    "ramps_0_df[ramps_0_df['postal'] == 'Massachusetts'][['Latitude', 'Longitude']]"
   ]
  },
  {
   "cell_type": "code",
   "execution_count": 190,
   "metadata": {},
   "outputs": [
    {
     "name": "stdout",
     "output_type": "stream",
     "text": [
      "Updated the postal for index: 404; postal: None\n",
      "Updated the postal for index: 815; postal: None\n",
      "Updated the postal for index: 816; postal: None\n",
      "Updated the postal for index: 840; postal: None\n",
      "Updated the postal for index: 2105; postal: None\n",
      "Updated the postal for index: 2490; postal: None\n",
      "Updated the postal for index: 2499; postal: None\n",
      "Updated the postal for index: 2552; postal: None\n",
      "Updated the postal for index: 3935; postal: None\n",
      "Updated the postal for index: 4930; postal: None\n",
      "Updated the postal for index: 7844; postal: None\n",
      "Updated the postal for index: 8998; postal: None\n",
      "Updated the postal for index: 9000; postal: None\n",
      "Updated the postal for index: 21584; postal: None\n",
      "Updated the postal for index: 21585; postal: None\n",
      "Updated the postal for index: 21864; postal: None\n",
      "Updated the postal for index: 22294; postal: None\n",
      "Updated the postal for index: 22295; postal: None\n",
      "Updated the postal for index: 23977; postal: None\n",
      "Updated the postal for index: 23978; postal: None\n",
      "Updated the postal for index: 23979; postal: None\n",
      "Updated the postal for index: 23982; postal: None\n"
     ]
    }
   ],
   "source": [
    "# Get the zipcode for the missing rows\n",
    "\n",
    "from geopy.geocoders import Nominatim\n",
    "from geopy.point import Point\n",
    "import numpy as np\n",
    "\n",
    "geolocator = Nominatim(user_agent = \"test\")\n",
    "\n",
    "missing_postal_2 = ramps_0_df[ramps_0_df['postal'] == 'Massachusetts'][['Latitude', 'Longitude']]\n",
    "\n",
    "for index, row in missing_postal_2.iterrows():\n",
    "    location = geolocator.reverse(Point(row['Latitude'], row['Longitude']))\n",
    "    address = location.raw['address']\n",
    "    zip_code = address.get('postcode')\n",
    "    \n",
    "    # Update the postal for the missing ones\n",
    "    ramps_0_df.at[index, 'postal'] = zip_code\n",
    "    print('Updated the postal for index: '+ str(index)+ '; postal: '+ str(zip_code))\n",
    "    "
   ]
  },
  {
   "cell_type": "markdown",
   "metadata": {},
   "source": [
    "- Data cleanup for missing data"
   ]
  },
  {
   "cell_type": "code",
   "execution_count": 211,
   "metadata": {},
   "outputs": [
    {
     "data": {
      "text/html": [
       "<div>\n",
       "<style scoped>\n",
       "    .dataframe tbody tr th:only-of-type {\n",
       "        vertical-align: middle;\n",
       "    }\n",
       "\n",
       "    .dataframe tbody tr th {\n",
       "        vertical-align: top;\n",
       "    }\n",
       "\n",
       "    .dataframe thead th {\n",
       "        text-align: right;\n",
       "    }\n",
       "</style>\n",
       "<table border=\"1\" class=\"dataframe\">\n",
       "  <thead>\n",
       "    <tr style=\"text-align: right;\">\n",
       "      <th></th>\n",
       "      <th>FID</th>\n",
       "      <th>ObjectID</th>\n",
       "      <th>ObjectID_1</th>\n",
       "      <th>CREEC_Type</th>\n",
       "      <th>CREEC_Posi</th>\n",
       "      <th>RAMP_MATL</th>\n",
       "      <th>THR_WIDTH</th>\n",
       "      <th>LAND_EXIST</th>\n",
       "      <th>LANDING_SL</th>\n",
       "      <th>LANDING_CO</th>\n",
       "      <th>...</th>\n",
       "      <th>NEAR_ANGLE</th>\n",
       "      <th>Bearing</th>\n",
       "      <th>Dwy</th>\n",
       "      <th>RAMP_ID_1</th>\n",
       "      <th>Ramp_ID_d</th>\n",
       "      <th>Longitude</th>\n",
       "      <th>Latitude</th>\n",
       "      <th>address</th>\n",
       "      <th>postal</th>\n",
       "      <th>neighborhood</th>\n",
       "    </tr>\n",
       "  </thead>\n",
       "  <tbody>\n",
       "    <tr>\n",
       "      <th>0</th>\n",
       "      <td>1</td>\n",
       "      <td>1249</td>\n",
       "      <td>1249</td>\n",
       "      <td>Parallel</td>\n",
       "      <td>Uni-Directional</td>\n",
       "      <td>Portland Cement Concrete</td>\n",
       "      <td>4.0</td>\n",
       "      <td>Yes</td>\n",
       "      <td>2.3</td>\n",
       "      <td>Excellent (Like new)</td>\n",
       "      <td>...</td>\n",
       "      <td>0.0</td>\n",
       "      <td>255.310939</td>\n",
       "      <td></td>\n",
       "      <td>8998.1</td>\n",
       "      <td>8998.1</td>\n",
       "      <td>-71.165906</td>\n",
       "      <td>42.341852</td>\n",
       "      <td>Boston College (Brighton Campus), Undine Road,...</td>\n",
       "      <td>02138</td>\n",
       "      <td>Brighton</td>\n",
       "    </tr>\n",
       "    <tr>\n",
       "      <th>1</th>\n",
       "      <td>2</td>\n",
       "      <td>823</td>\n",
       "      <td>823</td>\n",
       "      <td>Parallel</td>\n",
       "      <td>Uni-Directional</td>\n",
       "      <td>Portland Cement Concrete</td>\n",
       "      <td>4.0</td>\n",
       "      <td>Yes</td>\n",
       "      <td>9.7</td>\n",
       "      <td>Fair (Minor/Hairline damage with no impact to ...</td>\n",
       "      <td>...</td>\n",
       "      <td>0.0</td>\n",
       "      <td>3.625703</td>\n",
       "      <td></td>\n",
       "      <td>5999.1</td>\n",
       "      <td>5999.1</td>\n",
       "      <td>-71.055954</td>\n",
       "      <td>42.365543</td>\n",
       "      <td>6, Margaret Street, North End, Boston, Suffolk...</td>\n",
       "      <td>02113</td>\n",
       "      <td>North End</td>\n",
       "    </tr>\n",
       "    <tr>\n",
       "      <th>2</th>\n",
       "      <td>3</td>\n",
       "      <td>1250</td>\n",
       "      <td>1250</td>\n",
       "      <td>Perpendicular</td>\n",
       "      <td>Uni-Directional</td>\n",
       "      <td>Portland Cement Concrete</td>\n",
       "      <td>4.5</td>\n",
       "      <td>Yes</td>\n",
       "      <td>1.9</td>\n",
       "      <td>Excellent (Like new)</td>\n",
       "      <td>...</td>\n",
       "      <td>0.0</td>\n",
       "      <td>147.404378</td>\n",
       "      <td></td>\n",
       "      <td>4375.2</td>\n",
       "      <td>4375.2</td>\n",
       "      <td>-71.137155</td>\n",
       "      <td>42.349207</td>\n",
       "      <td>132, Glenville Avenue, Allston Village, Allsto...</td>\n",
       "      <td>02134</td>\n",
       "      <td>Allston</td>\n",
       "    </tr>\n",
       "    <tr>\n",
       "      <th>3</th>\n",
       "      <td>4</td>\n",
       "      <td>824</td>\n",
       "      <td>824</td>\n",
       "      <td>Parallel</td>\n",
       "      <td>Uni-Directional</td>\n",
       "      <td>Portland Cement Concrete</td>\n",
       "      <td>4.0</td>\n",
       "      <td></td>\n",
       "      <td>0.0</td>\n",
       "      <td></td>\n",
       "      <td>...</td>\n",
       "      <td>0.0</td>\n",
       "      <td>265.705311</td>\n",
       "      <td></td>\n",
       "      <td>6880.1</td>\n",
       "      <td>6880.1</td>\n",
       "      <td>-71.055531</td>\n",
       "      <td>42.365034</td>\n",
       "      <td>1, Noyes Place, North End, Boston, Suffolk Cou...</td>\n",
       "      <td>02113</td>\n",
       "      <td>North End</td>\n",
       "    </tr>\n",
       "    <tr>\n",
       "      <th>4</th>\n",
       "      <td>5</td>\n",
       "      <td>1251</td>\n",
       "      <td>1251</td>\n",
       "      <td>Perpendicular</td>\n",
       "      <td>Uni-Directional</td>\n",
       "      <td>Portland Cement Concrete</td>\n",
       "      <td>5.0</td>\n",
       "      <td>Yes</td>\n",
       "      <td>2.5</td>\n",
       "      <td>Fair (Minor/Hairline damage with no impact to ...</td>\n",
       "      <td>...</td>\n",
       "      <td>0.0</td>\n",
       "      <td>70.955876</td>\n",
       "      <td></td>\n",
       "      <td>4375.1</td>\n",
       "      <td>4375.1</td>\n",
       "      <td>-71.137100</td>\n",
       "      <td>42.349289</td>\n",
       "      <td>139, Glenville Avenue, Allston Village, Allsto...</td>\n",
       "      <td>02134</td>\n",
       "      <td>Allston</td>\n",
       "    </tr>\n",
       "  </tbody>\n",
       "</table>\n",
       "<p>5 rows × 47 columns</p>\n",
       "</div>"
      ],
      "text/plain": [
       "   FID  ObjectID  ObjectID_1     CREEC_Type       CREEC_Posi  \\\n",
       "0    1      1249        1249       Parallel  Uni-Directional   \n",
       "1    2       823         823       Parallel  Uni-Directional   \n",
       "2    3      1250        1250  Perpendicular  Uni-Directional   \n",
       "3    4       824         824       Parallel  Uni-Directional   \n",
       "4    5      1251        1251  Perpendicular  Uni-Directional   \n",
       "\n",
       "                  RAMP_MATL  THR_WIDTH LAND_EXIST  LANDING_SL  \\\n",
       "0  Portland Cement Concrete        4.0        Yes         2.3   \n",
       "1  Portland Cement Concrete        4.0        Yes         9.7   \n",
       "2  Portland Cement Concrete        4.5        Yes         1.9   \n",
       "3  Portland Cement Concrete        4.0                    0.0   \n",
       "4  Portland Cement Concrete        5.0        Yes         2.5   \n",
       "\n",
       "                                          LANDING_CO  ...  NEAR_ANGLE  \\\n",
       "0                               Excellent (Like new)  ...         0.0   \n",
       "1  Fair (Minor/Hairline damage with no impact to ...  ...         0.0   \n",
       "2                               Excellent (Like new)  ...         0.0   \n",
       "3                                                     ...         0.0   \n",
       "4  Fair (Minor/Hairline damage with no impact to ...  ...         0.0   \n",
       "\n",
       "      Bearing Dwy RAMP_ID_1  Ramp_ID_d  Longitude   Latitude  \\\n",
       "0  255.310939        8998.1     8998.1 -71.165906  42.341852   \n",
       "1    3.625703        5999.1     5999.1 -71.055954  42.365543   \n",
       "2  147.404378        4375.2     4375.2 -71.137155  42.349207   \n",
       "3  265.705311        6880.1     6880.1 -71.055531  42.365034   \n",
       "4   70.955876        4375.1     4375.1 -71.137100  42.349289   \n",
       "\n",
       "                                             address  postal neighborhood  \n",
       "0  Boston College (Brighton Campus), Undine Road,...   02138     Brighton  \n",
       "1  6, Margaret Street, North End, Boston, Suffolk...   02113    North End  \n",
       "2  132, Glenville Avenue, Allston Village, Allsto...   02134      Allston  \n",
       "3  1, Noyes Place, North End, Boston, Suffolk Cou...   02113    North End  \n",
       "4  139, Glenville Avenue, Allston Village, Allsto...   02134      Allston  \n",
       "\n",
       "[5 rows x 47 columns]"
      ]
     },
     "execution_count": 211,
     "metadata": {},
     "output_type": "execute_result"
    }
   ],
   "source": [
    "ramps_0_df[ramps_0_df['postal'].isna()]['postal'].fillna('N/A')\n",
    "ramps_0_df.head()"
   ]
  },
  {
   "cell_type": "markdown",
   "metadata": {},
   "source": [
    "- Data cleanup for missing data"
   ]
  },
  {
   "cell_type": "code",
   "execution_count": 210,
   "metadata": {},
   "outputs": [
    {
     "data": {
      "text/plain": [
       "array(['Brighton', 'North End', 'Allston', 'South Boston', 'Chinatown',\n",
       "       nan, 'Roslindale', 'Hyde Park', 'Fenway / Kenmore', 'Back Bay',\n",
       "       'Dorchester', 'Roxbury', 'Jamaica Plain', 'West Roxbury',\n",
       "       'Downtown Boston', 'Mattapan', 'South End', 'Leather District',\n",
       "       'Beacon Hill', 'Bay Village', 'Dock Square', 'West End',\n",
       "       'Downtown Crossing', 'Charlestown', 'Mission Hill', 'Church Green',\n",
       "       'Baker Street', 'Essex Street', 'Financial District',\n",
       "       'East Boston', 'East Cambridge', 'Woodmere',\n",
       "       'Government Service Center Plaza', 'Copley Bridge',\n",
       "       'Cambridgeport', \"Saint Mary's Street\", 'Villa Victoria',\n",
       "       'Colchester Street', 'Chestnut Hill', 'Mountfort Street',\n",
       "       'Courtney Road', 'Beaconsfield', 'Putterham', 'Beacon Street',\n",
       "       'Ivy Street', 'Euston Street', 'Riverdale', 'Ashmont',\n",
       "       'Phillips Square Tactical Plaza', 'North Brookline'], dtype=object)"
      ]
     },
     "execution_count": 210,
     "metadata": {},
     "output_type": "execute_result"
    }
   ],
   "source": [
    "# Different neighborhoods of Boston\n",
    "ramps_0_df['neighborhood'].unique()"
   ]
  },
  {
   "cell_type": "code",
   "execution_count": 212,
   "metadata": {},
   "outputs": [
    {
     "data": {
      "text/plain": [
       "Index(['FID', 'ObjectID', 'ObjectID_1', 'CREEC_Type', 'CREEC_Posi',\n",
       "       'RAMP_MATL', 'THR_WIDTH', 'LAND_EXIST', 'LANDING_SL', 'LANDING_CO',\n",
       "       'APRON_SL', 'LFLARE_SL', 'DWP_MATL', 'DWP_COND', 'GUTTER_SL',\n",
       "       'GUTTER_CS', 'LIP', 'CROSS_', 'RFLARE_SL', 'SAFE_ZONE_', 'RAMP_OBSTR',\n",
       "       'FLARE_OBST', 'APRON_CROS', 'Crosswalk_', 'RAMP_COND', 'ADA_Compli',\n",
       "       'Photo', 'ObjectID_3', 'Failure_Ty', 'Failure_La', 'NEAR_FID',\n",
       "       'NEAR_DIST', 'INT_ID', 'I_NEARDIST', 'I_NEARFID', 'PARC_ID', 'AT_INT',\n",
       "       'NEAR_ANGLE', 'Bearing', 'Dwy', 'RAMP_ID_1', 'Ramp_ID_d', 'Longitude',\n",
       "       'Latitude', 'address', 'postal', 'neighborhood'],\n",
       "      dtype='object')"
      ]
     },
     "execution_count": 212,
     "metadata": {},
     "output_type": "execute_result"
    }
   ],
   "source": [
    "ramps_0_df.columns"
   ]
  },
  {
   "cell_type": "code",
   "execution_count": 235,
   "metadata": {},
   "outputs": [
    {
     "data": {
      "text/html": [
       "<div>\n",
       "<style scoped>\n",
       "    .dataframe tbody tr th:only-of-type {\n",
       "        vertical-align: middle;\n",
       "    }\n",
       "\n",
       "    .dataframe tbody tr th {\n",
       "        vertical-align: top;\n",
       "    }\n",
       "\n",
       "    .dataframe thead th {\n",
       "        text-align: right;\n",
       "    }\n",
       "</style>\n",
       "<table border=\"1\" class=\"dataframe\">\n",
       "  <thead>\n",
       "    <tr style=\"text-align: right;\">\n",
       "      <th></th>\n",
       "      <th>I_NEARDIST</th>\n",
       "      <th>I_NEARFID</th>\n",
       "      <th>FID</th>\n",
       "      <th>Crosswalk_</th>\n",
       "      <th>RAMP_COND</th>\n",
       "      <th>Latitude</th>\n",
       "      <th>Longitude</th>\n",
       "      <th>postal</th>\n",
       "      <th>neighborhood</th>\n",
       "    </tr>\n",
       "  </thead>\n",
       "  <tbody>\n",
       "    <tr>\n",
       "      <th>0</th>\n",
       "      <td>8.560554</td>\n",
       "      <td>5824</td>\n",
       "      <td>1</td>\n",
       "      <td>Poor- needs to be re-striped</td>\n",
       "      <td>Excellent (Like new)</td>\n",
       "      <td>42.341852</td>\n",
       "      <td>-71.165906</td>\n",
       "      <td>02138</td>\n",
       "      <td>Brighton</td>\n",
       "    </tr>\n",
       "  </tbody>\n",
       "</table>\n",
       "</div>"
      ],
      "text/plain": [
       "   I_NEARDIST  I_NEARFID  FID                    Crosswalk_  \\\n",
       "0    8.560554       5824    1  Poor- needs to be re-striped   \n",
       "\n",
       "              RAMP_COND   Latitude  Longitude postal neighborhood  \n",
       "0  Excellent (Like new)  42.341852 -71.165906  02138     Brighton  "
      ]
     },
     "execution_count": 235,
     "metadata": {},
     "output_type": "execute_result"
    }
   ],
   "source": [
    "ramps_0_df[ramps_0_df['FID'] == 1][['I_NEARDIST', 'I_NEARFID', 'FID', 'Crosswalk_', 'RAMP_COND', 'Latitude', 'Longitude', 'postal', 'neighborhood']]"
   ]
  },
  {
   "cell_type": "code",
   "execution_count": 243,
   "metadata": {},
   "outputs": [
    {
     "data": {
      "text/html": [
       "<div>\n",
       "<style scoped>\n",
       "    .dataframe tbody tr th:only-of-type {\n",
       "        vertical-align: middle;\n",
       "    }\n",
       "\n",
       "    .dataframe tbody tr th {\n",
       "        vertical-align: top;\n",
       "    }\n",
       "\n",
       "    .dataframe thead th {\n",
       "        text-align: right;\n",
       "    }\n",
       "</style>\n",
       "<table border=\"1\" class=\"dataframe\">\n",
       "  <thead>\n",
       "    <tr style=\"text-align: right;\">\n",
       "      <th></th>\n",
       "      <th>Crosswalk_</th>\n",
       "      <th>RAMP_COND</th>\n",
       "    </tr>\n",
       "  </thead>\n",
       "  <tbody>\n",
       "    <tr>\n",
       "      <th>1</th>\n",
       "      <td></td>\n",
       "      <td>Fair (Minor/Hairline damage with no impact to ...</td>\n",
       "    </tr>\n",
       "    <tr>\n",
       "      <th>3</th>\n",
       "      <td></td>\n",
       "      <td>Excellent (Like new)</td>\n",
       "    </tr>\n",
       "    <tr>\n",
       "      <th>6</th>\n",
       "      <td></td>\n",
       "      <td>Fair (Minor/Hairline damage with no impact to ...</td>\n",
       "    </tr>\n",
       "    <tr>\n",
       "      <th>9</th>\n",
       "      <td></td>\n",
       "      <td>Excellent (Like new)</td>\n",
       "    </tr>\n",
       "    <tr>\n",
       "      <th>16</th>\n",
       "      <td></td>\n",
       "      <td>Excellent (Like new)</td>\n",
       "    </tr>\n",
       "    <tr>\n",
       "      <th>...</th>\n",
       "      <td>...</td>\n",
       "      <td>...</td>\n",
       "    </tr>\n",
       "    <tr>\n",
       "      <th>26145</th>\n",
       "      <td></td>\n",
       "      <td></td>\n",
       "    </tr>\n",
       "    <tr>\n",
       "      <th>26146</th>\n",
       "      <td></td>\n",
       "      <td></td>\n",
       "    </tr>\n",
       "    <tr>\n",
       "      <th>26149</th>\n",
       "      <td></td>\n",
       "      <td></td>\n",
       "    </tr>\n",
       "    <tr>\n",
       "      <th>26159</th>\n",
       "      <td></td>\n",
       "      <td>Excellent (Like new)</td>\n",
       "    </tr>\n",
       "    <tr>\n",
       "      <th>26160</th>\n",
       "      <td></td>\n",
       "      <td>Fair (Minor/Hairline damage with no impact to ...</td>\n",
       "    </tr>\n",
       "  </tbody>\n",
       "</table>\n",
       "<p>11017 rows × 2 columns</p>\n",
       "</div>"
      ],
      "text/plain": [
       "      Crosswalk_                                          RAMP_COND\n",
       "1                 Fair (Minor/Hairline damage with no impact to ...\n",
       "3                                              Excellent (Like new)\n",
       "6                 Fair (Minor/Hairline damage with no impact to ...\n",
       "9                                              Excellent (Like new)\n",
       "16                                             Excellent (Like new)\n",
       "...          ...                                                ...\n",
       "26145                                                              \n",
       "26146                                                              \n",
       "26149                                                              \n",
       "26159                                          Excellent (Like new)\n",
       "26160             Fair (Minor/Hairline damage with no impact to ...\n",
       "\n",
       "[11017 rows x 2 columns]"
      ]
     },
     "execution_count": 243,
     "metadata": {},
     "output_type": "execute_result"
    }
   ],
   "source": [
    "ramps_0_df[ramps_0_df['Crosswalk_'] == ' '][['Crosswalk_', 'RAMP_COND']]"
   ]
  },
  {
   "cell_type": "code",
   "execution_count": 264,
   "metadata": {},
   "outputs": [
    {
     "data": {
      "text/plain": [
       "array(['Portland Cement Concrete', 'Bituminous Concrete', ' ', 'Brick',\n",
       "       'Other', 'Portland Concrete w/brick accent', 'Cobblestone/Pavers'],\n",
       "      dtype=object)"
      ]
     },
     "execution_count": 264,
     "metadata": {},
     "output_type": "execute_result"
    }
   ],
   "source": [
    "ramps_0_df['RAMP_MATL'].unique()"
   ]
  },
  {
   "cell_type": "code",
   "execution_count": 265,
   "metadata": {},
   "outputs": [],
   "source": [
    "# Create 3 diff dataframes for excellent, fair, and poor ramp conditions\n",
    "ramps_0_poor_df = ramps_0_df[ramps_0_df['RAMP_COND'].str.contains(\"Poor\")]\n",
    "\n",
    "ramps_0_excel_df = ramps_0_df[ramps_0_df['RAMP_COND'].str.contains(\"Excellent\")]\n",
    "\n",
    "ramps_0_fair_df = ramps_0_df[ramps_0_df['RAMP_COND'].str.contains(\"Fair\")]"
   ]
  },
  {
   "cell_type": "code",
   "execution_count": 295,
   "metadata": {},
   "outputs": [
    {
     "data": {
      "text/plain": [
       "Uni-Directional    80.071433\n",
       "Diagonal           19.921953\n",
       "                    0.006614\n",
       "Name: CREEC_Posi, dtype: float64"
      ]
     },
     "execution_count": 295,
     "metadata": {},
     "output_type": "execute_result"
    }
   ],
   "source": [
    "#ramps_0_excel_df[['CREEC_Type', 'CREEC_Posi', 'RAMP_MATL', 'Bearing', 'LAND_EXIST']]\n",
    "ramps_0_excel_df['CREEC_Posi'].value_counts(normalize = True) * 100"
   ]
  },
  {
   "cell_type": "code",
   "execution_count": 296,
   "metadata": {},
   "outputs": [
    {
     "data": {
      "text/plain": [
       "Uni-Directional    81.188912\n",
       "Diagonal           18.795065\n",
       "                    0.016023\n",
       "Name: CREEC_Posi, dtype: float64"
      ]
     },
     "execution_count": 296,
     "metadata": {},
     "output_type": "execute_result"
    }
   ],
   "source": [
    "#ramps_0_fair_df[['CREEC_Type', 'CREEC_Posi', 'RAMP_MATL', 'Bearing', 'LAND_EXIST']]\n",
    "ramps_0_fair_df['CREEC_Posi'].value_counts(normalize = True) * 100"
   ]
  },
  {
   "cell_type": "code",
   "execution_count": 297,
   "metadata": {},
   "outputs": [
    {
     "data": {
      "text/plain": [
       "Uni-Directional    84.962406\n",
       "Diagonal           14.887218\n",
       "                    0.150376\n",
       "Name: CREEC_Posi, dtype: float64"
      ]
     },
     "execution_count": 297,
     "metadata": {},
     "output_type": "execute_result"
    }
   ],
   "source": [
    "#ramps_0_poor_df[['CREEC_Type', 'CREEC_Posi', 'RAMP_MATL', 'Bearing', 'LAND_EXIST']]\n",
    "ramps_0_poor_df['CREEC_Posi'].value_counts(normalize = True) * 100"
   ]
  },
  {
   "cell_type": "code",
   "execution_count": null,
   "metadata": {},
   "outputs": [],
   "source": []
  },
  {
   "cell_type": "code",
   "execution_count": 298,
   "metadata": {},
   "outputs": [
    {
     "data": {
      "text/plain": [
       "Perpendicular         57.477346\n",
       "Parallel              21.859911\n",
       "Diagonal              19.921953\n",
       "Combination            0.734176\n",
       "Under Construction     0.006614\n",
       "Name: CREEC_Type, dtype: float64"
      ]
     },
     "execution_count": 298,
     "metadata": {},
     "output_type": "execute_result"
    }
   ],
   "source": [
    "ramps_0_excel_df['CREEC_Type'].value_counts(normalize = True) * 100"
   ]
  },
  {
   "cell_type": "markdown",
   "metadata": {},
   "source": [
    "- Analyzing the percentage of excellent ramps and the CREEC_Type"
   ]
  },
  {
   "cell_type": "code",
   "execution_count": 300,
   "metadata": {},
   "outputs": [
    {
     "data": {
      "text/plain": [
       "Perpendicular    59.125140\n",
       "Parallel         21.502964\n",
       "Diagonal         18.795065\n",
       "Combination       0.560808\n",
       "Missing           0.016023\n",
       "Name: CREEC_Type, dtype: float64"
      ]
     },
     "execution_count": 300,
     "metadata": {},
     "output_type": "execute_result"
    }
   ],
   "source": [
    "ramps_0_fair_df['CREEC_Type'].value_counts(normalize = True) * 100"
   ]
  },
  {
   "cell_type": "markdown",
   "metadata": {},
   "source": [
    "- Analyzing the percentage of fair ramps and the CREEC_Type"
   ]
  },
  {
   "cell_type": "code",
   "execution_count": 301,
   "metadata": {},
   "outputs": [
    {
     "data": {
      "text/plain": [
       "Perpendicular    55.789474\n",
       "Parallel         29.022556\n",
       "Diagonal         14.887218\n",
       "Missing           0.150376\n",
       "Combination       0.150376\n",
       "Name: CREEC_Type, dtype: float64"
      ]
     },
     "execution_count": 301,
     "metadata": {},
     "output_type": "execute_result"
    }
   ],
   "source": [
    "ramps_0_poor_df['CREEC_Type'].value_counts(normalize = True) * 100"
   ]
  },
  {
   "cell_type": "code",
   "execution_count": 519,
   "metadata": {},
   "outputs": [
    {
     "data": {
      "text/plain": [
       "Portland Cement Concrete            91.009518\n",
       "Brick                                4.036543\n",
       "Bituminous Concrete                  2.782768\n",
       "                                     1.162035\n",
       "Other                                0.504568\n",
       "Cobblestone/Pavers                   0.279041\n",
       "Portland Concrete w/brick accent     0.225527\n",
       "Name: RAMP_MATL, dtype: float64"
      ]
     },
     "execution_count": 519,
     "metadata": {},
     "output_type": "execute_result"
    }
   ],
   "source": [
    "ramps_0_df['RAMP_MATL'].value_counts(normalize = True) * 100"
   ]
  },
  {
   "cell_type": "markdown",
   "metadata": {},
   "source": [
    "- Analyzing the percentage of ramps and the RAMP_MATL"
   ]
  },
  {
   "cell_type": "code",
   "execution_count": 302,
   "metadata": {},
   "outputs": [
    {
     "data": {
      "text/plain": [
       "Portland Cement Concrete            95.264237\n",
       "Brick                                2.500165\n",
       "Bituminous Concrete                  1.131027\n",
       "Other                                0.562206\n",
       "Cobblestone/Pavers                   0.330710\n",
       "Portland Concrete w/brick accent     0.205040\n",
       "                                     0.006614\n",
       "Name: RAMP_MATL, dtype: float64"
      ]
     },
     "execution_count": 302,
     "metadata": {},
     "output_type": "execute_result"
    }
   ],
   "source": [
    "ramps_0_excel_df['RAMP_MATL'].value_counts(normalize = True) * 100"
   ]
  },
  {
   "cell_type": "markdown",
   "metadata": {},
   "source": [
    "- Analyzing the percentage of excellent ramps and the RAMP_MATL"
   ]
  },
  {
   "cell_type": "code",
   "execution_count": 303,
   "metadata": {},
   "outputs": [
    {
     "data": {
      "text/plain": [
       "Portland Cement Concrete            87.373818\n",
       "Brick                                7.082198\n",
       "Bituminous Concrete                  4.422368\n",
       "Other                                0.480692\n",
       "Portland Concrete w/brick accent     0.368531\n",
       "Cobblestone/Pavers                   0.272392\n",
       "Name: RAMP_MATL, dtype: float64"
      ]
     },
     "execution_count": 303,
     "metadata": {},
     "output_type": "execute_result"
    }
   ],
   "source": [
    "ramps_0_fair_df['RAMP_MATL'].value_counts(normalize = True) * 100"
   ]
  },
  {
   "cell_type": "markdown",
   "metadata": {},
   "source": [
    "- Analyzing the percentage of fair ramps and the RAMP_MATL"
   ]
  },
  {
   "cell_type": "code",
   "execution_count": 304,
   "metadata": {},
   "outputs": [
    {
     "data": {
      "text/plain": [
       "Portland Cement Concrete            84.812030\n",
       "Bituminous Concrete                  9.924812\n",
       "Brick                                3.609023\n",
       "Other                                1.353383\n",
       "Portland Concrete w/brick accent     0.300752\n",
       "Name: RAMP_MATL, dtype: float64"
      ]
     },
     "execution_count": 304,
     "metadata": {},
     "output_type": "execute_result"
    }
   ],
   "source": [
    "ramps_0_poor_df['RAMP_MATL'].value_counts(normalize = True) * 100"
   ]
  },
  {
   "cell_type": "markdown",
   "metadata": {},
   "source": [
    "- Analyzing the percentage of poor ramps and the RAMP_MATL"
   ]
  },
  {
   "cell_type": "code",
   "execution_count": 315,
   "metadata": {},
   "outputs": [
    {
     "data": {
      "text/plain": [
       "                                                                       2239\n",
       "Excellent (Like new)                                                    694\n",
       "Fair (Minor/Hairline damage with no impact to accessibility)            368\n",
       "Poor (Panel is damaged and affecting functionality- to be replaced)      64\n",
       "Name: RAMP_COND, dtype: int64"
      ]
     },
     "execution_count": 315,
     "metadata": {},
     "output_type": "execute_result"
    }
   ],
   "source": [
    "ramps_0_df[ramps_0_df['LAND_EXIST'] == ' ']['RAMP_COND'].value_counts()"
   ]
  },
  {
   "cell_type": "code",
   "execution_count": 306,
   "metadata": {},
   "outputs": [
    {
     "data": {
      "text/plain": [
       "Yes    92.783914\n",
       "        4.590251\n",
       "No      2.625835\n",
       "Name: LAND_EXIST, dtype: float64"
      ]
     },
     "execution_count": 306,
     "metadata": {},
     "output_type": "execute_result"
    }
   ],
   "source": [
    "ramps_0_excel_df['LAND_EXIST'].value_counts(normalize = True) * 100"
   ]
  },
  {
   "cell_type": "code",
   "execution_count": 307,
   "metadata": {},
   "outputs": [
    {
     "data": {
      "text/plain": [
       "Yes    84.217273\n",
       "No      9.886236\n",
       "        5.896491\n",
       "Name: LAND_EXIST, dtype: float64"
      ]
     },
     "execution_count": 307,
     "metadata": {},
     "output_type": "execute_result"
    }
   ],
   "source": [
    "ramps_0_fair_df['LAND_EXIST'].value_counts(normalize = True) * 100"
   ]
  },
  {
   "cell_type": "code",
   "execution_count": 308,
   "metadata": {},
   "outputs": [
    {
     "data": {
      "text/plain": [
       "Yes    75.18797\n",
       "No     15.18797\n",
       "        9.62406\n",
       "Name: LAND_EXIST, dtype: float64"
      ]
     },
     "execution_count": 308,
     "metadata": {},
     "output_type": "execute_result"
    }
   ],
   "source": [
    "ramps_0_poor_df['LAND_EXIST'].value_counts(normalize = True) * 100"
   ]
  },
  {
   "cell_type": "code",
   "execution_count": 337,
   "metadata": {},
   "outputs": [
    {
     "data": {
      "text/plain": [
       "Plastic - Yellow           9464\n",
       "Plastic - Gray             2454\n",
       "None (no panel)            2257\n",
       "Plastic - Red               724\n",
       "Other                        94\n",
       "Cast Iron                    70\n",
       "Powder Coated Cast Iron      29\n",
       "                             18\n",
       "Brick                         9\n",
       "Name: DWP_MATL, dtype: int64"
      ]
     },
     "execution_count": 337,
     "metadata": {},
     "output_type": "execute_result"
    }
   ],
   "source": [
    "ramps_0_excel_df['DWP_MATL'].value_counts()"
   ]
  },
  {
   "cell_type": "code",
   "execution_count": 331,
   "metadata": {},
   "outputs": [
    {
     "data": {
      "text/plain": [
       "Excellent (Like new)                                                   55.052975\n",
       "Fair (panel shows wear but still fully functional)                     38.101059\n",
       "Poor (Panel is damaged and affecting functionality- to be replaced)     6.845966\n",
       "Name: DWP_COND, dtype: float64"
      ]
     },
     "execution_count": 331,
     "metadata": {},
     "output_type": "execute_result"
    }
   ],
   "source": [
    "ramps_0_excel_df[ramps_0_excel_df['DWP_MATL'] == 'Plastic - Gray']['DWP_COND'].value_counts(normalize = True) * 100"
   ]
  },
  {
   "cell_type": "code",
   "execution_count": 333,
   "metadata": {},
   "outputs": [
    {
     "data": {
      "text/plain": [
       "Fair (panel shows wear but still fully functional)                     58.0\n",
       "Excellent (Like new)                                                   32.5\n",
       "Poor (Panel is damaged and affecting functionality- to be replaced)     9.5\n",
       "Name: DWP_COND, dtype: float64"
      ]
     },
     "execution_count": 333,
     "metadata": {},
     "output_type": "execute_result"
    }
   ],
   "source": [
    "ramps_0_fair_df[ramps_0_fair_df['DWP_MATL'] == 'Plastic - Gray']['DWP_COND'].value_counts(normalize = True) * 100\n"
   ]
  },
  {
   "cell_type": "code",
   "execution_count": 334,
   "metadata": {},
   "outputs": [
    {
     "data": {
      "text/plain": [
       "Fair (panel shows wear but still fully functional)                     36.697248\n",
       "Poor (Panel is damaged and affecting functionality- to be replaced)    34.862385\n",
       "Excellent (Like new)                                                   28.440367\n",
       "Name: DWP_COND, dtype: float64"
      ]
     },
     "execution_count": 334,
     "metadata": {},
     "output_type": "execute_result"
    }
   ],
   "source": [
    "ramps_0_poor_df[ramps_0_poor_df['DWP_MATL'] == 'Plastic - Gray']['DWP_COND'].value_counts(normalize = True) * 100\n"
   ]
  },
  {
   "cell_type": "code",
   "execution_count": null,
   "metadata": {},
   "outputs": [],
   "source": []
  },
  {
   "cell_type": "code",
   "execution_count": 338,
   "metadata": {},
   "outputs": [
    {
     "data": {
      "text/plain": [
       "Excellent (Like new)                                                   55.052975\n",
       "Fair (panel shows wear but still fully functional)                     38.101059\n",
       "Poor (Panel is damaged and affecting functionality- to be replaced)     6.845966\n",
       "Name: DWP_COND, dtype: float64"
      ]
     },
     "execution_count": 338,
     "metadata": {},
     "output_type": "execute_result"
    }
   ],
   "source": [
    "#Plastic - Yellow \n",
    "\n",
    "ramps_0_excel_df[ramps_0_excel_df['DWP_MATL'] == 'Plastic - Gray']['DWP_COND'].value_counts(normalize = True) * 100"
   ]
  },
  {
   "cell_type": "code",
   "execution_count": 339,
   "metadata": {},
   "outputs": [
    {
     "data": {
      "text/plain": [
       "Fair (panel shows wear but still fully functional)                     58.0\n",
       "Excellent (Like new)                                                   32.5\n",
       "Poor (Panel is damaged and affecting functionality- to be replaced)     9.5\n",
       "Name: DWP_COND, dtype: float64"
      ]
     },
     "execution_count": 339,
     "metadata": {},
     "output_type": "execute_result"
    }
   ],
   "source": [
    "#Plastic - Yellow \n",
    "\n",
    "ramps_0_fair_df[ramps_0_fair_df['DWP_MATL'] == 'Plastic - Gray']['DWP_COND'].value_counts(normalize = True) * 100"
   ]
  },
  {
   "cell_type": "code",
   "execution_count": 340,
   "metadata": {},
   "outputs": [
    {
     "data": {
      "text/plain": [
       "Fair (panel shows wear but still fully functional)                     36.697248\n",
       "Poor (Panel is damaged and affecting functionality- to be replaced)    34.862385\n",
       "Excellent (Like new)                                                   28.440367\n",
       "Name: DWP_COND, dtype: float64"
      ]
     },
     "execution_count": 340,
     "metadata": {},
     "output_type": "execute_result"
    }
   ],
   "source": [
    "#Plastic - Yellow \n",
    "\n",
    "ramps_0_poor_df[ramps_0_poor_df['DWP_MATL'] == 'Plastic - Gray']['DWP_COND'].value_counts(normalize = True) * 100"
   ]
  },
  {
   "cell_type": "code",
   "execution_count": 343,
   "metadata": {},
   "outputs": [],
   "source": [
    "def get_value_counts(dataframe, column_criteria, criteria_value, column_filter):\n",
    "    return dataframe[dataframe[column_criteria] == criteria_value][column_filter].value_counts(normalize = True) * 100"
   ]
  },
  {
   "cell_type": "code",
   "execution_count": 355,
   "metadata": {},
   "outputs": [
    {
     "data": {
      "text/plain": [
       "Dorchester           14.639044\n",
       "Roxbury              11.848642\n",
       "West Roxbury          8.878554\n",
       "South Boston          8.730578\n",
       "Brighton              6.119860\n",
       "Mattapan              5.781630\n",
       "Hyde Park             5.760490\n",
       "Jamaica Plain         5.633654\n",
       "Roslindale            5.591375\n",
       "East Boston           4.365289\n",
       "Charlestown           4.227883\n",
       "Allston               3.646549\n",
       "Fenway / Kenmore      3.392876\n",
       "North End             2.346475\n",
       "Downtown Boston       1.923687\n",
       "South End             1.849699\n",
       "Mission Hill          1.511468\n",
       "West End              1.321213\n",
       "Back Bay              0.602473\n",
       "Bay Village           0.422788\n",
       "Chinatown             0.401649\n",
       "Dock Square           0.264243\n",
       "Cambridgeport         0.243103\n",
       "Beacon Hill           0.200824\n",
       "Essex Street          0.105697\n",
       "Downtown Crossing     0.095127\n",
       "Leather District      0.021139\n",
       "Riverdale             0.021139\n",
       "Church Green          0.010570\n",
       "Courtney Road         0.010570\n",
       "Beaconsfield          0.010570\n",
       "Ashmont               0.010570\n",
       "North Brookline       0.010570\n",
       "Name: neighborhood, dtype: float64"
      ]
     },
     "execution_count": 355,
     "metadata": {},
     "output_type": "execute_result"
    }
   ],
   "source": [
    "get_value_counts(ramps_0_excel_df, 'DWP_MATL', 'Plastic - Yellow', 'neighborhood')"
   ]
  },
  {
   "cell_type": "code",
   "execution_count": 356,
   "metadata": {},
   "outputs": [
    {
     "data": {
      "text/plain": [
       "Dorchester          16.430318\n",
       "Roxbury             10.660147\n",
       "Mattapan             9.926650\n",
       "East Boston          8.557457\n",
       "Brighton             7.677262\n",
       "Charlestown          6.650367\n",
       "Roslindale           6.601467\n",
       "South Boston         4.938875\n",
       "Hyde Park            4.841076\n",
       "North End            3.863081\n",
       "West Roxbury         3.765281\n",
       "Jamaica Plain        3.716381\n",
       "Allston              2.444988\n",
       "West End             2.151589\n",
       "Downtown Boston      2.004890\n",
       "Fenway / Kenmore     1.907090\n",
       "South End            1.320293\n",
       "Mission Hill         0.635697\n",
       "Back Bay             0.440098\n",
       "Beacon Hill          0.391198\n",
       "Chinatown            0.293399\n",
       "Bay Village          0.244499\n",
       "Cambridgeport        0.244499\n",
       "Dock Square          0.146699\n",
       "Essex Street         0.097800\n",
       "Riverdale            0.048900\n",
       "Name: neighborhood, dtype: float64"
      ]
     },
     "execution_count": 356,
     "metadata": {},
     "output_type": "execute_result"
    }
   ],
   "source": [
    "get_value_counts(ramps_0_fair_df, 'DWP_MATL', 'Plastic - Yellow', 'neighborhood')"
   ]
  },
  {
   "cell_type": "code",
   "execution_count": 354,
   "metadata": {},
   "outputs": [
    {
     "data": {
      "text/plain": [
       "Roxbury             24.390244\n",
       "Charlestown         10.975610\n",
       "Dorchester           9.756098\n",
       "Roslindale           7.317073\n",
       "Brighton             7.317073\n",
       "Jamaica Plain        7.317073\n",
       "Hyde Park            6.097561\n",
       "West Roxbury         6.097561\n",
       "Mission Hill         3.658537\n",
       "Mattapan             3.658537\n",
       "Allston              2.439024\n",
       "East Boston          2.439024\n",
       "North End            2.439024\n",
       "Fenway / Kenmore     2.439024\n",
       "South Boston         1.219512\n",
       "Dock Square          1.219512\n",
       "Riverdale            1.219512\n",
       "Name: neighborhood, dtype: float64"
      ]
     },
     "execution_count": 354,
     "metadata": {},
     "output_type": "execute_result"
    }
   ],
   "source": [
    "get_value_counts(ramps_0_poor_df, 'DWP_MATL', 'Plastic - Yellow', 'neighborhood')"
   ]
  },
  {
   "cell_type": "code",
   "execution_count": 352,
   "metadata": {},
   "outputs": [
    {
     "data": {
      "text/plain": [
       "Index(['FID', 'ObjectID', 'ObjectID_1', 'CREEC_Type', 'CREEC_Posi',\n",
       "       'RAMP_MATL', 'THR_WIDTH', 'LAND_EXIST', 'LANDING_SL', 'LANDING_CO',\n",
       "       'APRON_SL', 'LFLARE_SL', 'DWP_MATL', 'DWP_COND', 'GUTTER_SL',\n",
       "       'GUTTER_CS', 'LIP', 'CROSS_', 'RFLARE_SL', 'SAFE_ZONE_', 'RAMP_OBSTR',\n",
       "       'FLARE_OBST', 'APRON_CROS', 'Crosswalk_', 'RAMP_COND', 'ADA_Compli',\n",
       "       'Photo', 'ObjectID_3', 'Failure_Ty', 'Failure_La', 'NEAR_FID',\n",
       "       'NEAR_DIST', 'INT_ID', 'I_NEARDIST', 'I_NEARFID', 'PARC_ID', 'AT_INT',\n",
       "       'NEAR_ANGLE', 'Bearing', 'Dwy', 'RAMP_ID_1', 'Ramp_ID_d', 'Longitude',\n",
       "       'Latitude', 'address', 'postal', 'neighborhood'],\n",
       "      dtype='object')"
      ]
     },
     "execution_count": 352,
     "metadata": {},
     "output_type": "execute_result"
    }
   ],
   "source": [
    "ramps_0_df.columns"
   ]
  },
  {
   "cell_type": "code",
   "execution_count": 517,
   "metadata": {},
   "outputs": [
    {
     "data": {
      "text/plain": [
       "Poor Ramp Condition                                                                                                                                                 0.902256\n",
       "Poor Ramp ConditionCrosswalk missing/misaligned                                                                                                                     0.751880\n",
       "landing poor conditionPoor Ramp ConditionNo DWP Panel                                                                                                               0.451128\n",
       "Poor Ramp ConditionPoor DWP ConditionCrosswalk missing/misaligned                                                                                                   0.451128\n",
       "landing missingPoor Ramp ConditionNo DWP PanelCrosswalk missing/misaligned                                                                                          0.300752\n",
       "                                                                                                                                                                      ...   \n",
       "landing poor conditionapron slope 18.3%apron cross-slope 3.8%Poor Ramp Conditiongutter x-slope 12.3%Lip ExistsPoor Condition Crosswalk                              0.150376\n",
       "landing slope 6.3%landing poor conditionPoor Ramp ConditionPoor DWP ConditionLip ExistsCrosswalk missing/misaligned                                                 0.150376\n",
       "landing poor conditionapron slope 10.1999999999999%apron cross-slope 3.6%Poor Ramp ConditionPoor DWP ConditionCrosswalk missing/misaligned                          0.150376\n",
       "landing slope 2.8%landing poor conditionapron slope 9.3%apron cross-slope 4.4%Poor Ramp ConditionPoor DWP Conditiongutter slope 2.7%Crosswalk missing/misaligned    0.150376\n",
       "landing slope 2.3%apron slope 8.5%left flare11.6999999999999%right flare10.8%Poor Ramp ConditionLip ExistsCrosswalk missing/misaligned                              0.150376\n",
       "Name: Failure_La, Length: 646, dtype: float64"
      ]
     },
     "execution_count": 517,
     "metadata": {},
     "output_type": "execute_result"
    }
   ],
   "source": [
    "ramps_0_poor_df['Failure_La'].value_counts(normalize = True) * 100"
   ]
  },
  {
   "cell_type": "code",
   "execution_count": 527,
   "metadata": {},
   "outputs": [
    {
     "data": {
      "text/plain": [
       "Concrete FailureDWP FailurePvt/Cswk Failure    64.962406\n",
       "Concrete FailurePvt/Cswk Failure               15.488722\n",
       "Concrete FailureDWP Failure                    13.834586\n",
       "Concrete Failure                                5.563910\n",
       "Missing                                         0.150376\n",
       "Name: Failure_Ty, dtype: float64"
      ]
     },
     "execution_count": 527,
     "metadata": {},
     "output_type": "execute_result"
    }
   ],
   "source": [
    "ramps_0_poor_df['Failure_Ty'].value_counts(normalize = True) * 100"
   ]
  },
  {
   "cell_type": "code",
   "execution_count": 388,
   "metadata": {},
   "outputs": [
    {
     "data": {
      "text/html": [
       "<div>\n",
       "<style scoped>\n",
       "    .dataframe tbody tr th:only-of-type {\n",
       "        vertical-align: middle;\n",
       "    }\n",
       "\n",
       "    .dataframe tbody tr th {\n",
       "        vertical-align: top;\n",
       "    }\n",
       "\n",
       "    .dataframe thead th {\n",
       "        text-align: right;\n",
       "    }\n",
       "</style>\n",
       "<table border=\"1\" class=\"dataframe\">\n",
       "  <thead>\n",
       "    <tr style=\"text-align: right;\">\n",
       "      <th></th>\n",
       "      <th>LANDING_CO</th>\n",
       "      <th>DWP_COND</th>\n",
       "    </tr>\n",
       "  </thead>\n",
       "  <tbody>\n",
       "    <tr>\n",
       "      <th>1</th>\n",
       "      <td>Fair (Minor/Hairline damage with no impact to ...</td>\n",
       "      <td>Excellent (Like new)</td>\n",
       "    </tr>\n",
       "    <tr>\n",
       "      <th>2</th>\n",
       "      <td>Excellent (Like new)</td>\n",
       "      <td>Poor (Panel is damaged and affecting functiona...</td>\n",
       "    </tr>\n",
       "    <tr>\n",
       "      <th>3</th>\n",
       "      <td></td>\n",
       "      <td>Fair (panel shows wear but still fully functio...</td>\n",
       "    </tr>\n",
       "    <tr>\n",
       "      <th>4</th>\n",
       "      <td>Fair (Minor/Hairline damage with no impact to ...</td>\n",
       "      <td>Fair (panel shows wear but still fully functio...</td>\n",
       "    </tr>\n",
       "    <tr>\n",
       "      <th>5</th>\n",
       "      <td>Excellent (Like new)</td>\n",
       "      <td>Fair (panel shows wear but still fully functio...</td>\n",
       "    </tr>\n",
       "    <tr>\n",
       "      <th>...</th>\n",
       "      <td>...</td>\n",
       "      <td>...</td>\n",
       "    </tr>\n",
       "    <tr>\n",
       "      <th>26136</th>\n",
       "      <td></td>\n",
       "      <td>Excellent (Like new)</td>\n",
       "    </tr>\n",
       "    <tr>\n",
       "      <th>26141</th>\n",
       "      <td></td>\n",
       "      <td>Excellent (Like new)</td>\n",
       "    </tr>\n",
       "    <tr>\n",
       "      <th>26143</th>\n",
       "      <td>Excellent (Like new)</td>\n",
       "      <td>Fair (panel shows wear but still fully functio...</td>\n",
       "    </tr>\n",
       "    <tr>\n",
       "      <th>26146</th>\n",
       "      <td>Excellent (Like new)</td>\n",
       "      <td>Fair (panel shows wear but still fully functio...</td>\n",
       "    </tr>\n",
       "    <tr>\n",
       "      <th>26152</th>\n",
       "      <td>Fair (Minor/Hairline damage with no impact to ...</td>\n",
       "      <td></td>\n",
       "    </tr>\n",
       "  </tbody>\n",
       "</table>\n",
       "<p>12159 rows × 2 columns</p>\n",
       "</div>"
      ],
      "text/plain": [
       "                                              LANDING_CO  \\\n",
       "1      Fair (Minor/Hairline damage with no impact to ...   \n",
       "2                                   Excellent (Like new)   \n",
       "3                                                          \n",
       "4      Fair (Minor/Hairline damage with no impact to ...   \n",
       "5                                   Excellent (Like new)   \n",
       "...                                                  ...   \n",
       "26136                                                      \n",
       "26141                                                      \n",
       "26143                               Excellent (Like new)   \n",
       "26146                               Excellent (Like new)   \n",
       "26152  Fair (Minor/Hairline damage with no impact to ...   \n",
       "\n",
       "                                                DWP_COND  \n",
       "1                                   Excellent (Like new)  \n",
       "2      Poor (Panel is damaged and affecting functiona...  \n",
       "3      Fair (panel shows wear but still fully functio...  \n",
       "4      Fair (panel shows wear but still fully functio...  \n",
       "5      Fair (panel shows wear but still fully functio...  \n",
       "...                                                  ...  \n",
       "26136                               Excellent (Like new)  \n",
       "26141                               Excellent (Like new)  \n",
       "26143  Fair (panel shows wear but still fully functio...  \n",
       "26146  Fair (panel shows wear but still fully functio...  \n",
       "26152                                                     \n",
       "\n",
       "[12159 rows x 2 columns]"
      ]
     },
     "execution_count": 388,
     "metadata": {},
     "output_type": "execute_result"
    }
   ],
   "source": [
    "ramps_0_df[['LANDING_CO', 'DWP_COND']]\n",
    "ramps_0_df[ramps_0_df['LANDING_CO'] != ramps_0_df['DWP_COND']][['LANDING_CO', 'DWP_COND']]"
   ]
  },
  {
   "cell_type": "code",
   "execution_count": 399,
   "metadata": {},
   "outputs": [
    {
     "data": {
      "text/plain": [
       "Index(['FID', 'ObjectID', 'ObjectID_1', 'CREEC_Type', 'CREEC_Posi',\n",
       "       'RAMP_MATL', 'THR_WIDTH', 'LAND_EXIST', 'LANDING_SL', 'LANDING_CO',\n",
       "       'APRON_SL', 'LFLARE_SL', 'DWP_MATL', 'DWP_COND', 'GUTTER_SL',\n",
       "       'GUTTER_CS', 'LIP', 'CROSS_', 'RFLARE_SL', 'SAFE_ZONE_', 'RAMP_OBSTR',\n",
       "       'FLARE_OBST', 'APRON_CROS', 'Crosswalk_', 'RAMP_COND', 'ADA_Compli',\n",
       "       'Photo', 'ObjectID_3', 'Failure_Ty', 'Failure_La', 'NEAR_FID',\n",
       "       'NEAR_DIST', 'INT_ID', 'I_NEARDIST', 'I_NEARFID', 'PARC_ID', 'AT_INT',\n",
       "       'NEAR_ANGLE', 'Bearing', 'Dwy', 'RAMP_ID_1', 'Ramp_ID_d', 'Longitude',\n",
       "       'Latitude', 'address', 'postal', 'neighborhood'],\n",
       "      dtype='object')"
      ]
     },
     "execution_count": 399,
     "metadata": {},
     "output_type": "execute_result"
    }
   ],
   "source": [
    "ramps_0_df.columns"
   ]
  },
  {
   "cell_type": "code",
   "execution_count": 402,
   "metadata": {},
   "outputs": [
    {
     "data": {
      "text/plain": [
       "-1.000000     26153\n",
       " 31.519695        1\n",
       " 27.735518        1\n",
       " 27.259466        1\n",
       " 41.291650        1\n",
       " 41.457700        1\n",
       " 47.239084        1\n",
       " 12.776322        1\n",
       " 21.604421        1\n",
       "Name: NEAR_DIST, dtype: int64"
      ]
     },
     "execution_count": 402,
     "metadata": {},
     "output_type": "execute_result"
    }
   ],
   "source": [
    "ramps_0_df['NEAR_DIST'].value_counts()"
   ]
  },
  {
   "cell_type": "code",
   "execution_count": 478,
   "metadata": {},
   "outputs": [
    {
     "data": {
      "text/plain": [
       "I_NEARFID                    5824\n",
       "FID                             1\n",
       "RAMP_COND    Excellent (Like new)\n",
       "Name: 0, dtype: object"
      ]
     },
     "execution_count": 478,
     "metadata": {},
     "output_type": "execute_result"
    }
   ],
   "source": [
    "ramps_0_df.iloc[0][['I_NEARFID', 'FID', 'RAMP_COND']]"
   ]
  },
  {
   "cell_type": "code",
   "execution_count": 477,
   "metadata": {},
   "outputs": [
    {
     "data": {
      "text/plain": [
       "I_NEARFID                    4264\n",
       "FID                          5824\n",
       "RAMP_COND    Excellent (Like new)\n",
       "Name: 5823, dtype: object"
      ]
     },
     "execution_count": 477,
     "metadata": {},
     "output_type": "execute_result"
    }
   ],
   "source": [
    "ramps_0_df.iloc[5823][['I_NEARFID', 'FID', 'RAMP_COND']]"
   ]
  },
  {
   "cell_type": "code",
   "execution_count": 484,
   "metadata": {},
   "outputs": [
    {
     "data": {
      "text/plain": [
       "I_NEARFID                                                 4722\n",
       "FID                                                       4264\n",
       "RAMP_COND    Fair (Minor/Hairline damage with no impact to ...\n",
       "Name: 4263, dtype: object"
      ]
     },
     "execution_count": 484,
     "metadata": {},
     "output_type": "execute_result"
    }
   ],
   "source": [
    "ramps_0_df.iloc[4263][['I_NEARFID', 'FID', 'RAMP_COND']]"
   ]
  },
  {
   "cell_type": "code",
   "execution_count": 491,
   "metadata": {},
   "outputs": [
    {
     "data": {
      "text/html": [
       "<div>\n",
       "<style scoped>\n",
       "    .dataframe tbody tr th:only-of-type {\n",
       "        vertical-align: middle;\n",
       "    }\n",
       "\n",
       "    .dataframe tbody tr th {\n",
       "        vertical-align: top;\n",
       "    }\n",
       "\n",
       "    .dataframe thead th {\n",
       "        text-align: right;\n",
       "    }\n",
       "</style>\n",
       "<table border=\"1\" class=\"dataframe\">\n",
       "  <thead>\n",
       "    <tr style=\"text-align: right;\">\n",
       "      <th></th>\n",
       "      <th>FID</th>\n",
       "      <th>I_NEARFID</th>\n",
       "      <th>RAMP_COND</th>\n",
       "    </tr>\n",
       "  </thead>\n",
       "  <tbody>\n",
       "    <tr>\n",
       "      <th>0</th>\n",
       "      <td>1</td>\n",
       "      <td>5824</td>\n",
       "      <td>Excellent (Like new)</td>\n",
       "    </tr>\n",
       "    <tr>\n",
       "      <th>1</th>\n",
       "      <td>2</td>\n",
       "      <td>3021</td>\n",
       "      <td>Fair (Minor/Hairline damage with no impact to ...</td>\n",
       "    </tr>\n",
       "    <tr>\n",
       "      <th>2</th>\n",
       "      <td>3</td>\n",
       "      <td>2099</td>\n",
       "      <td>Excellent (Like new)</td>\n",
       "    </tr>\n",
       "    <tr>\n",
       "      <th>3</th>\n",
       "      <td>4</td>\n",
       "      <td>3421</td>\n",
       "      <td>Excellent (Like new)</td>\n",
       "    </tr>\n",
       "    <tr>\n",
       "      <th>4</th>\n",
       "      <td>5</td>\n",
       "      <td>2099</td>\n",
       "      <td>Fair (Minor/Hairline damage with no impact to ...</td>\n",
       "    </tr>\n",
       "    <tr>\n",
       "      <th>...</th>\n",
       "      <td>...</td>\n",
       "      <td>...</td>\n",
       "      <td>...</td>\n",
       "    </tr>\n",
       "    <tr>\n",
       "      <th>26156</th>\n",
       "      <td>26157</td>\n",
       "      <td>2168</td>\n",
       "      <td></td>\n",
       "    </tr>\n",
       "    <tr>\n",
       "      <th>26157</th>\n",
       "      <td>26158</td>\n",
       "      <td>5965</td>\n",
       "      <td></td>\n",
       "    </tr>\n",
       "    <tr>\n",
       "      <th>26158</th>\n",
       "      <td>26159</td>\n",
       "      <td>2495</td>\n",
       "      <td></td>\n",
       "    </tr>\n",
       "    <tr>\n",
       "      <th>26159</th>\n",
       "      <td>26160</td>\n",
       "      <td>9175</td>\n",
       "      <td>Excellent (Like new)</td>\n",
       "    </tr>\n",
       "    <tr>\n",
       "      <th>26160</th>\n",
       "      <td>26161</td>\n",
       "      <td>3306</td>\n",
       "      <td>Fair (Minor/Hairline damage with no impact to ...</td>\n",
       "    </tr>\n",
       "  </tbody>\n",
       "</table>\n",
       "<p>26161 rows × 3 columns</p>\n",
       "</div>"
      ],
      "text/plain": [
       "         FID  I_NEARFID                                          RAMP_COND\n",
       "0          1       5824                               Excellent (Like new)\n",
       "1          2       3021  Fair (Minor/Hairline damage with no impact to ...\n",
       "2          3       2099                               Excellent (Like new)\n",
       "3          4       3421                               Excellent (Like new)\n",
       "4          5       2099  Fair (Minor/Hairline damage with no impact to ...\n",
       "...      ...        ...                                                ...\n",
       "26156  26157       2168                                                   \n",
       "26157  26158       5965                                                   \n",
       "26158  26159       2495                                                   \n",
       "26159  26160       9175                               Excellent (Like new)\n",
       "26160  26161       3306  Fair (Minor/Hairline damage with no impact to ...\n",
       "\n",
       "[26161 rows x 3 columns]"
      ]
     },
     "execution_count": 491,
     "metadata": {},
     "output_type": "execute_result"
    }
   ],
   "source": [
    "df_1 = ramps_0_df[['FID', 'I_NEARFID', 'RAMP_COND']]\n",
    "df_1"
   ]
  },
  {
   "cell_type": "code",
   "execution_count": 511,
   "metadata": {},
   "outputs": [
    {
     "data": {
      "text/plain": [
       "Index(['FID', 'ObjectID', 'ObjectID_1', 'CREEC_Type', 'CREEC_Posi',\n",
       "       'RAMP_MATL', 'THR_WIDTH', 'LAND_EXIST', 'LANDING_SL', 'LANDING_CO',\n",
       "       'APRON_SL', 'LFLARE_SL', 'DWP_MATL', 'DWP_COND', 'GUTTER_SL',\n",
       "       'GUTTER_CS', 'LIP', 'CROSS_', 'RFLARE_SL', 'SAFE_ZONE_', 'RAMP_OBSTR',\n",
       "       'FLARE_OBST', 'APRON_CROS', 'Crosswalk_', 'RAMP_COND', 'ADA_Compli',\n",
       "       'Photo', 'ObjectID_3', 'Failure_Ty', 'Failure_La', 'NEAR_FID',\n",
       "       'NEAR_DIST', 'INT_ID', 'I_NEARDIST', 'I_NEARFID', 'PARC_ID', 'AT_INT',\n",
       "       'NEAR_ANGLE', 'Bearing', 'Dwy', 'RAMP_ID_1', 'Ramp_ID_d', 'x', 'y'],\n",
       "      dtype='object')"
      ]
     },
     "execution_count": 511,
     "metadata": {},
     "output_type": "execute_result"
    }
   ],
   "source": [
    "ramps_0_df.columns"
   ]
  },
  {
   "cell_type": "code",
   "execution_count": 513,
   "metadata": {},
   "outputs": [
    {
     "data": {
      "text/plain": [
       "array(['Poor- needs to be re-striped', ' ', 'Fair- slightly faded',\n",
       "       'Excellent- like new condition'], dtype=object)"
      ]
     },
     "execution_count": 513,
     "metadata": {},
     "output_type": "execute_result"
    }
   ],
   "source": [
    "ramps_0_df['Crosswalk_'].unique()"
   ]
  },
  {
   "cell_type": "code",
   "execution_count": 514,
   "metadata": {},
   "outputs": [
    {
     "data": {
      "text/plain": [
       "array(['Excellent (Like new)',\n",
       "       'Fair (Minor/Hairline damage with no impact to accessibility)',\n",
       "       ' ',\n",
       "       'Poor (Panel is damaged and affecting functionality- to be replaced)'],\n",
       "      dtype=object)"
      ]
     },
     "execution_count": 514,
     "metadata": {},
     "output_type": "execute_result"
    }
   ],
   "source": [
    "ramps_0_df['RAMP_COND'].unique()"
   ]
  },
  {
   "cell_type": "code",
   "execution_count": 515,
   "metadata": {},
   "outputs": [
    {
     "data": {
      "text/html": [
       "<div>\n",
       "<style scoped>\n",
       "    .dataframe tbody tr th:only-of-type {\n",
       "        vertical-align: middle;\n",
       "    }\n",
       "\n",
       "    .dataframe tbody tr th {\n",
       "        vertical-align: top;\n",
       "    }\n",
       "\n",
       "    .dataframe thead th {\n",
       "        text-align: right;\n",
       "    }\n",
       "</style>\n",
       "<table border=\"1\" class=\"dataframe\">\n",
       "  <thead>\n",
       "    <tr style=\"text-align: right;\">\n",
       "      <th></th>\n",
       "      <th>Crosswalk_</th>\n",
       "      <th>RAMP_COND</th>\n",
       "    </tr>\n",
       "  </thead>\n",
       "  <tbody>\n",
       "    <tr>\n",
       "      <th>0</th>\n",
       "      <td>Poor- needs to be re-striped</td>\n",
       "      <td>Excellent (Like new)</td>\n",
       "    </tr>\n",
       "    <tr>\n",
       "      <th>1</th>\n",
       "      <td></td>\n",
       "      <td>Fair (Minor/Hairline damage with no impact to ...</td>\n",
       "    </tr>\n",
       "    <tr>\n",
       "      <th>2</th>\n",
       "      <td>Fair- slightly faded</td>\n",
       "      <td>Excellent (Like new)</td>\n",
       "    </tr>\n",
       "    <tr>\n",
       "      <th>3</th>\n",
       "      <td></td>\n",
       "      <td>Excellent (Like new)</td>\n",
       "    </tr>\n",
       "    <tr>\n",
       "      <th>4</th>\n",
       "      <td>Fair- slightly faded</td>\n",
       "      <td>Fair (Minor/Hairline damage with no impact to ...</td>\n",
       "    </tr>\n",
       "    <tr>\n",
       "      <th>...</th>\n",
       "      <td>...</td>\n",
       "      <td>...</td>\n",
       "    </tr>\n",
       "    <tr>\n",
       "      <th>26156</th>\n",
       "      <td>Poor- needs to be re-striped</td>\n",
       "      <td></td>\n",
       "    </tr>\n",
       "    <tr>\n",
       "      <th>26157</th>\n",
       "      <td>Excellent- like new condition</td>\n",
       "      <td></td>\n",
       "    </tr>\n",
       "    <tr>\n",
       "      <th>26158</th>\n",
       "      <td>Fair- slightly faded</td>\n",
       "      <td></td>\n",
       "    </tr>\n",
       "    <tr>\n",
       "      <th>26159</th>\n",
       "      <td></td>\n",
       "      <td>Excellent (Like new)</td>\n",
       "    </tr>\n",
       "    <tr>\n",
       "      <th>26160</th>\n",
       "      <td></td>\n",
       "      <td>Fair (Minor/Hairline damage with no impact to ...</td>\n",
       "    </tr>\n",
       "  </tbody>\n",
       "</table>\n",
       "<p>23138 rows × 2 columns</p>\n",
       "</div>"
      ],
      "text/plain": [
       "                          Crosswalk_  \\\n",
       "0       Poor- needs to be re-striped   \n",
       "1                                      \n",
       "2               Fair- slightly faded   \n",
       "3                                      \n",
       "4               Fair- slightly faded   \n",
       "...                              ...   \n",
       "26156   Poor- needs to be re-striped   \n",
       "26157  Excellent- like new condition   \n",
       "26158           Fair- slightly faded   \n",
       "26159                                  \n",
       "26160                                  \n",
       "\n",
       "                                               RAMP_COND  \n",
       "0                                   Excellent (Like new)  \n",
       "1      Fair (Minor/Hairline damage with no impact to ...  \n",
       "2                                   Excellent (Like new)  \n",
       "3                                   Excellent (Like new)  \n",
       "4      Fair (Minor/Hairline damage with no impact to ...  \n",
       "...                                                  ...  \n",
       "26156                                                     \n",
       "26157                                                     \n",
       "26158                                                     \n",
       "26159                               Excellent (Like new)  \n",
       "26160  Fair (Minor/Hairline damage with no impact to ...  \n",
       "\n",
       "[23138 rows x 2 columns]"
      ]
     },
     "execution_count": 515,
     "metadata": {},
     "output_type": "execute_result"
    }
   ],
   "source": [
    "ramps_0_df[['Crosswalk_', 'RAMP_COND']]\n",
    "ramps_0_df[ramps_0_df['Crosswalk_'] != ramps_0_df['RAMP_COND']][['Crosswalk_', 'RAMP_COND']]"
   ]
  },
  {
   "cell_type": "code",
   "execution_count": null,
   "metadata": {},
   "outputs": [],
   "source": []
  },
  {
   "cell_type": "code",
   "execution_count": null,
   "metadata": {},
   "outputs": [],
   "source": []
  }
 ],
 "metadata": {
  "kernelspec": {
   "display_name": "Python 3",
   "language": "python",
   "name": "python3"
  },
  "language_info": {
   "codemirror_mode": {
    "name": "ipython",
    "version": 3
   },
   "file_extension": ".py",
   "mimetype": "text/x-python",
   "name": "python",
   "nbconvert_exporter": "python",
   "pygments_lexer": "ipython3",
   "version": "3.10.7"
  },
  "orig_nbformat": 4,
  "vscode": {
   "interpreter": {
    "hash": "aee8b7b246df8f9039afb4144a1f6fd8d2ca17a180786b69acc140d282b71a49"
   }
  }
 },
 "nbformat": 4,
 "nbformat_minor": 2
}
