{
 "cells": [
  {
   "cell_type": "code",
   "execution_count": 1,
   "metadata": {},
   "outputs": [
    {
     "name": "stderr",
     "output_type": "stream",
     "text": [
      "/Library/Frameworks/Python.framework/Versions/3.10/lib/python3.10/site-packages/requests/__init__.py:102: RequestsDependencyWarning: urllib3 (1.26.14) or chardet (5.1.0)/charset_normalizer (2.0.12) doesn't match a supported version!\n",
      "  warnings.warn(\"urllib3 ({}) or chardet ({})/charset_normalizer ({}) doesn't match a supported \"\n"
     ]
    }
   ],
   "source": [
    "import pandas as pd\n",
    "from folium import plugins, Map, CircleMarker\n",
    "from folium.plugins import HeatMap\n",
    "import geopandas as gpd\n",
    "import folium\n",
    "import geopy\n",
    "import asyncio\n",
    "from shapely.geometry import Polygon, Point\n",
    "from pandas.io.json import json_normalize"
   ]
  },
  {
   "cell_type": "code",
   "execution_count": 2,
   "metadata": {},
   "outputs": [],
   "source": [
    "#Use the shape file to get additional data\n",
    "sidewalks =gpd.read_file('/Users/akarvin/Documents/studies/cs506/final project/data/shape/Sidewalks.shx')\n",
    "sidewalks_hazards = gpd.read_file('/Users/akarvin/Documents/studies/cs506/final project/data/shape/Sidewalk_Hazards.shx')"
   ]
  },
  {
   "cell_type": "code",
   "execution_count": 3,
   "metadata": {},
   "outputs": [],
   "source": [
    "geolocator = geopy.Nominatim(user_agent='my-application1')\n",
    "async def get_zipcode(df, geolocator, lat_field, lon_field):\n",
    "    location = geolocator.reverse((df[lat_field], df[lon_field]))\n",
    "\n",
    "    return location.raw['address']\n",
    "\n",
    "async def get_response(zipcodes):\n",
    "    return await asyncio.gather(**zipcodes)\n",
    "def process_sidewalks_hazards():\n",
    "    #Convert the points to lat to long of sidewalks_hazards\n",
    "    data = folium.GeoJson(data=sidewalks_hazards[\"geometry\"])\n",
    "    #Convert lat long to dataframe\n",
    "    coord = { \"x\" : [], \"y\" : [] }\n",
    "    for i in range(len(data.data['features'])):\n",
    "        \n",
    "        coord[\"x\"].append(float(data.data['features'][i]['geometry']['coordinates'][0]))\n",
    "        coord[\"y\"].append(float(data.data['features'][i]['geometry']['coordinates'][1]))    \n",
    "    \n",
    "    zipcodes = []\n",
    "    for index,row in coord.iterrows():\n",
    "        zipcodes.append(asyncio.ensure_future(get_zipcode(row, geolocator,lat_field='y', lon_field='x')))\n",
    "    \n",
    "    #Wait till all the threads are finished running and get the data\n",
    "    #Takes a long time to runn\n",
    "    response = asyncio.run(get_response(zipcodes))\n",
    "    sidewalks_hazards['address'] = response\n",
    "    sidewalks_hazards['pincode'] = sidewalks_hazards['address'].apply(lambda x: x['postcode'])\n",
    "    #Save the file\n",
    "    sidewalks_hazards.to_csv(\"sidewalks_hazards_withaddress.csv\")\n"
   ]
  },
  {
   "cell_type": "code",
   "execution_count": 4,
   "metadata": {},
   "outputs": [
    {
     "data": {
      "text/plain": [
       "SWK_ID          object\n",
       "MATERIAL        object\n",
       "SWK_WIDTH       object\n",
       "DISTRICT        object\n",
       "SWK_AREA        object\n",
       "PARENT          object\n",
       "SEG_ID          object\n",
       "SIDE            object\n",
       "CG_ID           object\n",
       "Rpr_Yr           int64\n",
       "New_SCI          int64\n",
       "Recon_Date      object\n",
       "HPNETWORK        int64\n",
       "TEST_AREA      float64\n",
       "COST_RECON     float64\n",
       "GOODCANDID       int64\n",
       "TOTAREA        float64\n",
       "geometry      geometry\n",
       "dtype: object"
      ]
     },
     "execution_count": 4,
     "metadata": {},
     "output_type": "execute_result"
    }
   ],
   "source": [
    "sidewalks.dtypes"
   ]
  },
  {
   "cell_type": "code",
   "execution_count": 5,
   "metadata": {},
   "outputs": [],
   "source": [
    "# Clean the SWK_WIDTH AND SWK_AREA Column\n",
    "def clean(sidwalks):\n",
    "\n",
    "    sidewalks['SWK_WIDTH'] = (sidewalks['SWK_WIDTH'].str.replace(\" \",\"\"))\n",
    "    sidewalks['SWK_WIDTH'] = (sidewalks['SWK_WIDTH']).str.replace(\"O\",\"0\")\n",
    "    sidewalks['SWK_WIDTH'] = sidewalks['SWK_WIDTH'].str.replace(\"l\",\"\")\n",
    "    sidewalks['SWK_WIDTH'] = sidewalks['SWK_WIDTH'].str.replace(\",\",\".\")\n",
    "    sidewalks['SWK_WIDTH'] = sidewalks['SWK_WIDTH'].astype(float)\n",
    "    sidewalks['SWK_AREA'] = sidewalks['SWK_AREA'].astype(float)\n",
    "    return sidewalks\n"
   ]
  },
  {
   "cell_type": "code",
   "execution_count": 6,
   "metadata": {},
   "outputs": [
    {
     "data": {
      "text/html": [
       "<div>\n",
       "<style scoped>\n",
       "    .dataframe tbody tr th:only-of-type {\n",
       "        vertical-align: middle;\n",
       "    }\n",
       "\n",
       "    .dataframe tbody tr th {\n",
       "        vertical-align: top;\n",
       "    }\n",
       "\n",
       "    .dataframe thead th {\n",
       "        text-align: right;\n",
       "    }\n",
       "</style>\n",
       "<table border=\"1\" class=\"dataframe\">\n",
       "  <thead>\n",
       "    <tr style=\"text-align: right;\">\n",
       "      <th></th>\n",
       "      <th>SWK_WIDTH</th>\n",
       "      <th>SWK_AREA</th>\n",
       "    </tr>\n",
       "    <tr>\n",
       "      <th>DISTRICT</th>\n",
       "      <th></th>\n",
       "      <th></th>\n",
       "    </tr>\n",
       "  </thead>\n",
       "  <tbody>\n",
       "    <tr>\n",
       "      <th>ALLSTON/BRIGHTON</th>\n",
       "      <td>6.542724</td>\n",
       "      <td>2381.861342</td>\n",
       "    </tr>\n",
       "    <tr>\n",
       "      <th>CHARLESTOWN</th>\n",
       "      <td>8.149412</td>\n",
       "      <td>1895.730481</td>\n",
       "    </tr>\n",
       "    <tr>\n",
       "      <th>DOWNTOWN</th>\n",
       "      <td>8.646959</td>\n",
       "      <td>2864.800000</td>\n",
       "    </tr>\n",
       "    <tr>\n",
       "      <th>EAST BOSTON</th>\n",
       "      <td>8.810446</td>\n",
       "      <td>2908.683761</td>\n",
       "    </tr>\n",
       "    <tr>\n",
       "      <th>HYDE PARK</th>\n",
       "      <td>6.096727</td>\n",
       "      <td>2433.337152</td>\n",
       "    </tr>\n",
       "    <tr>\n",
       "      <th>JAMAICA PLAIN</th>\n",
       "      <td>6.240322</td>\n",
       "      <td>2138.124641</td>\n",
       "    </tr>\n",
       "    <tr>\n",
       "      <th>NORTH DORCHESTER</th>\n",
       "      <td>6.325244</td>\n",
       "      <td>2096.217554</td>\n",
       "    </tr>\n",
       "    <tr>\n",
       "      <th>NORTH END</th>\n",
       "      <td>7.895376</td>\n",
       "      <td>1699.973580</td>\n",
       "    </tr>\n",
       "    <tr>\n",
       "      <th>ROXBURY</th>\n",
       "      <td>8.335938</td>\n",
       "      <td>4670.447917</td>\n",
       "    </tr>\n",
       "    <tr>\n",
       "      <th>ROXBURY 10A</th>\n",
       "      <td>7.367278</td>\n",
       "      <td>3046.559846</td>\n",
       "    </tr>\n",
       "    <tr>\n",
       "      <th>ROXBURY 10B</th>\n",
       "      <td>6.573656</td>\n",
       "      <td>2099.866509</td>\n",
       "    </tr>\n",
       "    <tr>\n",
       "      <th>SOUTH BOSTON</th>\n",
       "      <td>7.379223</td>\n",
       "      <td>2295.335831</td>\n",
       "    </tr>\n",
       "    <tr>\n",
       "      <th>SOUTH DORCHESTER</th>\n",
       "      <td>6.037289</td>\n",
       "      <td>2435.226052</td>\n",
       "    </tr>\n",
       "    <tr>\n",
       "      <th>THE NORTH END</th>\n",
       "      <td>6.192593</td>\n",
       "      <td>2682.577778</td>\n",
       "    </tr>\n",
       "    <tr>\n",
       "      <th>WEST ROXBURY</th>\n",
       "      <td>6.026922</td>\n",
       "      <td>2241.766654</td>\n",
       "    </tr>\n",
       "    <tr>\n",
       "      <th>WEST ROXBURY AND ROSLINDALE</th>\n",
       "      <td>4.832335</td>\n",
       "      <td>2461.281437</td>\n",
       "    </tr>\n",
       "  </tbody>\n",
       "</table>\n",
       "</div>"
      ],
      "text/plain": [
       "                             SWK_WIDTH     SWK_AREA\n",
       "DISTRICT                                           \n",
       "ALLSTON/BRIGHTON              6.542724  2381.861342\n",
       "CHARLESTOWN                   8.149412  1895.730481\n",
       "DOWNTOWN                      8.646959  2864.800000\n",
       "EAST BOSTON                   8.810446  2908.683761\n",
       "HYDE PARK                     6.096727  2433.337152\n",
       "JAMAICA PLAIN                 6.240322  2138.124641\n",
       "NORTH DORCHESTER              6.325244  2096.217554\n",
       "NORTH END                     7.895376  1699.973580\n",
       "ROXBURY                       8.335938  4670.447917\n",
       "ROXBURY 10A                   7.367278  3046.559846\n",
       "ROXBURY 10B                   6.573656  2099.866509\n",
       "SOUTH BOSTON                  7.379223  2295.335831\n",
       "SOUTH DORCHESTER              6.037289  2435.226052\n",
       "THE NORTH END                 6.192593  2682.577778\n",
       "WEST ROXBURY                  6.026922  2241.766654\n",
       "WEST ROXBURY AND ROSLINDALE   4.832335  2461.281437"
      ]
     },
     "execution_count": 6,
     "metadata": {},
     "output_type": "execute_result"
    }
   ],
   "source": [
    "sidewalks = clean(sidewalks)\n",
    "sidewalks.groupby('DISTRICT').agg({'SWK_WIDTH' : 'mean', 'SWK_AREA' : 'mean'})"
   ]
  },
  {
   "cell_type": "code",
   "execution_count": 7,
   "metadata": {},
   "outputs": [
    {
     "data": {
      "text/html": [
       "<div>\n",
       "<style scoped>\n",
       "    .dataframe tbody tr th:only-of-type {\n",
       "        vertical-align: middle;\n",
       "    }\n",
       "\n",
       "    .dataframe tbody tr th {\n",
       "        vertical-align: top;\n",
       "    }\n",
       "\n",
       "    .dataframe thead th {\n",
       "        text-align: right;\n",
       "    }\n",
       "</style>\n",
       "<table border=\"1\" class=\"dataframe\">\n",
       "  <thead>\n",
       "    <tr style=\"text-align: right;\">\n",
       "      <th></th>\n",
       "      <th>SWK_WIDTH</th>\n",
       "      <th>SWK_AREA</th>\n",
       "    </tr>\n",
       "    <tr>\n",
       "      <th>MATERIAL</th>\n",
       "      <th></th>\n",
       "      <th></th>\n",
       "    </tr>\n",
       "  </thead>\n",
       "  <tbody>\n",
       "    <tr>\n",
       "      <th>BC</th>\n",
       "      <td>6.452790</td>\n",
       "      <td>2563.448661</td>\n",
       "    </tr>\n",
       "    <tr>\n",
       "      <th>BL</th>\n",
       "      <td>6.562500</td>\n",
       "      <td>1720.625000</td>\n",
       "    </tr>\n",
       "    <tr>\n",
       "      <th>BR</th>\n",
       "      <td>10.235861</td>\n",
       "      <td>2768.239336</td>\n",
       "    </tr>\n",
       "    <tr>\n",
       "      <th>CB</th>\n",
       "      <td>11.441635</td>\n",
       "      <td>3337.020913</td>\n",
       "    </tr>\n",
       "    <tr>\n",
       "      <th>CC</th>\n",
       "      <td>6.786158</td>\n",
       "      <td>2357.304937</td>\n",
       "    </tr>\n",
       "    <tr>\n",
       "      <th>GB</th>\n",
       "      <td>14.615663</td>\n",
       "      <td>4886.590361</td>\n",
       "    </tr>\n",
       "    <tr>\n",
       "      <th>OT</th>\n",
       "      <td>4.976271</td>\n",
       "      <td>2478.186441</td>\n",
       "    </tr>\n",
       "    <tr>\n",
       "      <th>OTHER</th>\n",
       "      <td>6.888889</td>\n",
       "      <td>4355.518519</td>\n",
       "    </tr>\n",
       "    <tr>\n",
       "      <th>UNK</th>\n",
       "      <td>0.305281</td>\n",
       "      <td>1054.359736</td>\n",
       "    </tr>\n",
       "  </tbody>\n",
       "</table>\n",
       "</div>"
      ],
      "text/plain": [
       "          SWK_WIDTH     SWK_AREA\n",
       "MATERIAL                        \n",
       "BC         6.452790  2563.448661\n",
       "BL         6.562500  1720.625000\n",
       "BR        10.235861  2768.239336\n",
       "CB        11.441635  3337.020913\n",
       "CC         6.786158  2357.304937\n",
       "GB        14.615663  4886.590361\n",
       "OT         4.976271  2478.186441\n",
       "OTHER      6.888889  4355.518519\n",
       "UNK        0.305281  1054.359736"
      ]
     },
     "execution_count": 7,
     "metadata": {},
     "output_type": "execute_result"
    }
   ],
   "source": [
    "sidewalks.groupby('MATERIAL').agg({'SWK_WIDTH' : 'mean', 'SWK_AREA' : 'mean'})"
   ]
  },
  {
   "cell_type": "code",
   "execution_count": null,
   "metadata": {},
   "outputs": [],
   "source": [
    "#Create the map\n",
    "map = folium.Map()\n",
    "data = folium.GeoJson(sidewalks['geometry'])\n",
    "data.add_to(map)\n",
    "map.save('Sidewalks.html')\n"
   ]
  },
  {
   "cell_type": "markdown",
   "metadata": {},
   "source": []
  },
  {
   "cell_type": "code",
   "execution_count": null,
   "metadata": {},
   "outputs": [
    {
     "data": {
      "text/plain": [
       "DISTRICT                     MATERIAL\n",
       "ALLSTON/BRIGHTON             BC            51\n",
       "                             BR             8\n",
       "                             CB            26\n",
       "                             CC          1846\n",
       "                             OTHER          3\n",
       "                                         ... \n",
       "WEST ROXBURY AND ROSLINDALE  BC             5\n",
       "                             BR             1\n",
       "                             CC           115\n",
       "                             OT             1\n",
       "                             UNK           10\n",
       "Name: SWK_ID, Length: 104, dtype: int64"
      ]
     },
     "execution_count": 259,
     "metadata": {},
     "output_type": "execute_result"
    }
   ],
   "source": [
    "sidewalks.groupby(['DISTRICT','MATERIAL']).count()['SWK_ID']"
   ]
  },
  {
   "cell_type": "code",
   "execution_count": null,
   "metadata": {},
   "outputs": [
    {
     "data": {
      "text/plain": [
       "DISTRICT\n",
       "ALLSTON/BRIGHTON               CC\n",
       "CHARLESTOWN                    CC\n",
       "DOWNTOWN                       CC\n",
       "EAST BOSTON                    CC\n",
       "HYDE PARK                      CC\n",
       "JAMAICA PLAIN                  CC\n",
       "NORTH DORCHESTER               CC\n",
       "NORTH END                      CC\n",
       "ROXBURY                        CC\n",
       "ROXBURY 10A                    CC\n",
       "ROXBURY 10B                    CC\n",
       "SOUTH BOSTON                   CC\n",
       "SOUTH DORCHESTER               CC\n",
       "THE NORTH END                  CC\n",
       "WEST ROXBURY                   CC\n",
       "WEST ROXBURY AND ROSLINDALE    CC\n",
       "Name: MATERIAL, dtype: object"
      ]
     },
     "execution_count": 260,
     "metadata": {},
     "output_type": "execute_result"
    }
   ],
   "source": [
    "sidewalks.groupby('DISTRICT')['MATERIAL'].agg(pd.Series.mode)"
   ]
  },
  {
   "cell_type": "code",
   "execution_count": null,
   "metadata": {},
   "outputs": [],
   "source": [
    "public_schools = pd.read_csv('../data/Public_Schools.csv')"
   ]
  },
  {
   "attachments": {},
   "cell_type": "markdown",
   "metadata": {},
   "source": [
    "import utm"
   ]
  },
  {
   "cell_type": "code",
   "execution_count": null,
   "metadata": {},
   "outputs": [],
   "source": [
    "from shapely.geometry import Polygon, Point\n",
    "x = public_schools['X'][0]\n",
    "y = public_schools['Y'][0]\n",
    "distance = Point(public_schools['X'][1],public_schools['Y'][1]).distance(Point(x,y))"
   ]
  },
  {
   "cell_type": "code",
   "execution_count": null,
   "metadata": {},
   "outputs": [
    {
     "data": {
      "text/plain": [
       "790128.152747571"
      ]
     },
     "execution_count": 12,
     "metadata": {},
     "output_type": "execute_result"
    }
   ],
   "source": [
    "x"
   ]
  },
  {
   "cell_type": "code",
   "execution_count": null,
   "metadata": {},
   "outputs": [
    {
     "data": {
      "text/plain": [
       "2967094.3776232"
      ]
     },
     "execution_count": 13,
     "metadata": {},
     "output_type": "execute_result"
    }
   ],
   "source": [
    "y"
   ]
  },
  {
   "cell_type": "code",
   "execution_count": null,
   "metadata": {},
   "outputs": [
    {
     "data": {
      "image/svg+xml": "<svg xmlns=\"http://www.w3.org/2000/svg\" xmlns:xlink=\"http://www.w3.org/1999/xlink\" width=\"245.3767270804383\" height=\"300\" viewBox=\"772234.7442133843 2964024.5988223823 245.3767270804383 390.0631175097078\" preserveAspectRatio=\"xMinYMin meet\"><g transform=\"matrix(1,0,0,-1,0,5928439.260762274)\"><path fill-rule=\"evenodd\" fill=\"#66cc99\" stroke=\"#555555\" stroke-width=\"2.600420783398052\" opacity=\"0.6\" d=\"M 772436.3028260022,2964399.527495086 L 772449.0797033459,2964393.7443701774 L 772450.4845561683,2964395.591479346 L 772465.6741583347,2964386.0406454206 L 772459.2017303407,2964377.435675755 L 772442.0954653472,2964353.307115093 L 772435.8307140917,2964345.0712391734 L 772433.6414140016,2964346.6066691726 L 772428.9258722514,2964339.882601261 L 772429.8947023451,2964339.203140676 L 772421.6972121745,2964327.513531506 L 772423.212301001,2964326.45086959 L 772419.4190015048,2964320.947271675 L 772419.2595530003,2964319.980738178 L 772414.8999816775,2964313.8363935053 L 772410.4656073451,2964313.718939677 L 772407.5496026725,2964309.6090397537 L 772407.6244056672,2964304.9479598403 L 772407.3990124166,2964304.872172594 L 772404.2454754263,2964299.9230355024 L 772403.726775676,2964300.2993470877 L 772389.1247707605,2964280.169794172 L 772393.8242364228,2964276.761008337 L 772390.8045574278,2964274.030698836 L 772388.7576455027,2964268.2688993365 L 772388.2330402583,2964268.624213591 L 772377.731092751,2964253.123260334 L 772376.7412653416,2964251.7164390087 L 772371.1297280043,2964255.663609594 L 772370.807550177,2964255.2056052536 L 772370.0493495911,2964255.7390687615 L 772354.9581724256,2964234.285699591 L 772355.7163730115,2964233.752236083 L 772353.5838313401,2964230.720418006 L 772351.139610514,2964230.143647507 L 772348.4926341772,2964226.3805316687 L 772348.986399591,2964224.0288303345 L 772347.0238050967,2964221.238809675 L 772348.4414531738,2964220.2414363325 L 772346.153071925,2964217.018345669 L 772342.0900879204,2964211.0262316763 L 772344.6169857532,2964209.312980503 L 772343.9365409166,2964208.3228249997 L 772339.7019693404,2964207.499663919 L 772336.3069630116,2964202.5580727607 L 772336.7584056705,2964197.875339344 L 772335.568447426,2964196.143059343 L 772336.5658207536,2964195.4580213428 L 772333.9290150106,2964192.0479231775 L 772331.2321700007,2964194.1732470095 L 772318.1472224295,2964176.3041882515 L 772315.8066759259,2964173.0896277577 L 772304.8368815929,2964158.882635176 L 772301.8618219197,2964154.8701760024 L 772291.9569860846,2964141.379061252 L 772289.6774630845,2964138.2744086683 L 772288.7755620033,2964137.045736596 L 772298.580988586,2964130.0011312515 L 772325.1563947499,2964111.6484776735 L 772352.8187410086,2964090.614070922 L 772366.3013255894,2964081.462842509 L 772393.5778458416,2964063.8782320023 L 772394.1395245045,2964064.7161568403 L 772420.2001679242,2964047.1896170825 L 772419.2966264188,2964045.8461158425 L 772423.1250308454,2964043.2713178396 L 772424.585657835,2964045.4432295114 L 772428.0351260006,2964045.7076646686 L 772423.6545573473,2964039.045604512 L 772403.4334691763,2964052.4284517616 L 772400.8986973464,2964054.105941832 L 772387.8823191673,2964062.7204259187 L 772363.1054658443,2964079.183647588 L 772359.3738460094,2964081.740401 L 772356.2668968439,2964083.9205147624 L 772340.8269670904,2964094.616031423 L 772320.8690017611,2964111.1511033326 L 772315.8375157565,2964114.345978841 L 772305.783073917,2964120.8594172597 L 772306.5727705061,2964122.078246832 L 772291.5052153468,2964131.8393821716 L 772287.0098175108,2964134.607749343 L 772285.5573925972,2964132.4194335043 L 772277.8818830103,2964120.5713600963 L 772276.0764404237,2964121.741305262 L 772258.8146639168,2964095.096017346 L 772260.614857167,2964093.9296810925 L 772261.5187267512,2964089.9231274277 L 772249.2185545117,2964086.1980692595 L 772249.1909955144,2964086.5648664236 L 772249.3025438339,2964088.3210965097 L 772249.6558895856,2964090.044846341 L 772250.244471088,2964091.703307584 L 772251.0568054169,2964093.2639999986 L 772256.7116497606,2964101.7049280107 L 772262.56367217,2964109.979189679 L 772266.2280349284,2964115.160609752 L 772277.4599678367,2964131.0418115854 L 772285.3697289228,2964142.0450704247 L 772288.8116511703,2964146.8331185877 L 772309.2971745133,2964175.330765009 L 772311.1603597552,2964177.9380432516 L 772327.43165268,2964200.7103074193 L 772330.4851242602,2964204.983264759 L 772333.3440424204,2964208.9845690876 L 772342.5067537576,2964221.808034256 L 772354.8846817613,2964239.561279595 L 772357.6494400054,2964243.5264947563 L 772362.0880794227,2964249.893279925 L 772364.7865648419,2964253.763350919 L 772379.8888968378,2964275.4243968427 L 772391.7248311788,2964292.315111086 L 772394.513539508,2964296.294433832 L 772417.0522083342,2964328.4584115 L 772451.3631633371,2964377.6837067604 L 772451.978975758,2964378.634820342 L 772452.370051086,2964379.6991226673 L 772452.5176885873,2964380.82477659 L 772452.4146704227,2964381.9563360065 L 772452.0659178346,2964383.0390110016 L 772451.4884911776,2964384.018995926 L 772450.7106055915,2964384.849046752 L 772443.8405405879,2964389.734863758 L 772441.4166609198,2964391.4582855105 L 772440.4320828468,2964392.0202922523 L 772439.3559695035,2964392.3769188374 L 772438.2306436747,2964392.51438576 L 772437.1007246673,2964392.427771762 L 772436.0101756752,2964392.1197015047 L 772435.0023036748,2964391.6026421785 L 772434.1161505878,2964390.8972630054 L 772433.3871494234,2964390.0307949185 L 772417.4426275045,2964368.457347259 L 772413.4688821733,2964362.7660856694 L 772410.4019591808,2964358.373706013 L 772383.8954505026,2964320.411511585 L 772362.8564505875,2964290.145167917 L 772361.7452323437,2964289.751796007 L 772360.5821769238,2964289.557570666 L 772359.4030454308,2964289.5687255114 L 772358.243927002,2964289.784604341 L 772357.1399265975,2964290.198973596 L 772356.1651910096,2964290.775087923 L 772366.9007338434,2964306.165477082 L 772368.6566358358,2964308.77406767 L 772371.4384544194,2964312.7136923373 L 772372.4325469285,2964312.0155310035 L 772389.984021008,2964337.009903595 L 772389.3488516808,2964337.4557688385 L 772390.8232581764,2964339.488245085 L 772391.3019317538,2964340.1007766724 L 772392.3449086696,2964341.4354196787 L 772392.6900523454,2964341.1896852553 L 772405.9308395088,2964359.7565772533 L 772419.771363005,2964379.1650030017 L 772434.7831440121,2964400.215157762 L 772436.3028260022,2964399.527495086 z\" /></g></svg>",
      "text/plain": [
       "<POLYGON ((772436.303 2964399.527, 772449.08 2964393.744, 772450.485 2964395...>"
      ]
     },
     "execution_count": 35,
     "metadata": {},
     "output_type": "execute_result"
    }
   ],
   "source": [
    "sidewalks.iloc[0]['geometry']"
   ]
  },
  {
   "cell_type": "code",
   "execution_count": null,
   "metadata": {},
   "outputs": [],
   "source": [
    "map = folium.Map()\n",
    "data = folium.GeoJson(sidewalks['geometry'])\n",
    "data.add_to(map)\n",
    "map.save('../maps/sidewalkss_map.html')"
   ]
  },
  {
   "cell_type": "markdown",
   "metadata": {},
   "source": []
  },
  {
   "attachments": {},
   "cell_type": "markdown",
   "metadata": {},
   "source": [
    "t"
   ]
  },
  {
   "cell_type": "code",
   "execution_count": null,
   "metadata": {},
   "outputs": [],
   "source": [
    "from pandas.io.json import json_normalize\n",
    "public_schools =  gpd.read_file(\"../data/Public_Schools.geojson\")\n"
   ]
  },
  {
   "cell_type": "code",
   "execution_count": null,
   "metadata": {},
   "outputs": [],
   "source": [
    "sidewalks = sidewalks.to_crs(32612)\n",
    "public_schools  = public_schools.to_crs(32612)"
   ]
  },
  {
   "cell_type": "code",
   "execution_count": null,
   "metadata": {},
   "outputs": [],
   "source": [
    "public_schools['temp'] = 1\n",
    "sidewalks['temp'] = 1\n",
    "sidewalks['id'] = sidewalks.index\n",
    "sidewalks = sidewalks[sidewalks['geometry'].notna()]\n"
   ]
  },
  {
   "cell_type": "code",
   "execution_count": null,
   "metadata": {},
   "outputs": [],
   "source": [
    "result = pd.merge(public_schools,sidewalks, on = 'temp' )"
   ]
  },
  {
   "cell_type": "code",
   "execution_count": null,
   "metadata": {},
   "outputs": [],
   "source": [
    "result['distance'] = result.apply(lambda x: x['geometry_x'].distance(x['geometry_y'])/1000, axis = 1)"
   ]
  },
  {
   "cell_type": "code",
   "execution_count": null,
   "metadata": {},
   "outputs": [],
   "source": [
    "merged_school_sidewalk = result.loc[result.groupby('id')['distance'].idxmin()]"
   ]
  },
  {
   "cell_type": "code",
   "execution_count": null,
   "metadata": {},
   "outputs": [
    {
     "data": {
      "text/html": [
       "<div>\n",
       "<style scoped>\n",
       "    .dataframe tbody tr th:only-of-type {\n",
       "        vertical-align: middle;\n",
       "    }\n",
       "\n",
       "    .dataframe tbody tr th {\n",
       "        vertical-align: top;\n",
       "    }\n",
       "\n",
       "    .dataframe thead th {\n",
       "        text-align: right;\n",
       "    }\n",
       "</style>\n",
       "<table border=\"1\" class=\"dataframe\">\n",
       "  <thead>\n",
       "    <tr style=\"text-align: right;\">\n",
       "      <th></th>\n",
       "      <th>SWK_ID</th>\n",
       "      <th>SCH_NAME</th>\n",
       "      <th>ADDRESS</th>\n",
       "      <th>DISTRICT</th>\n",
       "      <th>distance</th>\n",
       "    </tr>\n",
       "  </thead>\n",
       "  <tbody>\n",
       "    <tr>\n",
       "      <th>256817</th>\n",
       "      <td>1</td>\n",
       "      <td>Edwards Middle</td>\n",
       "      <td>28 Walker Street</td>\n",
       "      <td>CHARLESTOWN</td>\n",
       "      <td>0.306655</td>\n",
       "    </tr>\n",
       "    <tr>\n",
       "      <th>1424168</th>\n",
       "      <td>402</td>\n",
       "      <td>Young Achievers K-8</td>\n",
       "      <td>20 Outlook Road</td>\n",
       "      <td>SOUTH DORCHESTER</td>\n",
       "      <td>0.574716</td>\n",
       "    </tr>\n",
       "    <tr>\n",
       "      <th>1424169</th>\n",
       "      <td>403</td>\n",
       "      <td>Young Achievers K-8</td>\n",
       "      <td>20 Outlook Road</td>\n",
       "      <td>SOUTH DORCHESTER</td>\n",
       "      <td>0.521828</td>\n",
       "    </tr>\n",
       "    <tr>\n",
       "      <th>1424170</th>\n",
       "      <td>404</td>\n",
       "      <td>Young Achievers K-8</td>\n",
       "      <td>20 Outlook Road</td>\n",
       "      <td>SOUTH DORCHESTER</td>\n",
       "      <td>0.492425</td>\n",
       "    </tr>\n",
       "    <tr>\n",
       "      <th>1424171</th>\n",
       "      <td>405</td>\n",
       "      <td>Young Achievers K-8</td>\n",
       "      <td>20 Outlook Road</td>\n",
       "      <td>SOUTH DORCHESTER</td>\n",
       "      <td>0.399325</td>\n",
       "    </tr>\n",
       "    <tr>\n",
       "      <th>...</th>\n",
       "      <td>...</td>\n",
       "      <td>...</td>\n",
       "      <td>...</td>\n",
       "      <td>...</td>\n",
       "      <td>...</td>\n",
       "    </tr>\n",
       "    <tr>\n",
       "      <th>1494203</th>\n",
       "      <td>24087</td>\n",
       "      <td>Chittick Elementary</td>\n",
       "      <td>154 Ruskindale Road</td>\n",
       "      <td>HYDE PARK</td>\n",
       "      <td>0.501914</td>\n",
       "    </tr>\n",
       "    <tr>\n",
       "      <th>2171267</th>\n",
       "      <td>4547</td>\n",
       "      <td>Kilmer Upper (4-8)</td>\n",
       "      <td>140 Russett Road</td>\n",
       "      <td>WEST ROXBURY</td>\n",
       "      <td>0.656838</td>\n",
       "    </tr>\n",
       "    <tr>\n",
       "      <th>2217962</th>\n",
       "      <td>21675</td>\n",
       "      <td>Kilmer Lower (K1-3)</td>\n",
       "      <td>35 Baker Street</td>\n",
       "      <td>WEST ROXBURY</td>\n",
       "      <td>0.737161</td>\n",
       "    </tr>\n",
       "    <tr>\n",
       "      <th>2988414</th>\n",
       "      <td>5596</td>\n",
       "      <td>Eliot K-8</td>\n",
       "      <td>585 Commercial Street</td>\n",
       "      <td>NORTH END</td>\n",
       "      <td>0.213570</td>\n",
       "    </tr>\n",
       "    <tr>\n",
       "      <th>2988415</th>\n",
       "      <td>5595</td>\n",
       "      <td>Eliot K-8</td>\n",
       "      <td>585 Commercial Street</td>\n",
       "      <td>NORTH END</td>\n",
       "      <td>0.084370</td>\n",
       "    </tr>\n",
       "  </tbody>\n",
       "</table>\n",
       "<p>23347 rows × 5 columns</p>\n",
       "</div>"
      ],
      "text/plain": [
       "        SWK_ID             SCH_NAME                ADDRESS          DISTRICT  \\\n",
       "256817       1       Edwards Middle       28 Walker Street       CHARLESTOWN   \n",
       "1424168    402  Young Achievers K-8        20 Outlook Road  SOUTH DORCHESTER   \n",
       "1424169    403  Young Achievers K-8        20 Outlook Road  SOUTH DORCHESTER   \n",
       "1424170    404  Young Achievers K-8        20 Outlook Road  SOUTH DORCHESTER   \n",
       "1424171    405  Young Achievers K-8        20 Outlook Road  SOUTH DORCHESTER   \n",
       "...        ...                  ...                    ...               ...   \n",
       "1494203  24087  Chittick Elementary    154 Ruskindale Road         HYDE PARK   \n",
       "2171267   4547   Kilmer Upper (4-8)       140 Russett Road      WEST ROXBURY   \n",
       "2217962  21675  Kilmer Lower (K1-3)        35 Baker Street      WEST ROXBURY   \n",
       "2988414   5596            Eliot K-8  585 Commercial Street         NORTH END   \n",
       "2988415   5595            Eliot K-8  585 Commercial Street         NORTH END   \n",
       "\n",
       "         distance  \n",
       "256817   0.306655  \n",
       "1424168  0.574716  \n",
       "1424169  0.521828  \n",
       "1424170  0.492425  \n",
       "1424171  0.399325  \n",
       "...           ...  \n",
       "1494203  0.501914  \n",
       "2171267  0.656838  \n",
       "2217962  0.737161  \n",
       "2988414  0.213570  \n",
       "2988415  0.084370  \n",
       "\n",
       "[23347 rows x 5 columns]"
      ]
     },
     "execution_count": 274,
     "metadata": {},
     "output_type": "execute_result"
    }
   ],
   "source": [
    "id[['SWK_ID','SCH_NAME','ADDRESS','DISTRICT','distance']]"
   ]
  },
  {
   "cell_type": "code",
   "execution_count": null,
   "metadata": {},
   "outputs": [
    {
     "data": {
      "text/plain": [
       "Index(['BLDG_ID', 'BLDG_NAME', 'ADDRESS', 'CITY', 'ZIPCODE', 'CSP_SCH_ID',\n",
       "       'SCH_ID', 'SCH_NAME', 'SCH_LABEL', 'SCH_TYPE', 'SHARED', 'COMPLEX',\n",
       "       'OBJECTID', 'geometry', 'temp'],\n",
       "      dtype='object')"
      ]
     },
     "execution_count": 224,
     "metadata": {},
     "output_type": "execute_result"
    }
   ],
   "source": [
    "public_schools.columns"
   ]
  },
  {
   "cell_type": "code",
   "execution_count": null,
   "metadata": {},
   "outputs": [
    {
     "name": "stderr",
     "output_type": "stream",
     "text": [
      "/Library/Frameworks/Python.framework/Versions/3.10/lib/python3.10/site-packages/geopandas/geodataframe.py:1443: SettingWithCopyWarning: \n",
      "A value is trying to be set on a copy of a slice from a DataFrame.\n",
      "Try using .loc[row_indexer,col_indexer] = value instead\n",
      "\n",
      "See the caveats in the documentation: https://pandas.pydata.org/pandas-docs/stable/user_guide/indexing.html#returning-a-view-versus-a-copy\n",
      "  super().__setitem__(key, value)\n"
     ]
    }
   ],
   "source": [
    "sidewalks['centroid'] = sidewalks['geometry'].apply(lambda x: x.centroid)"
   ]
  },
  {
   "cell_type": "code",
   "execution_count": null,
   "metadata": {},
   "outputs": [],
   "source": []
  },
  {
   "cell_type": "code",
   "execution_count": null,
   "metadata": {},
   "outputs": [],
   "source": []
  }
 ],
 "metadata": {
  "kernelspec": {
   "display_name": "Python 3",
   "language": "python",
   "name": "python3"
  },
  "language_info": {
   "codemirror_mode": {
    "name": "ipython",
    "version": 3
   },
   "file_extension": ".py",
   "mimetype": "text/x-python",
   "name": "python",
   "nbconvert_exporter": "python",
   "pygments_lexer": "ipython3",
   "version": "3.10.7"
  },
  "orig_nbformat": 4,
  "vscode": {
   "interpreter": {
    "hash": "aee8b7b246df8f9039afb4144a1f6fd8d2ca17a180786b69acc140d282b71a49"
   }
  }
 },
 "nbformat": 4,
 "nbformat_minor": 2
}
