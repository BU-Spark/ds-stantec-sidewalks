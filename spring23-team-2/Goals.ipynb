{
 "cells": [
  {
   "attachments": {},
   "cell_type": "markdown",
   "metadata": {},
   "source": [
    "***Goals***\n",
    "\n",
    "1. First, we need divide the sidewalks into different neighborhoods.<span style=\"color:red\"> OR </span>.We need to divide the sidewalks and ramp points with rough borders for us to assign every ramp score with its sidewalk id. \n",
    "\n",
    "2. Second, we need to calculate the <span style=\"color:LightCoral\">average score</span> of these grouped points inside one sidewalk shape.\n",
    "\n",
    "3. Third, we <span style=\"color:LightCoral\">color</span> the sidewalks and generate the map with the scores. \n",
    "\n",
    "4. Fourth, we need to construct something like <span style=\"color:LightSalmon\">query or filter</span> to provide functions that can search the red points out. (Maybe we can search filter the sidewalks with colors at first.)\n",
    "\n",
    "5. Fifth, we need to figure out a method that can add <span style=\"color:SeaGreen\">hazards</span> into the color rating system.(Maybe counting)\n",
    "\n",
    "6. Sixth, of course we need to add the filter to get <ins>__new colored sidewalks and new red points(hazards)__</ins>\n",
    "\n",
    "7. Seventh, we need to group the sidewalks by <span style=\"color:LightSalmon\">neighborhoods</span>.(Also a function with checking the sidewalks within a neighborhood)\n",
    "\n",
    "8. Eighth, we need the <span style=\"color:PowderBlue\">__Population__</span> element engaged in the sidewalk system(? confused to consider the method) Maybe only rated by the neighborhoods.(Specially consider the disabilities)\n",
    "\n",
    "9. Ninth, <span style=\"color:PowderBlue\">__Facilities__</span> like schools should be taken into account that we can calculate the influence range. \n",
    "\n",
    "10. <span style=\"color:HotPink\">(Extension Bonus)</span>Tenth, maybe we can write the best path towards facilities.\n",
    "\n",
    "11. Eleventh, We need to combine the functions together as a total app with a little <span style=\"color:PowderBlue\">__beauty__</span>.\n",
    "\n",
    "12. Finally, we should support the <span style=\"color:Plum\">__updates__</span> of system. (Simplify the insertion or deletion process to avoid running the whole program again? <ins>__But changes are made on json files or csv files__</ins>.)"
   ]
  }
 ],
 "metadata": {
  "kernelspec": {
   "display_name": "Python 3",
   "language": "python",
   "name": "python3"
  },
  "language_info": {
   "name": "python",
   "version": "3.10.9"
  },
  "orig_nbformat": 4
 },
 "nbformat": 4,
 "nbformat_minor": 2
}
