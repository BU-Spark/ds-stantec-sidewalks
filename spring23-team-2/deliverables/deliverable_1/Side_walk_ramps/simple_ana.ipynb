{
 "cells": [
  {
   "attachments": {},
   "cell_type": "markdown",
   "metadata": {},
   "source": [
    "Name: Xiao Zhang         \n",
    "ID: U532011532\n",
    "\n",
    "\n",
    "We can see this csv data of different materials of different parts, as well as the condition of roads. Although what the ramp actually means is still unknown, we can understand that this file is concerning the road conditions which are connected to the actual positions(in the form of coordinates). We will need data here when we start to concern the repair strategy of sidewalks and the accessibility of sidewalks."
   ]
  }
 ],
 "metadata": {
  "language_info": {
   "name": "python"
  },
  "orig_nbformat": 4
 },
 "nbformat": 4,
 "nbformat_minor": 2
}
