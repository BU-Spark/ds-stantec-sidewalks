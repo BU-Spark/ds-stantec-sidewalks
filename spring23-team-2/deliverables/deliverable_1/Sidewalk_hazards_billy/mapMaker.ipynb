{
 "cells": [
  {
   "cell_type": "markdown",
   "metadata": {},
   "source": []
  },
  {
   "cell_type": "code",
   "execution_count": null,
   "metadata": {},
   "outputs": [],
   "source": [
    "import pandas as pd\n",
    "import folium\n",
    "\n",
    "# Read the data from the CSV file\n",
    "df = pd.read_csv(\"Sidewalk_Hazards_1.csv\")\n",
    "\n",
    "# Parse the CreationDa column to extract the year, month, and day components\n",
    "df['Year'] = pd.to_datetime(df['CreationDa'], format='%m/%d/%Y %I:%M:%S %p').dt.year\n",
    "df['Month'] = pd.to_datetime(df['CreationDa'], format='%m/%d/%Y %I:%M:%S %p').dt.month\n",
    "df['Day'] = pd.to_datetime(df['CreationDa'], format='%m/%d/%Y %I:%M:%S %p').dt.day\n",
    "\n",
    "# Filter the data to only include rows where the date is in November or December 2022\n",
    "mask = ((df['Year'] == 2020) &(df['Month'] == 8))\n",
    "filtered_df = df.loc[mask]\n",
    "\n",
    "# Create a map of Boston using Folium\n",
    "boston_map = folium.Map(location=[42.3601, -71.0589], zoom_start=13)\n",
    "\n",
    "# Add a marker for each sidewalk hazard\n",
    "for index, row in filtered_df.iterrows():\n",
    "    folium.Marker(location=[row['y'], row['x']], tooltip=row['Type']).add_to(boston_map)\n",
    "\n",
    "# Save the map as an HTML file\n",
    "boston_map.save(\"boston_map8.html\")"
   ]
  },
  {
   "cell_type": "code",
   "execution_count": 33,
   "metadata": {},
   "outputs": [],
   "source": [
    "from folium.plugins import HeatMap\n",
    "\n",
    "# create a map centered on Boston\n",
    "map_boston = folium.Map(location=[42.361145, -71.057083], zoom_start=13)\n",
    "\n",
    "# create a heatmap layer using the latitude and longitude columns\n",
    "heatmap_data = [[row['y'], row['x']] for index, row in filtered_df.iterrows()]\n",
    "HeatMap(heatmap_data).add_to(map_boston)\n",
    "\n",
    "# display the map\n",
    "map_boston.save('RepairHeatmap.html')"
   ]
  }
 ],
 "metadata": {
  "kernelspec": {
   "display_name": "Python 3",
   "language": "python",
   "name": "python3"
  },
  "language_info": {
   "codemirror_mode": {
    "name": "ipython",
    "version": 3
   },
   "file_extension": ".py",
   "mimetype": "text/x-python",
   "name": "python",
   "nbconvert_exporter": "python",
   "pygments_lexer": "ipython3",
   "version": "3.10.10"
  },
  "orig_nbformat": 4,
  "vscode": {
   "interpreter": {
    "hash": "6022632f7b2fc14f6faac200287b63f9f8b273c1d4578ba236d87eb03ec0e154"
   }
  }
 },
 "nbformat": 4,
 "nbformat_minor": 2
}
