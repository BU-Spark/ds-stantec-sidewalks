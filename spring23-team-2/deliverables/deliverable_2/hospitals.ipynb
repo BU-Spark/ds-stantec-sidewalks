{
 "cells": [
  {
   "cell_type": "code",
   "execution_count": 1,
   "metadata": {},
   "outputs": [
    {
     "data": {
      "text/plain": [
       "<folium.features.GeoJson at 0x16559d935b0>"
      ]
     },
     "execution_count": 1,
     "metadata": {},
     "output_type": "execute_result"
    }
   ],
   "source": [
    "import pandas as pd\n",
    "from folium import plugins, Map, CircleMarker\n",
    "from folium.plugins import HeatMap\n",
    "import geopandas as gpd\n",
    "import folium\n",
    "import geopy\n",
    "import asyncio\n",
    "from shapely.geometry import Polygon, Point\n",
    "from pandas.io.json import json_normalize\n",
    "\n",
    "sidewalks =gpd.read_file('data/shape/Sidewalks.shx')\n",
    "map = folium.Map(location=[42.361145, -71.057083],zoom_start = 30)\n",
    "data = folium.GeoJson(sidewalks['geometry'])\n",
    "data.add_to(map)\n",
    "\n"
   ]
  },
  {
   "cell_type": "code",
   "execution_count": null,
   "metadata": {},
   "outputs": [],
   "source": [
    "import pandas as pd\n",
    "import folium \n",
    "csv_file = pd.read_csv(\"data/Hospitals.csv\")\n",
    "csv_file['Latitude'] = csv_file['Latitude'].astype(float)\n",
    "csv_file['Longitude'] = csv_file['Longitude'].astype(float)\n",
    "csv_file['Longitude'].head()\n",
    "\n",
    "# map = folium.Map(location=[42.361145, -71.057083],zoom_start = 30)\n",
    "for point in range(0, len(csv_file)):\n",
    "    folium.CircleMarker([csv_file.iloc[point]['Latitude'], csv_file.iloc[point]['Longitude']],\n",
    "                        color = \"red\", fill = True, \n",
    "                        fill_color = \"red\").add_to(map)\n",
    "\n",
    "\n",
    "map.save('maps/sidewalks/Sidewalks_hospitals.html')"
   ]
  }
 ],
 "metadata": {
  "kernelspec": {
   "display_name": "Python 3",
   "language": "python",
   "name": "python3"
  },
  "language_info": {
   "codemirror_mode": {
    "name": "ipython",
    "version": 3
   },
   "file_extension": ".py",
   "mimetype": "text/x-python",
   "name": "python",
   "nbconvert_exporter": "python",
   "pygments_lexer": "ipython3",
   "version": "3.10.6"
  },
  "orig_nbformat": 4
 },
 "nbformat": 4,
 "nbformat_minor": 2
}
