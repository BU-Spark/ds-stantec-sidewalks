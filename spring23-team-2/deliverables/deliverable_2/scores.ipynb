{
 "cells": [
  {
   "cell_type": "code",
   "execution_count": 1,
   "metadata": {},
   "outputs": [
    {
     "name": "stdout",
     "output_type": "stream",
     "text": [
      "                                                                                                                                                                                                                                                                                                                                                                                                                                                                                                                                                                                                                                                                                                                                                                                                                                                                                                                                                                                                                                                                                                                                                                                                                                                                                                                                                                                                                                                                                                                                                                                                                                                                                                                                                                                                                                                                                                                                                                                                                                                                                                                                                                                                                                                                                                                                                                                                                                                                                                                                                                                                                                                                                                                                                                                                                                                                                                                                                                                                                                                                                                                                                                                                                                                                                                                                                                                                                                                                                                                                                                                                                                                                                                                                                                                                                                                                                                                                                                                                                                                                                                                                                                                                                                                                                                                                                                                                                                                                                                                                                                                                                                                                                                                                                                                                                                                                                                                                                                                                                                                                                                                                                                                                                0\n",
      "type                                                                                                                                                                                                                                                                                                                                                                                                                                                                                                                                                                                                                                                                                                                                                                                                                                                                                                                                                                                                                                                                                                                                                                                                                                                                                                                                                                                                                                                                                                                                                                                                                                                                                                                                                                                                                                                                                                                                                                                                                                                                                                                                                                                                                                                                                                                                                                                                                                                                                                                                                                                                                                                                                                                                                                                                                                                                                                                                                                                                                                                                                                                                                                                                                                                                                                                                                                                                                                                                                                                                                                                                                                                                                                                                                                                                                                                                                                                                                                                                                                                                                                                                                                                                                                                                                                                                                                                                                                                                                                                                                                                                                                                                                                                                                                                                                                                                                                                                                                                                                                                                                                                                                                                            FeatureCollection\n",
      "crs                                                                                                                                                                                                                                                                                                                                                                                                                                                                                                                                                                                                                                                                                                                                                                                                                                                                                                                                                                                                                                                                                                                                                                                                                                                                                                                                                                                                                                                                                                                                                                                                                                                                                                                                                                                                                                                                                                                                                                                                                                                                                                                                                                                                                                                                                                                                                                                                                                                                                                                                                                                                                                                                                                                                                                                                                                                                                                                                                                                                                                                                                                                                                                                                                                                                                                                                                                                                                                                                                                                                                                                                                                                                                                                                                                                                                                                                                                                                                                                                                                                                                                                                                                                                                                                                                                                                                                                                                                                                                                                                                                                                                                                                                                                                                                                                                                                                                                                                                                                                                                                                                                                                                         {'type': 'name', 'properties': {'name': 'EPSG:3857'}}\n",
      "features  [{'type': 'Feature', 'id': 0, 'geometry': {'type': 'Point', 'coordinates': [-7911843.053800002, 5213855.430799998]}, 'properties': {'FID': 0, 'ObjectID_1': 1, 'ObjectID_2': 1, 'CREEC_Type': 'Diagonal', 'CREEC_Posi': 'Diagonal', 'RAMP_MATL': 'Portland Cement Concrete', 'THR_WIDTH': 5, 'LAND_EXIST': 'Yes', 'LANDING_SL': 4.599999999999999, 'LANDING_CO': 'Fair (Minor/Hairline damage with no impact to accessibility)', 'APRON_SL': 3.7, 'LFLARE_SL': 3.1, 'DWP_MATL': 'Plastic - Red', 'DWP_COND': 'Fair (panel shows wear but still fully functional)', 'GUTTER_SL': 0.5999999999999991, 'GUTTER_CS': 3.2, 'LIP': 'No', 'CROSS_': 'Crosswalk misaligned', 'RFLARE_SL': 2, 'SAFE_ZONE_': 'Fair (pavement in fair condition)', 'RAMP_OBSTR': 'No', 'FLARE_OBST': 'No', 'APRON_CROS': 1, 'Crosswalk_': 'Fair- slightly faded', 'RAMP_COND': 'Fair (Minor/Hairline damage with no impact to accessibility)', 'ADA_Compli': 'Not Compliant', 'Photo': 'V:\\1794\\active\\179410852\\CREEC Ramps\\CREEC_QC_Photo\\CREEC_QC_Photo\\1_Photo 1.jpg', 'NEAR_FID': 7579, 'NEAR_DIST': 17.7985420189, 'FID_1': 7579, 'DESCRIPTIO': 'Berkeley St / Newbury St', 'INT_ID': '904', 'Failure_Ty': 'Concrete FailurePvt/Cswk Failure', 'score_1': 82.4, 'Fail_Label': 'Landing slope 4.6%; Gutter x-slope 3.2%; Crosswalk misaligned;', 'RampID_1': '904.2'}}, {'type': 'Feature', 'id': 1, 'geometry': {'type': 'Point', 'coordinates': [-7912104.434000002, 5213764.354100004]}, 'properties': {'FID': 1, 'ObjectID_1': 2, 'ObjectID_2': 2, 'CREEC_Type': 'Diagonal', 'CREEC_Posi': 'Diagonal', 'RAMP_MATL': 'Portland Cement Concrete', 'THR_WIDTH': 5, 'LAND_EXIST': 'Yes', 'LANDING_SL': 0.6999999999999991, 'LANDING_CO': 'Excellent (Like new)', 'APRON_SL': 5.599999999999999, 'LFLARE_SL': 4.7, 'DWP_MATL': 'Plastic - Red', 'DWP_COND': 'Excellent (Like new)', 'GUTTER_SL': 1.3, 'GUTTER_CS': 1, 'LIP': 'Yes', 'CROSS_': 'Crosswalk misaligned', 'RFLARE_SL': 3.299999999999999, 'SAFE_ZONE_': 'Fair (pavement in fair condition)', 'RAMP_OBSTR': 'No', 'FLARE_OBST': 'No', 'APRON_CROS': 1.3, 'Crosswalk_': 'Fair- slightly faded', 'RAMP_COND': 'Excellent (Like new)', 'ADA_Compli': 'Not Compliant', 'Photo': 'V:\\1794\\active\\179410852\\CREEC Ramps\\CREEC_QC_Photo\\CREEC_QC_Photo\\2_Photo 1.jpg', 'NEAR_FID': 7721, 'NEAR_DIST': 11.4181064541, 'FID_1': 7721, 'DESCRIPTIO': 'Clarendon St / Newbury St', 'INT_ID': '2233', 'Failure_Ty': 'Pvt/Cswk Failure', 'score_1': 92.8, 'Fail_Label': 'Lip exists; Crosswalk misaligned;', 'RampID_1': '2233.3'}}, {'type': 'Feature', 'id': 2, 'geometry': {'type': 'Point', 'coordinates': [-7912111.2201999985, 5213780.467799999]}, 'properties': {'FID': 2, 'ObjectID_1': 3, 'ObjectID_2': 3, 'CREEC_Type': 'Diagonal', 'CREEC_Posi': 'Diagonal', 'RAMP_MATL': 'Portland Cement Concrete', 'THR_WIDTH': 5, 'LAND_EXIST': 'Yes', 'LANDING_SL': 2.899999999999999, 'LANDING_CO': 'Fair (Minor/Hairline damage with no impact to accessibility)', 'APRON_SL': 14, 'LFLARE_SL': 13.1, 'DWP_MATL': 'Plastic - Red', 'DWP_COND': 'Excellent (Like new)', 'GUTTER_SL': 0.9, 'GUTTER_CS': 2.2, 'LIP': 'Yes', 'CROSS_': 'Crosswalk misaligned', 'RFLARE_SL': 12.4, 'SAFE_ZONE_': 'Fair (pavement in fair condition)', 'RAMP_OBSTR': 'No', 'FLARE_OBST': 'Yes, non-walkable left flare', 'APRON_CROS': 0.9, 'Crosswalk_': 'Fair- slightly faded', 'RAMP_COND': 'Fair (Minor/Hairline damage with no impact to accessibility)', 'ADA_Compli': 'Not Compliant', 'Photo': 'V:\\1794\\active\\179410852\\CREEC Ramps\\CREEC_QC_Photo\\CREEC_QC_Photo\\3_Photo 1.jpg', 'NEAR_FID': 7721, 'NEAR_DIST': 12.9222394398, 'FID_1': 7721, 'DESCRIPTIO': 'Clarendon St / Newbury St', 'INT_ID': '2233', 'Failure_Ty': 'Concrete FailurePvt/Cswk Failure', 'score_1': 66.34115385, 'Fail_Label': 'Landing slope 2.9%; Apron slope 14%; Right flare slope 12.4%; Gutter x-slope 2.2%; Lip exists; Crosswalk misaligned;', 'RampID_1': '2233.4'}}, {'type': 'Feature', 'id': 3, 'geometry': {'type': 'Point', 'coordinates': [-7912093.786999997, 5213788.37470001]}, 'properties': {'FID': 3, 'ObjectID_1': 4, 'ObjectID_2': 4, 'CREEC_Type': 'Diagonal', 'CREEC_Posi': 'Diagonal', 'RAMP_MATL': 'Portland Cement Concrete', 'THR_WIDTH': 5, 'LAND_EXIST': 'Yes', 'LANDING_SL': 1.1, 'LANDING_CO': 'Excellent (Like new)', 'APRON_SL': 7.5, 'LFLARE_SL': 9.5, 'DWP_MATL': 'Plastic - Red', 'DWP_COND': 'Excellent (Like new)', 'GUTTER_SL': 1.3, 'GUTTER_CS': 3.299999999999999, 'LIP': 'No', 'CROSS_': 'Crosswalk misaligned', 'RFLARE_SL': 5.599999999999999, 'SAFE_ZONE_': 'Fair (pavement in fair condition)', 'RAMP_OBSTR': 'No', 'FLARE_OBST': 'Yes, non-walkable right flare', 'APRON_CROS': 1.3, 'Crosswalk_': 'Fair- slightly faded', 'RAMP_COND': 'Excellent (Like new)', 'ADA_Compli': 'Not Compliant', 'Photo': 'V:\\1794\\active\\179410852\\CREEC Ramps\\CREEC_QC_Photo\\CREEC_QC_Photo\\4_Photo 1.jpg', 'NEAR_FID': 7721, 'NEAR_DIST': 14.8587688981, 'FID_1': 7721, 'DESCRIPTIO': 'Clarendon St / Newbury St', 'INT_ID': '2233', 'Failure_Ty': 'Pvt/Cswk Failure', 'score_1': 95.975, 'Fail_Label': 'Gutter x-slope 3.3%; Crosswalk misaligned;', 'RampID_1': '2233.1'}}, {'...\n"
     ]
    }
   ],
   "source": [
    "import pandas as pd\n",
    "\n",
    "# Load the JSON file into a pandas DataFrame with nested structure\n",
    "df = pd.read_json('data/Ramps New.json', orient='index')\n",
    "\n",
    "# Set the display options to show all columns and increase the column width\n",
    "pd.options.display.max_columns = None\n",
    "pd.options.display.max_colwidth = 5000\n",
    "\n",
    "\n",
    "# View the first five rows of the df DataFrame with all columns\n",
    "first_five_rows = df.head()\n",
    "print(first_five_rows)\n"
   ]
  },
  {
   "cell_type": "code",
   "execution_count": 3,
   "metadata": {},
   "outputs": [
    {
     "name": "stdout",
     "output_type": "stream",
     "text": [
      "                                    coordinates    score_1\n",
      "0       [-7911843.053800002, 5213855.430799998]  82.400000\n",
      "1       [-7912104.434000002, 5213764.354100004]  92.800000\n",
      "2      [-7912111.2201999985, 5213780.467799999]  66.341154\n",
      "3        [-7912093.786999997, 5213788.37470001]  95.975000\n",
      "4       [-7911853.312899999, 5213875.931500003]  87.750000\n",
      "...                                         ...        ...\n",
      "26207        [-7908859.5842, 5213906.350699998]   0.000000\n",
      "26208        [-7908620.2472, 5213876.224299997]   0.000000\n",
      "26209              [-7908621.175, 5213877.0612]   0.000000\n",
      "26210        [-7908602.0033, 5213865.763899997]   0.000000\n",
      "26211        [-7910820.3533, 5209827.192599997]   0.000000\n",
      "\n",
      "[26212 rows x 2 columns]\n"
     ]
    }
   ],
   "source": [
    "import pandas as pd\n",
    "import json\n",
    "\n",
    "# Load the JSON data into a pandas DataFrame\n",
    "with open('data/Ramps New.json') as f:\n",
    "    data = json.load(f)\n",
    "df = pd.json_normalize(data, 'features')\n",
    "\n",
    "# Extract the first 5 scores and their coordinates\n",
    "coordinate_score_df = df[['geometry.coordinates', 'properties.score_1']]\n",
    "\n",
    "coordinate_score_df = coordinate_score_df.rename(columns={'geometry.coordinates': 'coordinates', 'properties.score_1': 'score_1'})\n",
    "new_df = coordinate_score_df\n",
    "# Print the result\n",
    "print(coordinate_score_df)"
   ]
  },
  {
   "cell_type": "code",
   "execution_count": 16,
   "metadata": {},
   "outputs": [],
   "source": [
    "import folium\n",
    "import pyproj\n",
    "project = pyproj.Transformer.from_crs('epsg:3857', 'epsg:4326')\n",
    "coordinate_score_df['latitudes'], coordinate_score_df['longitudes'] = zip(*coordinate_score_df['coordinates'].apply(lambda coord: project.transform(coord[0], coord[1])))\n",
    "\n",
    "m = folium.Map(location=[42.3601, -71.0589], zoom_start=30)\n",
    "\n",
    "for _, row in coordinate_score_df.iterrows():\n",
    "    title = f\"Score: {row['score_1']}\"\n",
    "    folium.Marker(location=[row['latitudes'], row['longitudes']], popup=title).add_to(m)\n",
    "\n",
    "\n",
    "m.save('maps/sidewalks/Ramp_Scores_Map.html')"
   ]
  },
  {
   "cell_type": "code",
   "execution_count": 8,
   "metadata": {},
   "outputs": [
    {
     "name": "stderr",
     "output_type": "stream",
     "text": [
      "c:\\Users\\xiao\\AppData\\Local\\Programs\\Python\\Python310\\lib\\site-packages\\IPython\\core\\interactiveshell.py:3382: FutureWarning: The `op` parameter is deprecated and will be removed in a future release. Please use the `predicate` parameter instead.\n",
      "  if await self.run_code(code, result, async_=asy):\n",
      "C:\\Users\\xiao\\AppData\\Local\\Temp\\ipykernel_9636\\4244068755.py:11: UserWarning: CRS mismatch between the CRS of left geometries and the CRS of right geometries.\n",
      "Use `to_crs()` to reproject one of the input geometries to match the CRS of the other.\n",
      "\n",
      "Left CRS: None\n",
      "Right CRS: EPSG:6492\n",
      "\n",
      "  joined_gdf = gpd.sjoin(points_gdf, sidewalks_gdf, op='within')\n"
     ]
    },
    {
     "name": "stdout",
     "output_type": "stream",
     "text": [
      "Index(['geometry', 'score_1', 'SWK_ID'], dtype='object')\n",
      "<class 'geopandas.geodataframe.GeoDataFrame'>\n",
      "RangeIndex: 23520 entries, 0 to 23519\n",
      "Data columns (total 3 columns):\n",
      " #   Column    Non-Null Count  Dtype   \n",
      "---  ------    --------------  -----   \n",
      " 0   geometry  23347 non-null  geometry\n",
      " 1   score_1   0 non-null      float64 \n",
      " 2   SWK_ID    23520 non-null  object  \n",
      "dtypes: float64(1), geometry(1), object(1)\n",
      "memory usage: 551.4+ KB\n"
     ]
    }
   ],
   "source": [
    "import geopandas as gpd\n",
    "from shapely.geometry import Point\n",
    "\n",
    "sidewalks_gdf = gpd.read_file('data/Sidewalks.json')\n",
    "points_gdf = gpd.GeoDataFrame(\n",
    "    coordinate_score_df, \n",
    "    geometry=[Point(coord) for coord in coordinate_score_df['coordinates']]\n",
    ")\n",
    "\n",
    "pd.set_option('display.max_columns', None)\n",
    "joined_gdf = gpd.sjoin(points_gdf, sidewalks_gdf, op='within')\n",
    "avg_scores = joined_gdf.groupby('SWK_ID', as_index=False)['score_1'].mean()\n",
    "sidewalks_gdf = sidewalks_gdf.set_index('SWK_ID')\n",
    "avg_scores = avg_scores.set_index('SWK_ID')\n",
    "sidewalks_gdf = sidewalks_gdf.merge(avg_scores, on='SWK_ID', how='left')\n",
    "sidewalks_gdf = sidewalks_gdf.reset_index()\n",
    "sidewalks_gdf = sidewalks_gdf[['geometry', 'score_1', 'SWK_ID']]\n",
    "print(sidewalks_gdf.columns)\n",
    "sidewalks_gdf.info()\n",
    "sidewalks_gdf.to_file('Sidewalks_without_scores.json', driver='GeoJSON')\n"
   ]
  },
  {
   "cell_type": "code",
   "execution_count": 18,
   "metadata": {},
   "outputs": [
    {
     "name": "stderr",
     "output_type": "stream",
     "text": [
      "c:\\Users\\xiao\\AppData\\Local\\Programs\\Python\\Python310\\lib\\site-packages\\pyproj\\crs\\crs.py:141: FutureWarning: '+init=<authority>:<code>' syntax is deprecated. '<authority>:<code>' is the preferred initialization method. When making the change, be mindful of axis order changes: https://pyproj4.github.io/pyproj/stable/gotchas.html#axis-order-changes-in-proj-6\n",
      "  in_crs_string = _prepare_from_proj_string(in_crs_string)\n"
     ]
    }
   ],
   "source": [
    "import geopandas as gpd\n",
    "from shapely.geometry import Point\n",
    "\n",
    "# Convert coordinates in new_df to same CRS as sidewalks file\n",
    "new_df = gpd.GeoDataFrame(new_df, geometry=gpd.points_from_xy(new_df['coordinates'].str[0], new_df['coordinates'].str[1]))\n",
    "new_df.crs = {'init': 'epsg:6492'}  # replace with appropriate CRS\n",
    "\n",
    "# Load sidewalks file as geopandas dataframe\n",
    "sidewalks = gpd.read_file('Sidewalks_without_scores.json')\n",
    "\n",
    "\n",
    "import folium\n",
    "import pandas as pd\n",
    "import geopandas as gpd\n",
    "\n",
    "# Create a map\n",
    "m = folium.Map(location=[42.3601, -71.0589], zoom_start=30)\n",
    "\n",
    "# Add sidewalk polygons to the map\n",
    "folium.Choropleth(\n",
    "    geo_data=sidewalks,\n",
    "    fill_color='YlGnBu',\n",
    "    fill_opacity=0.7,\n",
    "    line_opacity=0.2,\n",
    "    name='Sidewalks',\n",
    "    highlight=True\n",
    ").add_to(m)\n",
    "\n",
    "# Add point markers for new_df to the map\n",
    "for _, row in points_gdf.iterrows():\n",
    "    title = f\"Score: {row['score_1']}\"\n",
    "    folium.Marker(location=[row['latitudes'], row['longitudes']], popup=title).add_to(m)\n",
    "\n",
    "# Add layer control to the map\n",
    "folium.LayerControl().add_to(m)\n",
    "\n",
    "# Save the map as an HTML file\n",
    "m.save('maps/sidewalks/test.html')\n",
    "\n",
    "\n",
    "#print(sidewalks.crs)\n",
    "#print(new_df.crs)\n",
    "# Perform spatial join\n",
    "#joined = gpd.sjoin(new_df, sidewalks, op='within')\n",
    "#print(joined.columns)\n",
    "#joined.info()\n",
    "# Group by SWK_ID and calculate mean score_1\n",
    "#result = joined.groupby('SWK_ID')['score_1'].mean()\n"
   ]
  },
  {
   "cell_type": "code",
   "execution_count": 11,
   "metadata": {},
   "outputs": [
    {
     "name": "stderr",
     "output_type": "stream",
     "text": [
      "C:\\Users\\xiao\\AppData\\Local\\Temp\\ipykernel_9636\\4207986136.py:12: FutureWarning: The frame.append method is deprecated and will be removed from pandas in a future version. Use pandas.concat instead.\n",
      "  joined = joined.append(point)\n",
      "C:\\Users\\xiao\\AppData\\Local\\Temp\\ipykernel_9636\\4207986136.py:12: FutureWarning: The frame.append method is deprecated and will be removed from pandas in a future version. Use pandas.concat instead.\n",
      "  joined = joined.append(point)\n",
      "C:\\Users\\xiao\\AppData\\Local\\Temp\\ipykernel_9636\\4207986136.py:12: FutureWarning: The frame.append method is deprecated and will be removed from pandas in a future version. Use pandas.concat instead.\n",
      "  joined = joined.append(point)\n",
      "C:\\Users\\xiao\\AppData\\Local\\Temp\\ipykernel_9636\\4207986136.py:12: FutureWarning: The frame.append method is deprecated and will be removed from pandas in a future version. Use pandas.concat instead.\n",
      "  joined = joined.append(point)\n",
      "C:\\Users\\xiao\\AppData\\Local\\Temp\\ipykernel_9636\\4207986136.py:12: FutureWarning: The frame.append method is deprecated and will be removed from pandas in a future version. Use pandas.concat instead.\n",
      "  joined = joined.append(point)\n",
      "C:\\Users\\xiao\\AppData\\Local\\Temp\\ipykernel_9636\\4207986136.py:12: FutureWarning: The frame.append method is deprecated and will be removed from pandas in a future version. Use pandas.concat instead.\n",
      "  joined = joined.append(point)\n",
      "C:\\Users\\xiao\\AppData\\Local\\Temp\\ipykernel_9636\\4207986136.py:12: FutureWarning: The frame.append method is deprecated and will be removed from pandas in a future version. Use pandas.concat instead.\n",
      "  joined = joined.append(point)\n",
      "C:\\Users\\xiao\\AppData\\Local\\Temp\\ipykernel_9636\\4207986136.py:12: FutureWarning: The frame.append method is deprecated and will be removed from pandas in a future version. Use pandas.concat instead.\n",
      "  joined = joined.append(point)\n",
      "C:\\Users\\xiao\\AppData\\Local\\Temp\\ipykernel_9636\\4207986136.py:12: FutureWarning: The frame.append method is deprecated and will be removed from pandas in a future version. Use pandas.concat instead.\n",
      "  joined = joined.append(point)\n",
      "C:\\Users\\xiao\\AppData\\Local\\Temp\\ipykernel_9636\\4207986136.py:12: FutureWarning: The frame.append method is deprecated and will be removed from pandas in a future version. Use pandas.concat instead.\n",
      "  joined = joined.append(point)\n"
     ]
    },
    {
     "name": "stdout",
     "output_type": "stream",
     "text": [
      "NEAR_FID\n",
      "21243    88.2335\n",
      "Name: score_1, dtype: float64\n",
      "<class 'pandas.core.series.Series'>\n",
      "Int64Index: 1 entries, 21243 to 21243\n",
      "Series name: score_1\n",
      "Non-Null Count  Dtype  \n",
      "--------------  -----  \n",
      "1 non-null      float64\n",
      "dtypes: float64(1)\n",
      "memory usage: 16.0 bytes\n"
     ]
    },
    {
     "ename": "KeyError",
     "evalue": "'NEAR_FID'",
     "output_type": "error",
     "traceback": [
      "\u001b[1;31m---------------------------------------------------------------------------\u001b[0m",
      "\u001b[1;31mKeyError\u001b[0m                                  Traceback (most recent call last)",
      "Cell \u001b[1;32mIn[11], line 17\u001b[0m\n\u001b[0;32m     15\u001b[0m \u001b[39mprint\u001b[39m(result)\n\u001b[0;32m     16\u001b[0m result\u001b[39m.\u001b[39minfo()\n\u001b[1;32m---> 17\u001b[0m sidewalks \u001b[39m=\u001b[39m sidewalks\u001b[39m.\u001b[39;49mmerge(result, on\u001b[39m=\u001b[39;49m\u001b[39m'\u001b[39;49m\u001b[39mNEAR_FID\u001b[39;49m\u001b[39m'\u001b[39;49m, how\u001b[39m=\u001b[39;49m\u001b[39m'\u001b[39;49m\u001b[39mleft\u001b[39;49m\u001b[39m'\u001b[39;49m)\n\u001b[0;32m     18\u001b[0m sidewalks \u001b[39m=\u001b[39m sidewalks[[\u001b[39m'\u001b[39m\u001b[39mgeometry\u001b[39m\u001b[39m'\u001b[39m, \u001b[39m'\u001b[39m\u001b[39mscore_1\u001b[39m\u001b[39m'\u001b[39m, \u001b[39m'\u001b[39m\u001b[39mSWK_ID\u001b[39m\u001b[39m'\u001b[39m]]\n\u001b[0;32m     19\u001b[0m \u001b[39mprint\u001b[39m(sidewalks\u001b[39m.\u001b[39mcolumns)\n",
      "File \u001b[1;32mc:\\Users\\xiao\\AppData\\Local\\Programs\\Python\\Python310\\lib\\site-packages\\geopandas\\geodataframe.py:1470\u001b[0m, in \u001b[0;36mGeoDataFrame.merge\u001b[1;34m(self, *args, **kwargs)\u001b[0m\n\u001b[0;32m   1449\u001b[0m \u001b[39mdef\u001b[39;00m \u001b[39mmerge\u001b[39m(\u001b[39mself\u001b[39m, \u001b[39m*\u001b[39margs, \u001b[39m*\u001b[39m\u001b[39m*\u001b[39mkwargs):\n\u001b[0;32m   1450\u001b[0m \u001b[39m    \u001b[39m\u001b[39mr\u001b[39m\u001b[39m\"\"\"Merge two ``GeoDataFrame`` objects with a database-style join.\u001b[39;00m\n\u001b[0;32m   1451\u001b[0m \n\u001b[0;32m   1452\u001b[0m \u001b[39m    Returns a ``GeoDataFrame`` if a geometry column is present; otherwise,\u001b[39;00m\n\u001b[1;32m   (...)\u001b[0m\n\u001b[0;32m   1468\u001b[0m \n\u001b[0;32m   1469\u001b[0m \u001b[39m    \"\"\"\u001b[39;00m\n\u001b[1;32m-> 1470\u001b[0m     result \u001b[39m=\u001b[39m DataFrame\u001b[39m.\u001b[39mmerge(\u001b[39mself\u001b[39m, \u001b[39m*\u001b[39margs, \u001b[39m*\u001b[39m\u001b[39m*\u001b[39mkwargs)\n\u001b[0;32m   1471\u001b[0m     geo_col \u001b[39m=\u001b[39m \u001b[39mself\u001b[39m\u001b[39m.\u001b[39m_geometry_column_name\n\u001b[0;32m   1472\u001b[0m     \u001b[39mif\u001b[39;00m \u001b[39misinstance\u001b[39m(result, DataFrame) \u001b[39mand\u001b[39;00m geo_col \u001b[39min\u001b[39;00m result:\n",
      "File \u001b[1;32mc:\\Users\\xiao\\AppData\\Local\\Programs\\Python\\Python310\\lib\\site-packages\\pandas\\core\\frame.py:10093\u001b[0m, in \u001b[0;36mDataFrame.merge\u001b[1;34m(self, right, how, on, left_on, right_on, left_index, right_index, sort, suffixes, copy, indicator, validate)\u001b[0m\n\u001b[0;32m  10074\u001b[0m \u001b[39m@Substitution\u001b[39m(\u001b[39m\"\u001b[39m\u001b[39m\"\u001b[39m)\n\u001b[0;32m  10075\u001b[0m \u001b[39m@Appender\u001b[39m(_merge_doc, indents\u001b[39m=\u001b[39m\u001b[39m2\u001b[39m)\n\u001b[0;32m  10076\u001b[0m \u001b[39mdef\u001b[39;00m \u001b[39mmerge\u001b[39m(\n\u001b[1;32m   (...)\u001b[0m\n\u001b[0;32m  10089\u001b[0m     validate: \u001b[39mstr\u001b[39m \u001b[39m|\u001b[39m \u001b[39mNone\u001b[39;00m \u001b[39m=\u001b[39m \u001b[39mNone\u001b[39;00m,\n\u001b[0;32m  10090\u001b[0m ) \u001b[39m-\u001b[39m\u001b[39m>\u001b[39m DataFrame:\n\u001b[0;32m  10091\u001b[0m     \u001b[39mfrom\u001b[39;00m \u001b[39mpandas\u001b[39;00m\u001b[39m.\u001b[39;00m\u001b[39mcore\u001b[39;00m\u001b[39m.\u001b[39;00m\u001b[39mreshape\u001b[39;00m\u001b[39m.\u001b[39;00m\u001b[39mmerge\u001b[39;00m \u001b[39mimport\u001b[39;00m merge\n\u001b[1;32m> 10093\u001b[0m     \u001b[39mreturn\u001b[39;00m merge(\n\u001b[0;32m  10094\u001b[0m         \u001b[39mself\u001b[39;49m,\n\u001b[0;32m  10095\u001b[0m         right,\n\u001b[0;32m  10096\u001b[0m         how\u001b[39m=\u001b[39;49mhow,\n\u001b[0;32m  10097\u001b[0m         on\u001b[39m=\u001b[39;49mon,\n\u001b[0;32m  10098\u001b[0m         left_on\u001b[39m=\u001b[39;49mleft_on,\n\u001b[0;32m  10099\u001b[0m         right_on\u001b[39m=\u001b[39;49mright_on,\n\u001b[0;32m  10100\u001b[0m         left_index\u001b[39m=\u001b[39;49mleft_index,\n\u001b[0;32m  10101\u001b[0m         right_index\u001b[39m=\u001b[39;49mright_index,\n\u001b[0;32m  10102\u001b[0m         sort\u001b[39m=\u001b[39;49msort,\n\u001b[0;32m  10103\u001b[0m         suffixes\u001b[39m=\u001b[39;49msuffixes,\n\u001b[0;32m  10104\u001b[0m         copy\u001b[39m=\u001b[39;49mcopy,\n\u001b[0;32m  10105\u001b[0m         indicator\u001b[39m=\u001b[39;49mindicator,\n\u001b[0;32m  10106\u001b[0m         validate\u001b[39m=\u001b[39;49mvalidate,\n\u001b[0;32m  10107\u001b[0m     )\n",
      "File \u001b[1;32mc:\\Users\\xiao\\AppData\\Local\\Programs\\Python\\Python310\\lib\\site-packages\\pandas\\core\\reshape\\merge.py:110\u001b[0m, in \u001b[0;36mmerge\u001b[1;34m(left, right, how, on, left_on, right_on, left_index, right_index, sort, suffixes, copy, indicator, validate)\u001b[0m\n\u001b[0;32m     93\u001b[0m \u001b[39m@Substitution\u001b[39m(\u001b[39m\"\u001b[39m\u001b[39m\\n\u001b[39;00m\u001b[39mleft : DataFrame or named Series\u001b[39m\u001b[39m\"\u001b[39m)\n\u001b[0;32m     94\u001b[0m \u001b[39m@Appender\u001b[39m(_merge_doc, indents\u001b[39m=\u001b[39m\u001b[39m0\u001b[39m)\n\u001b[0;32m     95\u001b[0m \u001b[39mdef\u001b[39;00m \u001b[39mmerge\u001b[39m(\n\u001b[1;32m   (...)\u001b[0m\n\u001b[0;32m    108\u001b[0m     validate: \u001b[39mstr\u001b[39m \u001b[39m|\u001b[39m \u001b[39mNone\u001b[39;00m \u001b[39m=\u001b[39m \u001b[39mNone\u001b[39;00m,\n\u001b[0;32m    109\u001b[0m ) \u001b[39m-\u001b[39m\u001b[39m>\u001b[39m DataFrame:\n\u001b[1;32m--> 110\u001b[0m     op \u001b[39m=\u001b[39m _MergeOperation(\n\u001b[0;32m    111\u001b[0m         left,\n\u001b[0;32m    112\u001b[0m         right,\n\u001b[0;32m    113\u001b[0m         how\u001b[39m=\u001b[39;49mhow,\n\u001b[0;32m    114\u001b[0m         on\u001b[39m=\u001b[39;49mon,\n\u001b[0;32m    115\u001b[0m         left_on\u001b[39m=\u001b[39;49mleft_on,\n\u001b[0;32m    116\u001b[0m         right_on\u001b[39m=\u001b[39;49mright_on,\n\u001b[0;32m    117\u001b[0m         left_index\u001b[39m=\u001b[39;49mleft_index,\n\u001b[0;32m    118\u001b[0m         right_index\u001b[39m=\u001b[39;49mright_index,\n\u001b[0;32m    119\u001b[0m         sort\u001b[39m=\u001b[39;49msort,\n\u001b[0;32m    120\u001b[0m         suffixes\u001b[39m=\u001b[39;49msuffixes,\n\u001b[0;32m    121\u001b[0m         indicator\u001b[39m=\u001b[39;49mindicator,\n\u001b[0;32m    122\u001b[0m         validate\u001b[39m=\u001b[39;49mvalidate,\n\u001b[0;32m    123\u001b[0m     )\n\u001b[0;32m    124\u001b[0m     \u001b[39mreturn\u001b[39;00m op\u001b[39m.\u001b[39mget_result(copy\u001b[39m=\u001b[39mcopy)\n",
      "File \u001b[1;32mc:\\Users\\xiao\\AppData\\Local\\Programs\\Python\\Python310\\lib\\site-packages\\pandas\\core\\reshape\\merge.py:703\u001b[0m, in \u001b[0;36m_MergeOperation.__init__\u001b[1;34m(self, left, right, how, on, left_on, right_on, axis, left_index, right_index, sort, suffixes, indicator, validate)\u001b[0m\n\u001b[0;32m    696\u001b[0m \u001b[39mself\u001b[39m\u001b[39m.\u001b[39m_cross \u001b[39m=\u001b[39m cross_col\n\u001b[0;32m    698\u001b[0m \u001b[39m# note this function has side effects\u001b[39;00m\n\u001b[0;32m    699\u001b[0m (\n\u001b[0;32m    700\u001b[0m     \u001b[39mself\u001b[39m\u001b[39m.\u001b[39mleft_join_keys,\n\u001b[0;32m    701\u001b[0m     \u001b[39mself\u001b[39m\u001b[39m.\u001b[39mright_join_keys,\n\u001b[0;32m    702\u001b[0m     \u001b[39mself\u001b[39m\u001b[39m.\u001b[39mjoin_names,\n\u001b[1;32m--> 703\u001b[0m ) \u001b[39m=\u001b[39m \u001b[39mself\u001b[39;49m\u001b[39m.\u001b[39;49m_get_merge_keys()\n\u001b[0;32m    705\u001b[0m \u001b[39m# validate the merge keys dtypes. We may need to coerce\u001b[39;00m\n\u001b[0;32m    706\u001b[0m \u001b[39m# to avoid incompatible dtypes\u001b[39;00m\n\u001b[0;32m    707\u001b[0m \u001b[39mself\u001b[39m\u001b[39m.\u001b[39m_maybe_coerce_merge_keys()\n",
      "File \u001b[1;32mc:\\Users\\xiao\\AppData\\Local\\Programs\\Python\\Python310\\lib\\site-packages\\pandas\\core\\reshape\\merge.py:1179\u001b[0m, in \u001b[0;36m_MergeOperation._get_merge_keys\u001b[1;34m(self)\u001b[0m\n\u001b[0;32m   1175\u001b[0m \u001b[39mif\u001b[39;00m lk \u001b[39mis\u001b[39;00m \u001b[39mnot\u001b[39;00m \u001b[39mNone\u001b[39;00m:\n\u001b[0;32m   1176\u001b[0m     \u001b[39m# Then we're either Hashable or a wrong-length arraylike,\u001b[39;00m\n\u001b[0;32m   1177\u001b[0m     \u001b[39m#  the latter of which will raise\u001b[39;00m\n\u001b[0;32m   1178\u001b[0m     lk \u001b[39m=\u001b[39m cast(Hashable, lk)\n\u001b[1;32m-> 1179\u001b[0m     left_keys\u001b[39m.\u001b[39mappend(left\u001b[39m.\u001b[39;49m_get_label_or_level_values(lk))\n\u001b[0;32m   1180\u001b[0m     join_names\u001b[39m.\u001b[39mappend(lk)\n\u001b[0;32m   1181\u001b[0m \u001b[39melse\u001b[39;00m:\n\u001b[0;32m   1182\u001b[0m     \u001b[39m# work-around for merge_asof(left_index=True)\u001b[39;00m\n",
      "File \u001b[1;32mc:\\Users\\xiao\\AppData\\Local\\Programs\\Python\\Python310\\lib\\site-packages\\pandas\\core\\generic.py:1850\u001b[0m, in \u001b[0;36mNDFrame._get_label_or_level_values\u001b[1;34m(self, key, axis)\u001b[0m\n\u001b[0;32m   1844\u001b[0m     values \u001b[39m=\u001b[39m (\n\u001b[0;32m   1845\u001b[0m         \u001b[39mself\u001b[39m\u001b[39m.\u001b[39maxes[axis]\n\u001b[0;32m   1846\u001b[0m         \u001b[39m.\u001b[39mget_level_values(key)  \u001b[39m# type: ignore[assignment]\u001b[39;00m\n\u001b[0;32m   1847\u001b[0m         \u001b[39m.\u001b[39m_values\n\u001b[0;32m   1848\u001b[0m     )\n\u001b[0;32m   1849\u001b[0m \u001b[39melse\u001b[39;00m:\n\u001b[1;32m-> 1850\u001b[0m     \u001b[39mraise\u001b[39;00m \u001b[39mKeyError\u001b[39;00m(key)\n\u001b[0;32m   1852\u001b[0m \u001b[39m# Check for duplicates\u001b[39;00m\n\u001b[0;32m   1853\u001b[0m \u001b[39mif\u001b[39;00m values\u001b[39m.\u001b[39mndim \u001b[39m>\u001b[39m \u001b[39m1\u001b[39m:\n",
      "\u001b[1;31mKeyError\u001b[0m: 'NEAR_FID'"
     ]
    }
   ],
   "source": [
    "import geopandas as gpd\n",
    "from shapely.geometry import Point\n",
    "from shapely.ops import nearest_points\n",
    "\n",
    "joined = gpd.GeoDataFrame()\n",
    "for idx, point in points_gdf.iloc[:10].iterrows():\n",
    "    nearest_idx = sidewalks.geometry.distance(point.geometry).argmin()\n",
    "    nearest_sidewalk = sidewalks.iloc[[nearest_idx]]\n",
    "    nearest_point = nearest_points(point.geometry, nearest_sidewalk.geometry.iloc[0])[1]\n",
    "    point['NEAR_FID'] = nearest_sidewalk.index.values[0]\n",
    "    point['NEAR_DIST'] = point.geometry.distance(nearest_point)\n",
    "    joined = joined.append(point)\n",
    "\n",
    "result = joined.groupby('NEAR_FID')['score_1'].mean()\n",
    "print(result)\n",
    "result.info()\n",
    "sidewalks = sidewalks.merge(result, on='NEAR_FID', how='left')\n",
    "sidewalks = sidewalks[['geometry', 'score_1', 'SWK_ID']]\n",
    "print(sidewalks.columns)\n",
    "sidewalks.info()\n",
    "sidewalks.to_file('Sidewalks_with_scores.json', driver='GeoJSON')\n"
   ]
  },
  {
   "cell_type": "code",
   "execution_count": 17,
   "metadata": {},
   "outputs": [],
   "source": [
    "boston_map = folium.Map(location=[42.361145, -71.057083], zoom_start=30)\n",
    "\n",
    "# Add sidewalks layer to the map with color ramp based on average score\n",
    "folium.Choropleth(\n",
    "    geo_data=sidewalks_gdf,\n",
    "    name='Average Score',\n",
    "    data=sidewalks_gdf,\n",
    "    columns=['SWK_ID', 'score_1'],\n",
    "    key_on='feature.id',\n",
    "    fill_color='YlGn',\n",
    "    fill_opacity=0.7,\n",
    "    line_opacity=0.2,\n",
    "    legend_name='Average Score'\n",
    ").add_to(boston_map)\n",
    "\n",
    "# Add a layer control to the map\n",
    "folium.LayerControl().add_to(boston_map)\n",
    "\n",
    "# Save the map as an HTML file\n",
    "boston_map.save('maps/sidewalks/sidewalks_map.html')"
   ]
  }
 ],
 "metadata": {
  "kernelspec": {
   "display_name": "Python 3",
   "language": "python",
   "name": "python3"
  },
  "language_info": {
   "codemirror_mode": {
    "name": "ipython",
    "version": 3
   },
   "file_extension": ".py",
   "mimetype": "text/x-python",
   "name": "python",
   "nbconvert_exporter": "python",
   "pygments_lexer": "ipython3",
   "version": "3.10.6"
  },
  "orig_nbformat": 4
 },
 "nbformat": 4,
 "nbformat_minor": 2
}
