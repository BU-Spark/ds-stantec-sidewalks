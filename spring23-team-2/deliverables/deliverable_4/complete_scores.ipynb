{
 "cells": [
  {
   "attachments": {},
   "cell_type": "markdown",
   "metadata": {},
   "source": [
    "This file calculates the hazards counts(ramp lower than 20 is a poor ramp==hazard)\n",
    "\n",
    "Map the counts to the sidewalks."
   ]
  },
  {
   "cell_type": "code",
   "execution_count": 12,
   "metadata": {},
   "outputs": [],
   "source": [
    "import json\n",
    "import geojson\n",
    "from shapely.geometry import shape, Point, Polygon\n",
    "import geopandas as gpd\n",
    "import folium\n",
    "import pandas as pd"
   ]
  },
  {
   "cell_type": "code",
   "execution_count": 13,
   "metadata": {},
   "outputs": [],
   "source": [
    "#hazards counts\n",
    "df = pd.read_csv('../data/Sidewalk_Hazards_1.csv')\n",
    "hazard_df = df[['FID', 'Type', 'x', 'y']]\n",
    "badramps_gdf = gpd.read_file('../data/Ramps New.json')\n",
    "sidewalks_gdf = gpd.read_file('../data/Sidewalks.json')\n",
    "badramps_gdf = badramps_gdf.to_crs(sidewalks_gdf.crs)"
   ]
  },
  {
   "cell_type": "code",
   "execution_count": 14,
   "metadata": {},
   "outputs": [
    {
     "name": "stdout",
     "output_type": "stream",
     "text": [
      "   FID_hazard                                   Type          x          y  \\\n",
      "0           1  Fixed pinch point <36” sidewalk width -71.069782  42.381454   \n",
      "1           2     Trip hazards not due to tree roots -71.056617  42.295022   \n",
      "2           3     Trip hazards not due to tree roots -71.069829  42.381396   \n",
      "3           4     Trip hazards not due to tree roots -71.061326  42.296611   \n",
      "4           5     Trip hazards not due to tree roots -71.061093  42.293839   \n",
      "\n",
      "                                            geometry  \n",
      "0  POLYGON ((772408.347 2964324.571, 772408.323 2...  \n",
      "1  POLYGON ((776128.777 2932845.452, 776128.753 2...  \n",
      "2  POLYGON ((772395.756 2964303.352, 772395.732 2...  \n",
      "3  POLYGON ((774851.878 2933418.132, 774851.854 2...  \n",
      "4  POLYGON ((774920.250 2932408.223, 774920.226 2...  \n"
     ]
    }
   ],
   "source": [
    "badramps_gdf = badramps_gdf[badramps_gdf['score_1'] <= 20]\n",
    "\n",
    "# Add a suffix to the FID column name in the badramps_gdf GeoDataFrame\n",
    "badramps_gdf = badramps_gdf.rename(columns={'FID': 'FID_ramp'})\n",
    "\n",
    "# Add a suffix to the FID column name in the hazard_df DataFrame\n",
    "hazard_df = hazard_df.rename(columns={'FID': 'FID_hazard'})\n",
    "\n",
    "hazard_gdf = gpd.GeoDataFrame(hazard_df, geometry=gpd.points_from_xy(hazard_df.x, hazard_df.y))\n",
    "hazard_gdf.crs = 'EPSG:4326'\n",
    "hazard_gdf = hazard_gdf.to_crs(sidewalks_gdf.crs)\n",
    "hazard_gdf.geometry = hazard_gdf.geometry.buffer(5)\n",
    "badramps_gdf.geometry = badramps_gdf.geometry.buffer(5)\n",
    "#buffer area\n",
    "print(hazard_gdf.head())"
   ]
  },
  {
   "cell_type": "code",
   "execution_count": 15,
   "metadata": {},
   "outputs": [
    {
     "data": {
      "text/plain": [
       "array(['Concrete FailurePvt/Cswk Failure',\n",
       "       'Concrete FailureDWP FailurePvt/Cswk Failure',\n",
       "       'Concrete FailureDWP Failure', 'Missing/Depressed Dwy',\n",
       "       'Concrete Failure', 'Poor Ramp'], dtype=object)"
      ]
     },
     "execution_count": 15,
     "metadata": {},
     "output_type": "execute_result"
    }
   ],
   "source": [
    "new_hazard_gdf = hazard_gdf.drop(['x', 'y'], axis=1)\n",
    "new_hazard_gdf = new_hazard_gdf.rename(columns={'FID_hazard': 'FID'})\n",
    "\n",
    "\n",
    "new_badramps_gdf = badramps_gdf[['FID_ramp', 'geometry','Failure_Ty']]\n",
    "new_badramps_gdf = new_badramps_gdf.rename(columns={'FID_ramp': 'FID'})\n",
    "new_badramps_gdf = new_badramps_gdf.rename(columns={\"Failure_Ty\": \"Type\"})\n",
    "new_df_t = new_badramps_gdf\n",
    "new_df_t.loc[new_df_t['Type'] == ' ', 'Type'] = 'Poor Ramp'\n",
    "new_df_t['Type'].unique()\n",
    "# new_df_t.info()\n",
    "# new_badramps_gdf['Type'].isnull().sum()\n",
    "# print(new_badramps_gdf.head())"
   ]
  },
  {
   "cell_type": "code",
   "execution_count": 16,
   "metadata": {},
   "outputs": [
    {
     "data": {
      "text/plain": [
       "array(['Concrete FailurePvt/Cswk Failure',\n",
       "       'Concrete FailureDWP FailurePvt/Cswk Failure',\n",
       "       'Concrete FailureDWP Failure', 'Missing/Depressed Dwy',\n",
       "       'Concrete Failure', 'Poor Ramp',\n",
       "       'Fixed pinch point <36” sidewalk width',\n",
       "       'Trip hazards not due to tree roots',\n",
       "       'Trip hazards due to tree roots'], dtype=object)"
      ]
     },
     "execution_count": 16,
     "metadata": {},
     "output_type": "execute_result"
    }
   ],
   "source": [
    "combined_gdf = pd.concat([new_badramps_gdf, new_hazard_gdf], ignore_index=True)\n",
    "combined_gdf['Type'].unique()\n",
    "# combined_gdf.to_csv('../data/combined_gdf.csv', index=False)\n",
    "# print(combined_gdf.head())"
   ]
  },
  {
   "attachments": {},
   "cell_type": "markdown",
   "metadata": {},
   "source": [
    "Where the attaching of hazards and sidewalks happens.\n",
    "\n",
    "This version has the problem of types. Not using types in making maps."
   ]
  },
  {
   "cell_type": "code",
   "execution_count": 17,
   "metadata": {},
   "outputs": [
    {
     "name": "stderr",
     "output_type": "stream",
     "text": [
      "c:\\Users\\xiao\\AppData\\Local\\Programs\\Python\\Python310\\lib\\site-packages\\IPython\\core\\interactiveshell.py:3382: FutureWarning: The `op` parameter is deprecated and will be removed in a future release. Please use the `predicate` parameter instead.\n",
      "  if await self.run_code(code, result, async_=asy):\n"
     ]
    },
    {
     "name": "stdout",
     "output_type": "stream",
     "text": [
      "<class 'geopandas.geodataframe.GeoDataFrame'>\n",
      "Int64Index: 26563 entries, 0 to 23519\n",
      "Data columns (total 4 columns):\n",
      " #   Column    Non-Null Count  Dtype   \n",
      "---  ------    --------------  -----   \n",
      " 0   SWK_ID    26563 non-null  object  \n",
      " 1   geometry  26563 non-null  geometry\n",
      " 2   count     26563 non-null  int64   \n",
      " 3   Type      9158 non-null   object  \n",
      "dtypes: geometry(1), int64(1), object(2)\n",
      "memory usage: 1.0+ MB\n",
      "None\n"
     ]
    }
   ],
   "source": [
    "# hazard_intersections = gpd.sjoin(sidewalks_gdf, combined_gdf, op='intersects', how='left')\n",
    "# count_per_sidewalk = hazard_intersections.groupby('SWK_ID').size()\n",
    "# hazard_intersections = hazard_intersections.join(count_per_sidewalk.rename('count'), on='SWK_ID')\n",
    "# hazard_intersections['count'] = hazard_intersections['count'].fillna(0)\n",
    "# hazard_intersections = hazard_intersections.dropna(subset=['geometry'])\n",
    "# hazard_intersections = hazard_intersections.loc[:, ['SWK_ID', 'geometry', 'count','Type']]\n",
    "# # Group the rows by SWK_ID and apply a function to each group\n",
    "# grouped = hazard_intersections.groupby('SWK_ID').apply(lambda x: [s for s in x['Type'].astype(str).tolist() if s != 'nan'])\n",
    "# hazard_intersections['Type_list'] = grouped.rename('Type').reset_index(drop=True)"
   ]
  },
  {
   "attachments": {},
   "cell_type": "markdown",
   "metadata": {},
   "source": [
    "This comes from Billy. Not tested yet. Should solve the Type_list null problem."
   ]
  },
  {
   "cell_type": "code",
   "execution_count": null,
   "metadata": {},
   "outputs": [],
   "source": [
    "hazard_intersections = gpd.sjoin(sidewalks_gdf, combined_gdf, op='intersects', how='left')\n",
    "count_per_sidewalk = hazard_intersections.groupby('SWK_ID').size()\n",
    "hazard_intersections = hazard_intersections.join(count_per_sidewalk.rename('count'), on='SWK_ID')\n",
    "hazard_intersections['count'] = hazard_intersections['count'].fillna(0)\n",
    "hazard_intersections = hazard_intersections.dropna(subset=['geometry'])\n",
    "hazard_intersections = hazard_intersections.loc[:, ['SWK_ID', 'geometry', 'count','Type']]\n",
    "hazard_intersections['Type'] = hazard_intersections['Type'].astype('category')\n",
    "index_to_drop = hazard_intersections.loc[hazard_intersections['SWK_ID'] == ' '].index\n",
    "hazard_intersections.drop(index_to_drop, inplace = True)\n",
    "# Group the rows by SWK_ID and create a new column 'Type_list'\n",
    "grouped = hazard_intersections.groupby('SWK_ID')['Type'].apply(list).reset_index(name='Type_list')\n",
    "\n",
    "# Merge the new 'Type_list' column with the original dataframe\n",
    "hazard_intersections = hazard_intersections.merge(grouped, on='SWK_ID', how='left')"
   ]
  },
  {
   "cell_type": "code",
   "execution_count": 18,
   "metadata": {},
   "outputs": [
    {
     "data": {
      "text/html": [
       "<div>\n",
       "<style scoped>\n",
       "    .dataframe tbody tr th:only-of-type {\n",
       "        vertical-align: middle;\n",
       "    }\n",
       "\n",
       "    .dataframe tbody tr th {\n",
       "        vertical-align: top;\n",
       "    }\n",
       "\n",
       "    .dataframe thead th {\n",
       "        text-align: right;\n",
       "    }\n",
       "</style>\n",
       "<table border=\"1\" class=\"dataframe\">\n",
       "  <thead>\n",
       "    <tr style=\"text-align: right;\">\n",
       "      <th></th>\n",
       "      <th>SWK_ID</th>\n",
       "      <th>geometry</th>\n",
       "      <th>count</th>\n",
       "      <th>Type</th>\n",
       "      <th>Type_list</th>\n",
       "    </tr>\n",
       "  </thead>\n",
       "  <tbody>\n",
       "  </tbody>\n",
       "</table>\n",
       "</div>"
      ],
      "text/plain": [
       "Empty GeoDataFrame\n",
       "Columns: [SWK_ID, geometry, count, Type, Type_list]\n",
       "Index: []"
      ]
     },
     "execution_count": 18,
     "metadata": {},
     "output_type": "execute_result"
    }
   ],
   "source": [
    "index_to_drop = hazard_intersections.loc[hazard_intersections['SWK_ID'] == ' '].index\n",
    "hazard_intersections.drop(index_to_drop, inplace=True)\n",
    "hazard_intersections[hazard_intersections['SWK_ID']==' ']"
   ]
  },
  {
   "cell_type": "code",
   "execution_count": 19,
   "metadata": {},
   "outputs": [],
   "source": [
    "hazard_intersections = hazard_intersections.loc[:, ['SWK_ID','count', 'geometry']]\n",
    "hazard_intersections.to_file('../data/compelete_scores.json',driver='GeoJSON')"
   ]
  },
  {
   "attachments": {},
   "cell_type": "markdown",
   "metadata": {},
   "source": [
    "Give the red sidewalks a new column with gpd"
   ]
  },
  {
   "cell_type": "code",
   "execution_count": 20,
   "metadata": {},
   "outputs": [
    {
     "name": "stdout",
     "output_type": "stream",
     "text": [
      "<class 'geopandas.geodataframe.GeoDataFrame'>\n",
      "Int64Index: 743 entries, 37 to 23486\n",
      "Data columns (total 3 columns):\n",
      " #   Column    Non-Null Count  Dtype   \n",
      "---  ------    --------------  -----   \n",
      " 0   Red_ID    743 non-null    object  \n",
      " 1   count     743 non-null    int64   \n",
      " 2   geometry  743 non-null    geometry\n",
      "dtypes: geometry(1), int64(1), object(1)\n",
      "memory usage: 23.2+ KB\n"
     ]
    }
   ],
   "source": [
    "\n",
    "red_hazards_sidewalks = hazard_intersections[hazard_intersections['count'] >= 6 ]\n",
    "red_hazards_sidewalks = red_hazards_sidewalks.rename(columns={'SWK_ID':'Red_ID'})\n",
    "red_hazards_sidewalks.info()"
   ]
  },
  {
   "attachments": {},
   "cell_type": "markdown",
   "metadata": {},
   "source": [
    "Make the map of sidewalks rated by hazard counts. To add the Type_list, see the same cell in Billy's version\n",
    "\n",
    "fields=['SWK_ID','count','Type_list']"
   ]
  },
  {
   "cell_type": "code",
   "execution_count": 21,
   "metadata": {},
   "outputs": [
    {
     "data": {
      "text/plain": [
       "<folium.features.GeoJson at 0x22ba36b0c10>"
      ]
     },
     "execution_count": 21,
     "metadata": {},
     "output_type": "execute_result"
    }
   ],
   "source": [
    "\n",
    "\n",
    "m2 = folium.Map(location=[42.361145, -71.057083], zoom_start=13)\n",
    "\n",
    "\n",
    "\n",
    "folium.Choropleth(\n",
    "    geo_data=hazard_intersections,\n",
    "    name='Hazard Counts Shapes',\n",
    "    data=hazard_intersections,\n",
    "    columns=['SWK_ID', 'count'],\n",
    "    key_on='properties.SWK_ID',\n",
    "    fill_color='RdYlBu_r',\n",
    "    fill_opacity=0.7,\n",
    "    line_opacity=0.2,\n",
    "    legend_name='Hazard Counts',\n",
    "    highlight=True,\n",
    "    show=False,\n",
    "    bins=[0, 2, 4, 5, 6, 20]\n",
    ").add_to(m2)\n",
    "\n",
    "\n",
    "\n",
    "\n",
    "# Adds the ability to click the sidewalk to see the score for that sidewalk\n",
    "folium.GeoJson(\n",
    "    hazard_intersections,\n",
    "    name='Hazard Counts Scores',\n",
    "    tooltip=folium.features.GeoJsonTooltip(fields=['SWK_ID'], labels=True, sticky=True),\n",
    "    style_function=lambda feature: {'weight': 1, 'color':'black', 'fillOpacity':0},\n",
    "    popup=folium.features.GeoJsonPopup(fields=['SWK_ID','count'], labels=True, sticky=True),\n",
    "    show=False\n",
    ").add_to(m2)\n",
    "\n",
    "# Add a layer control to the map\n",
    "# folium.LayerControl().add_to(m2)\n",
    "\n",
    "# Save the map as an HTML file\n",
    "# m2.save('maps/All_hazard_count_xiao.html')"
   ]
  },
  {
   "attachments": {},
   "cell_type": "markdown",
   "metadata": {},
   "source": [
    "Add the layer of Poor sidewalks(Highlight)"
   ]
  },
  {
   "cell_type": "code",
   "execution_count": 22,
   "metadata": {},
   "outputs": [],
   "source": [
    "# m2 = folium.Map(location=[42.361145, -71.057083], zoom_start=13)\n",
    "\n",
    "folium.Choropleth(\n",
    "    geo_data=red_hazards_sidewalks,\n",
    "    name='Poor sidewalk shapes',\n",
    "    data=red_hazards_sidewalks,\n",
    "    columns=['Red_ID', 'count'],\n",
    "    key_on='properties.Red_ID',\n",
    "    fill_color='Reds',\n",
    "    fill_opacity=0.7,\n",
    "    line_opacity=0.2,\n",
    "    legend_name='Poor sidewalk',\n",
    "    highlight=True,\n",
    "    show=False,\n",
    ").add_to(m2)\n",
    "\n",
    "folium.GeoJson(\n",
    "    red_hazards_sidewalks,\n",
    "    name='Poor sidewalk scores',\n",
    "    tooltip=folium.features.GeoJsonTooltip(fields=['Red_ID','count'], labels=True, sticky=True),\n",
    "    style_function=lambda feature: {'weight': 3, 'color':'red', 'fillOpacity':0},\n",
    "    popup=folium.features.GeoJsonPopup(fields=['Red_ID','count'], labels=True, sticky=True),\n",
    "    show=False\n",
    ").add_to(m2)\n",
    "\n",
    "# Add a layer control to the map\n",
    "folium.LayerControl().add_to(m2)\n",
    "\n",
    "# Save the map as an HTML file\n",
    "m2.save('maps/All_hazard_count_xiao.html')"
   ]
  }
 ],
 "metadata": {
  "kernelspec": {
   "display_name": "Python 3",
   "language": "python",
   "name": "python3"
  },
  "language_info": {
   "codemirror_mode": {
    "name": "ipython",
    "version": 3
   },
   "file_extension": ".py",
   "mimetype": "text/x-python",
   "name": "python",
   "nbconvert_exporter": "python",
   "pygments_lexer": "ipython3",
   "version": "3.10.6"
  },
  "orig_nbformat": 4
 },
 "nbformat": 4,
 "nbformat_minor": 2
}
