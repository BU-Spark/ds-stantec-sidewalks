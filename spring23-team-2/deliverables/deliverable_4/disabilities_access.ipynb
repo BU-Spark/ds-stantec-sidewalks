{
 "cells": [
  {
   "attachments": {},
   "cell_type": "markdown",
   "metadata": {},
   "source": [
    "Make the disability block accessibility"
   ]
  },
  {
   "attachments": {},
   "cell_type": "markdown",
   "metadata": {},
   "source": [
    "The count rated sidewalks are stored by previous codes."
   ]
  },
  {
   "cell_type": "code",
   "execution_count": 4,
   "metadata": {},
   "outputs": [],
   "source": [
    "import json\n",
    "import geojson\n",
    "from shapely.geometry import shape, Point, Polygon\n",
    "import geopandas as gpd\n",
    "import folium\n",
    "\n",
    "\n",
    "complete_gdf = gpd.read_file('../data/compelete_scores.json')\n",
    "# sidewalks_gdf = gpd.read_file('../data/Sidewalks.json')\n",
    "result_gdf = complete_gdf"
   ]
  },
  {
   "cell_type": "code",
   "execution_count": 43,
   "metadata": {},
   "outputs": [
    {
     "name": "stdout",
     "output_type": "stream",
     "text": [
      "0\n"
     ]
    },
    {
     "data": {
      "text/plain": [
       "<folium.features.GeoJson at 0x17daa1f8bb0>"
      ]
     },
     "execution_count": 43,
     "metadata": {},
     "output_type": "execute_result"
    }
   ],
   "source": [
    "new_gdf = result_gdf\n",
    "# Create a map centered at a specific location\n",
    "m = folium.Map(location=[42.361145, -71.057083], zoom_start=30)\n",
    "\n",
    "# Add sidewalks layer to the map with color ramp based on average score\n",
    "folium.Choropleth(\n",
    "    geo_data=new_gdf,\n",
    "    name='Average Score',\n",
    "    data=new_gdf,\n",
    "    columns=['SWK_ID', 'count'],\n",
    "    key_on='properties.SWK_ID',\n",
    "    fill_color='RdYlBu_r',\n",
    "    fill_opacity=0.7,\n",
    "    line_opacity=0.2,\n",
    "    legend_name='Average Score',\n",
    "    highlight=True,\n",
    "    show=True,\n",
    "    bins=[0, 2, 4, 5, 6, 20]\n",
    ").add_to(m)\n",
    "\n",
    "#Why there are no geometry data\n",
    "print(new_gdf['count'].isna().sum())\n",
    "new_gdf = new_gdf.dropna(subset=['geometry'])\n",
    "\n",
    "# Adds the ability to click the sidewalk to see the score for that sidewalk\n",
    "folium.GeoJson(\n",
    "    new_gdf,\n",
    "    name='Sidewalk Scores',\n",
    "    tooltip=folium.features.GeoJsonTooltip(fields=['SWK_ID','count'], labels=True, sticky=True),\n",
    "    style_function=lambda feature: {'weight': 1, 'color':'black', 'fillOpacity':0},\n",
    "    popup=folium.features.GeoJsonPopup(fields=['SWK_ID','count'], labels=True, sticky=True),\n",
    "    show=True\n",
    ").add_to(m)\n",
    "\n",
    "\n",
    "# Add a layer control to the map\n",
    "# folium.LayerControl().add_to(m)\n",
    "\n",
    "# Save the map as an HTML file\n",
    "# m.save('maps/counted_sidewalk_map.html')"
   ]
  },
  {
   "attachments": {},
   "cell_type": "markdown",
   "metadata": {},
   "source": [
    "Deal with the data and then use sjoin to combine"
   ]
  },
  {
   "cell_type": "code",
   "execution_count": 27,
   "metadata": {},
   "outputs": [],
   "source": [
    "neighborhoods_gdf = gpd.read_file('../data/Climate_Ready_Boston_Social_Vulnerability.geojson')\n",
    "another_gdf = gpd.read_file('../data/compelete_scores.json')\n",
    "sidewalk_gdf = another_gdf.to_crs(neighborhoods_gdf.crs)"
   ]
  },
  {
   "cell_type": "code",
   "execution_count": 30,
   "metadata": {},
   "outputs": [
    {
     "data": {
      "text/plain": [
       "Index(['FID', 'GEOID10', 'AREA_SQFT', 'AREA_ACRES', 'POP100_RE', 'HU100_RE',\n",
       "       'TotDis', 'TotChild', 'OlderAdult', 'Low_to_No', 'LEP', 'POC2',\n",
       "       'MedIllnes', 'Name', 'Shape__Area', 'Shape__Length', 'geometry'],\n",
       "      dtype='object')"
      ]
     },
     "execution_count": 30,
     "metadata": {},
     "output_type": "execute_result"
    }
   ],
   "source": [
    "neighborhoods_gdf.columns"
   ]
  },
  {
   "cell_type": "code",
   "execution_count": 33,
   "metadata": {},
   "outputs": [
    {
     "name": "stderr",
     "output_type": "stream",
     "text": [
      "c:\\Users\\xiao\\AppData\\Local\\Programs\\Python\\Python310\\lib\\site-packages\\IPython\\core\\interactiveshell.py:3382: FutureWarning: The `op` parameter is deprecated and will be removed in a future release. Please use the `predicate` parameter instead.\n",
      "  if await self.run_code(code, result, async_=asy):\n"
     ]
    },
    {
     "name": "stdout",
     "output_type": "stream",
     "text": [
      "     TotDis     count   AREA_SQFT  total_risk\n",
      "0       470  1.121212  3914567.54  134.617602\n",
      "1       299  1.117647  1472713.92  226.912007\n",
      "2        84  1.093023  1376667.12   66.692922\n",
      "3        45  1.317460  3228780.12   18.361645\n",
      "4       131  2.100000  2741497.18  100.346629\n",
      "..      ...       ...         ...         ...\n",
      "175     329  1.230088  4024571.84  100.557061\n",
      "176     715  1.184874  6819156.25  124.236026\n",
      "177     340  1.400000  3619583.13  131.506857\n",
      "178     268  1.508961  6678367.07   60.553939\n",
      "179    1146  1.208333  6246271.61  221.692249\n",
      "\n",
      "[180 rows x 4 columns]\n"
     ]
    }
   ],
   "source": [
    "joined_gdf = gpd.sjoin(sidewalk_gdf, neighborhoods_gdf, how='left', op='within')\n",
    "neighborhood_scores = joined_gdf.groupby('FID')['count'].mean().reset_index()\n",
    "neighborhoods_with_scores_gdf = neighborhoods_gdf.merge(neighborhood_scores, on='FID', how='left')\n",
    "# neighborhoods_with_scores_gdf = neighborhoods_with_scores_gdf.dropna(subset=['count'])\n",
    "neighborhoods_with_scores_gdf['total_risk'] = (neighborhoods_with_scores_gdf['TotDis'] / (neighborhoods_with_scores_gdf['AREA_SQFT']/1000000))* neighborhoods_with_scores_gdf['count']\n",
    "print(neighborhoods_with_scores_gdf[['TotDis','count','AREA_SQFT','total_risk']])"
   ]
  },
  {
   "attachments": {},
   "cell_type": "markdown",
   "metadata": {},
   "source": [
    "Add one layer of the total risk of disabilities. Another layer of original condition of the block"
   ]
  },
  {
   "cell_type": "code",
   "execution_count": 44,
   "metadata": {},
   "outputs": [
    {
     "name": "stdout",
     "output_type": "stream",
     "text": [
      "2\n"
     ]
    },
    {
     "data": {
      "text/plain": [
       "<folium.features.GeoJson at 0x17dabe41cc0>"
      ]
     },
     "execution_count": 44,
     "metadata": {},
     "output_type": "execute_result"
    }
   ],
   "source": [
    "# Add sidewalks layer to the map with color ramp based on average score\n",
    "\n",
    "folium.Choropleth(\n",
    "    geo_data=neighborhoods_with_scores_gdf,\n",
    "    name='Neighborhood Colors',\n",
    "    data=neighborhoods_with_scores_gdf,\n",
    "    columns=['FID', 'total_risk'],\n",
    "    key_on='feature.properties.FID',\n",
    "    fill_color='Reds',\n",
    "    fill_opacity=0.7,\n",
    "    line_opacity=0.2,\n",
    "    legend_name='Average Score',\n",
    "    highlight=True,\n",
    "    show=False\n",
    ").add_to(m)\n",
    "\n",
    "print(neighborhoods_with_scores_gdf['total_risk'].isna().sum())\n",
    "\n",
    "\n",
    "# Adds the ability to click the sidewalk to see the score for that sidewalk\n",
    "folium.GeoJson(\n",
    "    neighborhoods_with_scores_gdf,\n",
    "    name='Neighborhood Scores',\n",
    "    tooltip=folium.features.GeoJsonTooltip(fields=['FID'], labels=True, sticky=True),\n",
    "    style_function=lambda feature: {'weight': 1, 'color':'black', 'fillOpacity':0},\n",
    "    popup=folium.features.GeoJsonPopup(fields=[ 'Name','total_risk','TotDis','count'], labels=True, sticky=True),\n",
    "    show=False\n",
    ").add_to(m)\n",
    "\n",
    "\n",
    "\n",
    "\n",
    "# Add a layer control to the map\n",
    "# folium.LayerControl().add_to(m)\n",
    "\n",
    "# Save the map as an HTML file\n",
    "# m.save('maps/disability_scores_hazards.html')"
   ]
  },
  {
   "cell_type": "code",
   "execution_count": 45,
   "metadata": {},
   "outputs": [
    {
     "name": "stdout",
     "output_type": "stream",
     "text": [
      "2\n"
     ]
    }
   ],
   "source": [
    "# Add sidewalks layer to the map with color ramp based on average score\n",
    "# m = folium.Map(location=[42.361145, -71.057083], zoom_start=30)\n",
    "\n",
    "folium.Choropleth(\n",
    "    geo_data=neighborhoods_with_scores_gdf,\n",
    "    name='Hazards Colors',\n",
    "    data=neighborhoods_with_scores_gdf,\n",
    "    columns=['FID', 'count'],\n",
    "    key_on='feature.properties.FID',\n",
    "    fill_color='Blues',\n",
    "    fill_opacity=0.7,\n",
    "    line_opacity=0.2,\n",
    "    legend_name='Average Count',\n",
    "    highlight=True,\n",
    "    show=False\n",
    ").add_to(m)\n",
    "\n",
    "print(neighborhoods_with_scores_gdf['total_risk'].isna().sum())\n",
    "\n",
    "\n",
    "# Adds the ability to click the sidewalk to see the score for that sidewalk\n",
    "folium.GeoJson(\n",
    "    neighborhoods_with_scores_gdf,\n",
    "    name='Hazards Scores',\n",
    "    tooltip=folium.features.GeoJsonTooltip(fields=['FID'], labels=True, sticky=True),\n",
    "    style_function=lambda feature: {'weight': 1, 'color':'black', 'fillOpacity':0},\n",
    "    popup=folium.features.GeoJsonPopup(fields=[ 'Name','count'], labels=True, sticky=True),\n",
    "    show=False\n",
    ").add_to(m)\n",
    "\n",
    "\n",
    "\n",
    "\n",
    "# Add a layer control to the map\n",
    "folium.LayerControl().add_to(m)\n",
    "\n",
    "# Save the map as an HTML file\n",
    "m.save('maps/disability_scores_hazards.html')"
   ]
  }
 ],
 "metadata": {
  "kernelspec": {
   "display_name": "Python 3",
   "language": "python",
   "name": "python3"
  },
  "language_info": {
   "codemirror_mode": {
    "name": "ipython",
    "version": 3
   },
   "file_extension": ".py",
   "mimetype": "text/x-python",
   "name": "python",
   "nbconvert_exporter": "python",
   "pygments_lexer": "ipython3",
   "version": "3.10.6"
  },
  "orig_nbformat": 4
 },
 "nbformat": 4,
 "nbformat_minor": 2
}
