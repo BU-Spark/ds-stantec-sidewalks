{
 "cells": [
  {
   "attachments": {},
   "cell_type": "markdown",
   "metadata": {},
   "source": [
    "**Groupby the neighborhood blocks by old way--- ramps scores**\n",
    "\n",
    "This is used to generate neighborhood_scores_ramps.html"
   ]
  },
  {
   "cell_type": "code",
   "execution_count": 1,
   "metadata": {},
   "outputs": [
    {
     "name": "stderr",
     "output_type": "stream",
     "text": [
      "c:\\Users\\xiao\\AppData\\Local\\Programs\\Python\\Python310\\lib\\site-packages\\IPython\\core\\interactiveshell.py:3382: FutureWarning: The `op` parameter is deprecated and will be removed in a future release. Please use the `predicate` parameter instead.\n",
      "  if await self.run_code(code, result, async_=asy):\n"
     ]
    },
    {
     "name": "stdout",
     "output_type": "stream",
     "text": [
      "4256\n"
     ]
    },
    {
     "data": {
      "text/plain": [
       "<folium.features.GeoJson at 0x26ed4efc3a0>"
      ]
     },
     "execution_count": 1,
     "metadata": {},
     "output_type": "execute_result"
    }
   ],
   "source": [
    "import json\n",
    "import geojson\n",
    "from shapely.geometry import shape, Point, Polygon\n",
    "import geopandas as gpd\n",
    "import folium\n",
    "\n",
    "\n",
    "ramps_gdf = gpd.read_file('../data/Ramps New.json')\n",
    "sidewalks_gdf = gpd.read_file('../data/Sidewalks.json')\n",
    "ramps_gdf = ramps_gdf.to_crs(sidewalks_gdf.crs)\n",
    "ramps_gdf.geometry = ramps_gdf.geometry.buffer(5)\n",
    "\n",
    "joined_gdf = gpd.sjoin(sidewalks_gdf, ramps_gdf, op='intersects')\n",
    "grouped_gdf = joined_gdf.groupby('SWK_ID').agg({'FID_left': list, 'score_1': 'mean'}).reset_index()\n",
    "result_gdf = sidewalks_gdf.merge(grouped_gdf, on='SWK_ID', how='left')\n",
    "\n",
    "\n",
    "new_gdf = result_gdf\n",
    "# Create a map centered at a specific location\n",
    "m = folium.Map(location=[42.361145, -71.057083], zoom_start=30)\n",
    "\n",
    "# Add sidewalks layer to the map with color ramp based on average score\n",
    "folium.Choropleth(\n",
    "    geo_data=new_gdf,\n",
    "    name='Average Score',\n",
    "    data=new_gdf,\n",
    "    columns=['SWK_ID', 'score_1'],\n",
    "    key_on='properties.SWK_ID',\n",
    "    fill_color='RdYlBu',\n",
    "    fill_opacity=0.7,\n",
    "    line_opacity=0.2,\n",
    "    legend_name='Average Score',\n",
    "    reverse=True,\n",
    "    highlight=True,\n",
    "    show=False,\n",
    "    \n",
    ").add_to(m)\n",
    "\n",
    "#Why there are no geometry data\n",
    "print(new_gdf['score_1'].isna().sum())\n",
    "new_gdf = new_gdf.dropna(subset=['geometry'])\n",
    "\n",
    "# Adds the ability to click the sidewalk to see the score for that sidewalk\n",
    "folium.GeoJson(\n",
    "    new_gdf,\n",
    "    name='Sidewalk Scores',\n",
    "    tooltip=folium.features.GeoJsonTooltip(fields=['SWK_ID','score_1'], labels=True, sticky=True),\n",
    "    style_function=lambda feature: {'weight': 1, 'color':'black', 'fillOpacity':0},\n",
    "    popup=folium.features.GeoJsonPopup(fields=['SWK_ID','score_1'], labels=True, sticky=True),\n",
    "    show=False\n",
    ").add_to(m)\n",
    "\n",
    "\n",
    "# Add a layer control to the map\n",
    "# folium.LayerControl().add_to(m)\n",
    "\n",
    "# Save the map as an HTML file\n",
    "# m.save('maps/sidewalks_map.html')"
   ]
  },
  {
   "attachments": {},
   "cell_type": "markdown",
   "metadata": {},
   "source": [
    "Introduce the block shape geojson"
   ]
  },
  {
   "cell_type": "code",
   "execution_count": 2,
   "metadata": {},
   "outputs": [],
   "source": [
    "import json\n",
    "import geojson\n",
    "from shapely.geometry import shape, Point, Polygon\n",
    "import geopandas as gpd\n",
    "import folium\n",
    "\n",
    "neighborhoods_gdf = gpd.read_file('../data/Climate_Ready_Boston_Social_Vulnerability.geojson')\n",
    "new_gdf = gpd.read_file('../data/sidewalks_scores.json')\n",
    "sidewalk_gdf = new_gdf.to_crs(neighborhoods_gdf.crs)\n"
   ]
  },
  {
   "attachments": {},
   "cell_type": "markdown",
   "metadata": {},
   "source": [
    "Use sjoin to find the intersection of sidewalk areas with neighborhoods areas. Calculate the scores with the neighborhood IDs"
   ]
  },
  {
   "cell_type": "code",
   "execution_count": 3,
   "metadata": {},
   "outputs": [
    {
     "name": "stderr",
     "output_type": "stream",
     "text": [
      "c:\\Users\\xiao\\AppData\\Local\\Programs\\Python\\Python310\\lib\\site-packages\\IPython\\core\\interactiveshell.py:3382: FutureWarning: The `op` parameter is deprecated and will be removed in a future release. Please use the `predicate` parameter instead.\n",
      "  if await self.run_code(code, result, async_=asy):\n"
     ]
    }
   ],
   "source": [
    "joined_gdf = gpd.sjoin(sidewalk_gdf, neighborhoods_gdf, how='left', op='within')\n",
    "neighborhood_scores = joined_gdf.groupby('FID_right')['score_1'].mean().reset_index()\n",
    "neighborhood_scores = neighborhood_scores.rename(columns={'FID_right': 'FID'})\n",
    "neighborhoods_with_scores_gdf = neighborhoods_gdf.merge(neighborhood_scores, on='FID', how='left')\n",
    "neighborhoods_with_scores_gdf = neighborhoods_with_scores_gdf.dropna(subset=['score_1'])\n",
    "# print(neighborhoods_with_scores_gdf)\n",
    "\n",
    "neighborhoods_with_scores_gdf.to_file('../data/neighborhoods_with_scores.json', driver='GeoJSON')"
   ]
  },
  {
   "cell_type": "code",
   "execution_count": 4,
   "metadata": {},
   "outputs": [
    {
     "name": "stdout",
     "output_type": "stream",
     "text": [
      "0\n"
     ]
    }
   ],
   "source": [
    "\n",
    "# Add sidewalks layer to the map with color ramp based on average score\n",
    "folium.Choropleth(\n",
    "    geo_data=neighborhoods_with_scores_gdf,\n",
    "    name='Neighborhood Colors',\n",
    "    data=neighborhoods_with_scores_gdf,\n",
    "    columns=['FID', 'score_1'],\n",
    "    key_on='feature.properties.FID',\n",
    "    fill_color='RdYlBu',\n",
    "    fill_opacity=0.7,\n",
    "    line_opacity=0.2,\n",
    "    legend_name='Average Score',\n",
    "    bins=list(range(0, 101, 10)),\n",
    "    reverse=True,\n",
    "    highlight=True,\n",
    "    show=False\n",
    ").add_to(m)\n",
    "\n",
    "print(neighborhoods_with_scores_gdf['score_1'].isna().sum())\n",
    "\n",
    "\n",
    "# Adds the ability to click the sidewalk to see the score for that sidewalk\n",
    "folium.GeoJson(\n",
    "    neighborhoods_with_scores_gdf,\n",
    "    name='Neighborhood Scores',\n",
    "    tooltip=folium.features.GeoJsonTooltip(fields=['FID'], labels=True, sticky=True),\n",
    "    style_function=lambda feature: {'weight': 1, 'color':'black', 'fillOpacity':0},\n",
    "    popup=folium.features.GeoJsonPopup(fields=['score_1', 'Name'], labels=True, sticky=True),\n",
    "    show=False\n",
    ").add_to(m)\n",
    "\n",
    "\n",
    "\n",
    "\n",
    "# Add a layer control to the map\n",
    "folium.LayerControl().add_to(m)\n",
    "\n",
    "# Save the map as an HTML file\n",
    "m.save('maps/neighborhood_scores_ramps.html')"
   ]
  }
 ],
 "metadata": {
  "kernelspec": {
   "display_name": "Python 3",
   "language": "python",
   "name": "python3"
  },
  "language_info": {
   "codemirror_mode": {
    "name": "ipython",
    "version": 3
   },
   "file_extension": ".py",
   "mimetype": "text/x-python",
   "name": "python",
   "nbconvert_exporter": "python",
   "pygments_lexer": "ipython3",
   "version": "3.10.6"
  },
  "orig_nbformat": 4
 },
 "nbformat": 4,
 "nbformat_minor": 2
}
