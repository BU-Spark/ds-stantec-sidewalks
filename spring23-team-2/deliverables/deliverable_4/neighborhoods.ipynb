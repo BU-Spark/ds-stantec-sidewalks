{
 "cells": [
  {
   "attachments": {},
   "cell_type": "markdown",
   "metadata": {},
   "source": [
    "Groupby the neighborhood blocks by old way--- ramps scores"
   ]
  },
  {
   "cell_type": "code",
   "execution_count": 6,
   "metadata": {},
   "outputs": [
    {
     "name": "stderr",
     "output_type": "stream",
     "text": [
      "c:\\Users\\xiao\\AppData\\Local\\Programs\\Python\\Python310\\lib\\site-packages\\IPython\\core\\interactiveshell.py:3382: FutureWarning: The `op` parameter is deprecated and will be removed in a future release. Please use the `predicate` parameter instead.\n",
      "  if await self.run_code(code, result, async_=asy):\n"
     ]
    },
    {
     "name": "stdout",
     "output_type": "stream",
     "text": [
      "4256\n"
     ]
    },
    {
     "data": {
      "text/plain": [
       "<folium.features.GeoJson at 0x250c7f5b880>"
      ]
     },
     "execution_count": 6,
     "metadata": {},
     "output_type": "execute_result"
    }
   ],
   "source": [
    "import json\n",
    "import geojson\n",
    "from shapely.geometry import shape, Point, Polygon\n",
    "import geopandas as gpd\n",
    "import folium\n",
    "\n",
    "\n",
    "ramps_gdf = gpd.read_file('../data/Ramps New.json')\n",
    "sidewalks_gdf = gpd.read_file('../data/Sidewalks.json')\n",
    "ramps_gdf = ramps_gdf.to_crs(sidewalks_gdf.crs)\n",
    "ramps_gdf.geometry = ramps_gdf.geometry.buffer(5)\n",
    "\n",
    "joined_gdf = gpd.sjoin(sidewalks_gdf, ramps_gdf, op='intersects')\n",
    "grouped_gdf = joined_gdf.groupby('SWK_ID').agg({'FID_left': list, 'score_1': 'mean'}).reset_index()\n",
    "result_gdf = sidewalks_gdf.merge(grouped_gdf, on='SWK_ID', how='left')\n",
    "\n",
    "\n",
    "new_gdf = result_gdf\n",
    "# Create a map centered at a specific location\n",
    "m = folium.Map(location=[42.361145, -71.057083], zoom_start=30)\n",
    "\n",
    "# Add sidewalks layer to the map with color ramp based on average score\n",
    "folium.Choropleth(\n",
    "    geo_data=new_gdf,\n",
    "    name='Average Score',\n",
    "    data=new_gdf,\n",
    "    columns=['SWK_ID', 'score_1'],\n",
    "    key_on='properties.SWK_ID',\n",
    "    fill_color='RdYlBu',\n",
    "    fill_opacity=0.7,\n",
    "    line_opacity=0.2,\n",
    "    legend_name='Average Score',\n",
    "    reverse=True,\n",
    "    highlight=True,\n",
    "    show=False,\n",
    "    \n",
    ").add_to(m)\n",
    "\n",
    "#Why there are no geometry data\n",
    "print(new_gdf['score_1'].isna().sum())\n",
    "new_gdf = new_gdf.dropna(subset=['geometry'])\n",
    "\n",
    "# Adds the ability to click the sidewalk to see the score for that sidewalk\n",
    "folium.GeoJson(\n",
    "    new_gdf,\n",
    "    name='Sidewalk Scores',\n",
    "    tooltip=folium.features.GeoJsonTooltip(fields=['SWK_ID','score_1'], labels=True, sticky=True),\n",
    "    style_function=lambda feature: {'weight': 1, 'color':'black', 'fillOpacity':0},\n",
    "    popup=folium.features.GeoJsonPopup(fields=['SWK_ID','score_1'], labels=True, sticky=True),\n",
    "    show=False\n",
    ").add_to(m)\n",
    "\n",
    "\n",
    "# Add a layer control to the map\n",
    "# folium.LayerControl().add_to(m)\n",
    "\n",
    "# Save the map as an HTML file\n",
    "# m.save('maps/sidewalks_map.html')"
   ]
  },
  {
   "cell_type": "code",
   "execution_count": 7,
   "metadata": {},
   "outputs": [],
   "source": [
    "import json\n",
    "import geojson\n",
    "from shapely.geometry import shape, Point, Polygon\n",
    "import geopandas as gpd\n",
    "import folium\n",
    "\n",
    "neighborhoods_gdf = gpd.read_file('../data/Climate_Ready_Boston_Social_Vulnerability.geojson')\n",
    "new_gdf = gpd.read_file('../data/sidewalks_scores.json')\n",
    "sidewalk_gdf = new_gdf.to_crs(neighborhoods_gdf.crs)\n"
   ]
  },
  {
   "cell_type": "code",
   "execution_count": 8,
   "metadata": {},
   "outputs": [
    {
     "name": "stderr",
     "output_type": "stream",
     "text": [
      "c:\\Users\\xiao\\AppData\\Local\\Programs\\Python\\Python310\\lib\\site-packages\\IPython\\core\\interactiveshell.py:3382: FutureWarning: The `op` parameter is deprecated and will be removed in a future release. Please use the `predicate` parameter instead.\n",
      "  if await self.run_code(code, result, async_=asy):\n"
     ]
    },
    {
     "name": "stdout",
     "output_type": "stream",
     "text": [
      "     FID      GEOID10   AREA_SQFT  AREA_ACRES  POP100_RE  HU100_RE  TotDis  \\\n",
      "0      1  25025010405  3914567.54     89.8661       5522       994     470   \n",
      "1      2  25025010404  1472713.92     33.8089       5817      1862     299   \n",
      "2      3  25025010801  1376667.12     31.6039       2783      1899      84   \n",
      "3      4  25025010702  3228780.12     74.1226       2400      1643      45   \n",
      "4      5  25025010204  2741497.18     62.9361       3173      1283     131   \n",
      "..   ...          ...         ...         ...        ...       ...     ...   \n",
      "175  176  25025081800  4024571.84     92.3915       2898      1388     329   \n",
      "176  177  25025081700  6819156.25    156.5463       3820      1599     715   \n",
      "177  178  25025081500  3619583.13     83.0942       2134       905     340   \n",
      "178  179  25025081400  6678367.07    153.3142       3003      1462     268   \n",
      "179  180  25025081300  6246271.61    143.3947       4760      2111    1146   \n",
      "\n",
      "     TotChild  OlderAdult  Low_to_No   LEP  POC2  MedIllnes           Name  \\\n",
      "0          60         331       1191  1522  1755    2131.22   Mission Hill   \n",
      "1          77          56       2387  2443  1749    2201.14         Fenway   \n",
      "2         281         390         72   462   447    1214.76       Back Bay   \n",
      "3          86         285        187   472   320    1014.20       Back Bay   \n",
      "4          13          36        895   931  1039    1181.78         Fenway   \n",
      "..        ...         ...        ...   ...   ...        ...            ...   \n",
      "175       891         286       1263  1549  2820    1054.40        Roxbury   \n",
      "176      1250         420       1552  1972  3746    1404.47        Roxbury   \n",
      "177       430         197        809  1006  1957     804.02        Roxbury   \n",
      "178       314         283        791  1074  2318    1185.22  Jamaica Plain   \n",
      "179      1355         793       3109  3902  4461    1792.61  Jamaica Plain   \n",
      "\n",
      "      Shape__Area  Shape__Length  \\\n",
      "0    6.661000e+05    6036.192907   \n",
      "1    2.506124e+05    2176.592171   \n",
      "2    2.343579e+05    2542.043078   \n",
      "3    5.496140e+05    3224.573044   \n",
      "4    4.665852e+05    3143.610637   \n",
      "..            ...            ...   \n",
      "175  6.843967e+05    4191.466959   \n",
      "176  1.159715e+06    4789.149284   \n",
      "177  6.155343e+05    4824.790469   \n",
      "178  1.135953e+06    6170.176383   \n",
      "179  1.062174e+06    5552.336647   \n",
      "\n",
      "                                              geometry    score_1  \n",
      "0    POLYGON ((-71.08997 42.34393, -71.09020 42.343...  81.698296  \n",
      "1    POLYGON ((-71.08580 42.34334, -71.08505 42.342...  74.588155  \n",
      "2    POLYGON ((-71.07251 42.35546, -71.07230 42.355...  40.223152  \n",
      "3    POLYGON ((-71.07066 42.35186, -71.07046 42.351...  59.843512  \n",
      "4    POLYGON ((-71.10114 42.34777, -71.10087 42.347...  71.175771  \n",
      "..                                                 ...        ...  \n",
      "175  POLYGON ((-71.07960 42.32417, -71.07941 42.324...  81.032551  \n",
      "176  POLYGON ((-71.08345 42.32866, -71.08337 42.328...  81.174656  \n",
      "177  POLYGON ((-71.08879 42.32423, -71.08902 42.323...  69.733688  \n",
      "178  POLYGON ((-71.09535 42.33156, -71.09490 42.331...  60.002983  \n",
      "179  POLYGON ((-71.09540 42.32326, -71.09536 42.323...  66.410546  \n",
      "\n",
      "[177 rows x 18 columns]\n"
     ]
    }
   ],
   "source": [
    "joined_gdf = gpd.sjoin(sidewalk_gdf, neighborhoods_gdf, how='left', op='within')\n",
    "neighborhood_scores = joined_gdf.groupby('FID_right')['score_1'].mean().reset_index()\n",
    "neighborhood_scores = neighborhood_scores.rename(columns={'FID_right': 'FID'})\n",
    "neighborhoods_with_scores_gdf = neighborhoods_gdf.merge(neighborhood_scores, on='FID', how='left')\n",
    "neighborhoods_with_scores_gdf = neighborhoods_with_scores_gdf.dropna(subset=['score_1'])\n",
    "print(neighborhoods_with_scores_gdf)"
   ]
  },
  {
   "cell_type": "code",
   "execution_count": 9,
   "metadata": {},
   "outputs": [
    {
     "name": "stdout",
     "output_type": "stream",
     "text": [
      "0\n"
     ]
    }
   ],
   "source": [
    "\n",
    "# Add sidewalks layer to the map with color ramp based on average score\n",
    "folium.Choropleth(\n",
    "    geo_data=neighborhoods_with_scores_gdf,\n",
    "    name='Neighborhood Colors',\n",
    "    data=neighborhoods_with_scores_gdf,\n",
    "    columns=['FID', 'score_1'],\n",
    "    key_on='feature.properties.FID',\n",
    "    fill_color='RdYlBu',\n",
    "    fill_opacity=0.7,\n",
    "    line_opacity=0.2,\n",
    "    legend_name='Average Score',\n",
    "    bins=list(range(0, 101, 10)),\n",
    "    reverse=True,\n",
    "    highlight=True,\n",
    "    show=False\n",
    ").add_to(m)\n",
    "\n",
    "print(neighborhoods_with_scores_gdf['score_1'].isna().sum())\n",
    "\n",
    "\n",
    "# Adds the ability to click the sidewalk to see the score for that sidewalk\n",
    "folium.GeoJson(\n",
    "    neighborhoods_with_scores_gdf,\n",
    "    name='Neighborhood Scores',\n",
    "    tooltip=folium.features.GeoJsonTooltip(fields=['FID'], labels=True, sticky=True),\n",
    "    style_function=lambda feature: {'weight': 1, 'color':'black', 'fillOpacity':0},\n",
    "    popup=folium.features.GeoJsonPopup(fields=['score_1', 'Name'], labels=True, sticky=True),\n",
    "    show=False\n",
    ").add_to(m)\n",
    "\n",
    "\n",
    "\n",
    "\n",
    "# Add a layer control to the map\n",
    "folium.LayerControl().add_to(m)\n",
    "\n",
    "# Save the map as an HTML file\n",
    "m.save('maps/neighborhood_scores_ramps.html')"
   ]
  }
 ],
 "metadata": {
  "kernelspec": {
   "display_name": "Python 3",
   "language": "python",
   "name": "python3"
  },
  "language_info": {
   "codemirror_mode": {
    "name": "ipython",
    "version": 3
   },
   "file_extension": ".py",
   "mimetype": "text/x-python",
   "name": "python",
   "nbconvert_exporter": "python",
   "pygments_lexer": "ipython3",
   "version": "3.10.6"
  },
  "orig_nbformat": 4
 },
 "nbformat": 4,
 "nbformat_minor": 2
}
