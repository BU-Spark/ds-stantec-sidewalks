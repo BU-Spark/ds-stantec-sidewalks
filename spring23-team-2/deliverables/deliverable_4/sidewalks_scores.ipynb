{
 "cells": [
  {
   "attachments": {},
   "cell_type": "markdown",
   "metadata": {},
   "source": [
    "**The old ramp scored sidewalks with the Red ramp points highlighted.**\n",
    "\n",
    "This file is used to generate the sidewalks_map_points.html"
   ]
  },
  {
   "cell_type": "code",
   "execution_count": 1,
   "metadata": {},
   "outputs": [],
   "source": [
    "import json\n",
    "import geojson\n",
    "from shapely.geometry import shape, Point, Polygon\n",
    "import geopandas as gpd\n",
    "import folium\n",
    "\n",
    "# Load the sidewalk data\n",
    "ramps_gdf = gpd.read_file('../data/Ramps New.json')\n",
    "sidewalks_gdf = gpd.read_file('../data/Sidewalks.json')\n",
    "\n",
    "# Convert the sidewalk data to the same CRS as the ramps data\n",
    "ramps_gdf = ramps_gdf.to_crs(sidewalks_gdf.crs)\n",
    "ramps_gdf.geometry = ramps_gdf.geometry.buffer(5)"
   ]
  },
  {
   "attachments": {},
   "cell_type": "markdown",
   "metadata": {},
   "source": [
    "Get the poor ramps (The ramps scored below 20)"
   ]
  },
  {
   "cell_type": "code",
   "execution_count": 2,
   "metadata": {},
   "outputs": [
    {
     "name": "stdout",
     "output_type": "stream",
     "text": [
      "         FID  score_1                                           geometry\n",
      "34        34     10.0  POLYGON ((768159.863 2952402.649, 768159.863 2...\n",
      "44        44     10.0  POLYGON ((777964.718 2952597.815, 777964.718 2...\n",
      "47        47     10.0  POLYGON ((756467.654 2924866.408, 756467.654 2...\n",
      "49        49     10.0  POLYGON ((756423.282 2924905.711, 756423.282 2...\n",
      "138      138     10.0  POLYGON ((774896.339 2954017.682, 774896.339 2...\n",
      "...      ...      ...                                                ...\n",
      "26207  26207      0.0  POLYGON ((778766.451 2953750.680, 778766.451 2...\n",
      "26208  26208      0.0  POLYGON ((779347.991 2953680.894, 779347.991 2...\n",
      "26209  26209      0.0  POLYGON ((779345.727 2953682.906, 779345.727 2...\n",
      "26210  26210      0.0  POLYGON ((779392.425 2953655.824, 779392.425 2...\n",
      "26211  26211      0.0  POLYGON ((774055.815 2943855.194, 774055.815 2...\n",
      "\n",
      "[4239 rows x 3 columns]\n"
     ]
    }
   ],
   "source": [
    "ramps_gdf = ramps_gdf[ramps_gdf['score_1'] <=20 ]\n",
    "point_gdf = ramps_gdf.loc[:, ['FID','score_1','geometry']]\n",
    "\n",
    "# Create a buffer around the points to intersect with the sidewalks\n",
    "point_gdf.geometry = point_gdf.geometry.buffer(10)\n",
    "print(point_gdf)\n",
    "\n"
   ]
  },
  {
   "attachments": {},
   "cell_type": "markdown",
   "metadata": {},
   "source": [
    "Join the ramps points' scores with the sidewalk shapes"
   ]
  },
  {
   "cell_type": "code",
   "execution_count": 5,
   "metadata": {},
   "outputs": [
    {
     "name": "stderr",
     "output_type": "stream",
     "text": [
      "c:\\Users\\xiao\\AppData\\Local\\Programs\\Python\\Python310\\lib\\site-packages\\IPython\\core\\interactiveshell.py:3382: FutureWarning: The `op` parameter is deprecated and will be removed in a future release. Please use the `predicate` parameter instead.\n",
      "  if await self.run_code(code, result, async_=asy):\n"
     ]
    }
   ],
   "source": [
    "\n",
    "# sidewalks_gdf is the Sidewalks.json, the ramps_gdf is the Ramps New.json\n",
    "joined_gdf = gpd.sjoin(sidewalks_gdf, ramps_gdf, op='intersects')\n",
    "grouped_gdf = joined_gdf.groupby('SWK_ID').agg({'FID_left': list, 'score_1': 'mean'}).reset_index()\n",
    "result_gdf = sidewalks_gdf.merge(grouped_gdf, on='SWK_ID', how='left')\n",
    "\n",
    "# result_gdf.to_file('../data/sidewalks_scores_ramps.geojson', driver='GeoJSON')"
   ]
  },
  {
   "cell_type": "code",
   "execution_count": 10,
   "metadata": {},
   "outputs": [],
   "source": [
    "result_gdf.head()\n",
    "write_gdf = result_gdf.loc[:, ['SWK_ID', 'DISTRICT','PARENT','SEG_ID','score_1', 'geometry']]\n",
    "write_gdf.to_file('../data/sidewalks_ramp_scores.geojson', driver='GeoJSON')"
   ]
  },
  {
   "cell_type": "code",
   "execution_count": null,
   "metadata": {},
   "outputs": [],
   "source": [
    "point_gdf.to_file('../data/poor_ramps.geojson', driver='GeoJSON')"
   ]
  },
  {
   "attachments": {},
   "cell_type": "markdown",
   "metadata": {},
   "source": [
    "Generate the map and add the sidewalk shapes and scores. Then add the poor ramp points."
   ]
  },
  {
   "cell_type": "code",
   "execution_count": null,
   "metadata": {},
   "outputs": [],
   "source": [
    "\n",
    "\n",
    "new_gdf = result_gdf\n",
    "# Create a map centered at a specific location\n",
    "m = folium.Map(location=[42.361145, -71.057083], zoom_start=30)\n",
    "\n",
    "# Add sidewalks layer to the map with color ramp based on average score\n",
    "folium.Choropleth(\n",
    "    geo_data=new_gdf,\n",
    "    name='Average Score',\n",
    "    data=new_gdf,\n",
    "    columns=['SWK_ID', 'score_1'],\n",
    "    key_on='properties.SWK_ID',\n",
    "    fill_color='RdYlBu',\n",
    "    fill_opacity=0.7,\n",
    "    line_opacity=0.2,\n",
    "    legend_name='Average Score',\n",
    "    reverse=True,\n",
    "    highlight=True,\n",
    "    show=True\n",
    ").add_to(m)\n",
    "\n",
    "#Clear the empty data\n",
    "# print(new_gdf['score_1'].isna().sum())\n",
    "new_gdf = new_gdf.dropna(subset=['geometry'])\n",
    "\n",
    "# Adds the ability to click the sidewalk to see the score for that sidewalk\n",
    "folium.GeoJson(\n",
    "    new_gdf,\n",
    "    name='Sidewalk Scores',\n",
    "    tooltip=folium.features.GeoJsonTooltip(fields=['SWK_ID','score_1'], labels=True, sticky=True),\n",
    "    style_function=lambda feature: {'weight': 1, 'color':'black', 'fillOpacity':0},\n",
    "    popup=folium.features.GeoJsonPopup(fields=['SWK_ID','score_1'], labels=True, sticky=True),\n",
    "    show=True\n",
    ").add_to(m)\n",
    "\n",
    "\n",
    "# Adds the ability to click the sidewalk to see the score for that poor ramp\n",
    "folium.GeoJson(\n",
    "    point_gdf,\n",
    "    name='Ramp Scores',\n",
    "    tooltip=folium.features.GeoJsonTooltip(fields=['FID','score_1'], labels=True, sticky=True),\n",
    "    style_function=lambda feature: {'weight': 3, 'color':'red', 'fillOpacity':1},\n",
    "    popup=folium.features.GeoJsonPopup(fields=['FID','score_1'], labels=True, sticky=True),\n",
    "    show=False\n",
    ").add_to(m)\n",
    "\n",
    "\n",
    "# Add a layer control to the map\n",
    "folium.LayerControl().add_to(m)\n",
    "\n",
    "# Save the map as an HTML file\n",
    "m.save('maps/sidewalks_map_points.html')"
   ]
  }
 ],
 "metadata": {
  "kernelspec": {
   "display_name": "Python 3",
   "language": "python",
   "name": "python3"
  },
  "language_info": {
   "codemirror_mode": {
    "name": "ipython",
    "version": 3
   },
   "file_extension": ".py",
   "mimetype": "text/x-python",
   "name": "python",
   "nbconvert_exporter": "python",
   "pygments_lexer": "ipython3",
   "version": "3.10.6"
  },
  "orig_nbformat": 4
 },
 "nbformat": 4,
 "nbformat_minor": 2
}
